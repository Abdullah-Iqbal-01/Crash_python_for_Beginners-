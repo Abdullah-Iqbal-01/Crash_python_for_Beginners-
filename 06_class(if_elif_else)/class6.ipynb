{
  "nbformat": 4,
  "nbformat_minor": 0,
  "metadata": {
    "colab": {
      "provenance": [],
      "gpuType": "T4"
    },
    "kernelspec": {
      "name": "python3",
      "display_name": "Python 3"
    },
    "language_info": {
      "name": "python"
    },
    "accelerator": "GPU"
  },
  "cells": [
    {
      "cell_type": "markdown",
      "source": [
        "# if-else-elif\n",
        "```\n",
        "if logic:\n",
        "    True_block\n",
        "else:\n",
        "    False_Block\n",
        "\n",
        "```\n",
        "## Comprehensive if-else\n",
        "\n",
        "```\n",
        "True_block if logic else False_Block\n",
        "```\n",
        "\n",
        "\n",
        "*   if\n",
        "*   if-else\n",
        "*   if-elif-else\n",
        "\n"
      ],
      "metadata": {
        "id": "a0hAUKYJ9lXZ"
      }
    },
    {
      "cell_type": "code",
      "source": [
        "if True:\n",
        "  print(\"pakistan zinda bad\")\n",
        "else:\n",
        "  print(\"Hello world\")"
      ],
      "metadata": {
        "colab": {
          "base_uri": "https://localhost:8080/"
        },
        "id": "Vxq-9hEN-lKP",
        "outputId": "cbf29b1e-2699-4434-ab72-1eeadf3ae7cf"
      },
      "execution_count": null,
      "outputs": [
        {
          "output_type": "stream",
          "name": "stdout",
          "text": [
            "pakistan zinda bad\n"
          ]
        }
      ]
    },
    {
      "cell_type": "code",
      "source": [
        "if False:\n",
        "  print(\"pakistan zinda bad\")\n",
        "else:\n",
        "  print(\"Hello world\")"
      ],
      "metadata": {
        "colab": {
          "base_uri": "https://localhost:8080/"
        },
        "id": "qhtUYguR_KnW",
        "outputId": "86ed81fd-6ba4-4f57-c7ee-e33329b5e95a"
      },
      "execution_count": null,
      "outputs": [
        {
          "output_type": "stream",
          "name": "stdout",
          "text": [
            "Hello world\n"
          ]
        }
      ]
    },
    {
      "cell_type": "code",
      "source": [
        "#     True_block               logic           False_block\n",
        "print(\"pakistan zinda bad\") if True else print(\"Hello world\")"
      ],
      "metadata": {
        "colab": {
          "base_uri": "https://localhost:8080/"
        },
        "id": "wnWYfAO5--dg",
        "outputId": "de11cce3-d6c8-45f3-e6a2-8870127c6751"
      },
      "execution_count": null,
      "outputs": [
        {
          "output_type": "stream",
          "name": "stdout",
          "text": [
            "pakistan zinda bad\n"
          ]
        }
      ]
    },
    {
      "cell_type": "code",
      "source": [
        "print(\"pakistan zinda bad\") if False else print(\"Hello world\")"
      ],
      "metadata": {
        "colab": {
          "base_uri": "https://localhost:8080/"
        },
        "id": "j2SeF3Uc_RaC",
        "outputId": "fd1aceb0-3d1a-44b1-a677-a68255e688b5"
      },
      "execution_count": null,
      "outputs": [
        {
          "output_type": "stream",
          "name": "stdout",
          "text": [
            "Hello world\n"
          ]
        }
      ]
    },
    {
      "cell_type": "markdown",
      "source": [
        "# comparison operators\n",
        "\n",
        "\n",
        "\n",
        "*   ==\n",
        "*  `>=`\n",
        "*  <=\n",
        "*  !=\n",
        "\n",
        "## logic\n",
        "\n",
        "\n",
        "\n",
        "*   And\n",
        "*   or\n",
        "*   not\n",
        "\n",
        "\n",
        "\n",
        "\n"
      ],
      "metadata": {
        "id": "LvndhUFh_lvQ"
      }
    },
    {
      "cell_type": "code",
      "source": [
        "if True:\n",
        "  print(\"True_block\")\n",
        "elif False:\n",
        "  print(\"elif 1\")\n",
        "elif False:\n",
        "  print(\"elif 2\")\n",
        "elif False:\n",
        "  print(\"elif 3\")\n",
        "else:\n",
        "  print(\"else_block\")\n"
      ],
      "metadata": {
        "colab": {
          "base_uri": "https://localhost:8080/"
        },
        "id": "pps2Q0x_AWSz",
        "outputId": "aef11f6f-2d3a-4f43-84dd-52e8b185103d"
      },
      "execution_count": null,
      "outputs": [
        {
          "output_type": "stream",
          "name": "stdout",
          "text": [
            "True_block\n"
          ]
        }
      ]
    },
    {
      "cell_type": "code",
      "source": [
        "if False:\n",
        "  print(\"True_block\")\n",
        "elif True:\n",
        "  print(\"elif 1\")\n",
        "elif False:\n",
        "  print(\"elif 2\")\n",
        "elif False:\n",
        "  print(\"elif 3\")\n",
        "else:\n",
        "  print(\"else_block\")"
      ],
      "metadata": {
        "colab": {
          "base_uri": "https://localhost:8080/"
        },
        "id": "eRakE7p7BVFX",
        "outputId": "e2c4803a-e4bc-4237-db2b-abb6382e3842"
      },
      "execution_count": null,
      "outputs": [
        {
          "output_type": "stream",
          "name": "stdout",
          "text": [
            "elif 1\n"
          ]
        }
      ]
    },
    {
      "cell_type": "code",
      "source": [
        "if False:\n",
        "  print(\"True_block\")\n",
        "elif False:\n",
        "  print(\"elif 1\")\n",
        "elif True:\n",
        "  print(\"elif 2\")\n",
        "elif False:\n",
        "  print(\"elif 3\")\n",
        "else:\n",
        "  print(\"else_block\")"
      ],
      "metadata": {
        "colab": {
          "base_uri": "https://localhost:8080/"
        },
        "id": "MNLXf7N1BfCg",
        "outputId": "d0d64a27-0b12-45ce-f13d-eb0ed05b5dd6"
      },
      "execution_count": null,
      "outputs": [
        {
          "output_type": "stream",
          "name": "stdout",
          "text": [
            "elif 2\n"
          ]
        }
      ]
    },
    {
      "cell_type": "code",
      "source": [
        "if False:\n",
        "  print(\"True_block\")\n",
        "elif False:\n",
        "  print(\"elif 1\")\n",
        "elif True:\n",
        "  print(\"elif 2\")\n",
        "elif True:\n",
        "  print(\"elif 3\")\n",
        "else:\n",
        "  print(\"else_block\")"
      ],
      "metadata": {
        "colab": {
          "base_uri": "https://localhost:8080/"
        },
        "id": "mZWFop9FBnLu",
        "outputId": "f01c9223-2359-4028-c96c-60261f931fcd"
      },
      "execution_count": null,
      "outputs": [
        {
          "output_type": "stream",
          "name": "stdout",
          "text": [
            "elif 2\n"
          ]
        }
      ]
    },
    {
      "cell_type": "code",
      "source": [
        "if False:\n",
        "  print(\"True_block\")\n",
        "elif False:\n",
        "  print(\"elif 1\")\n",
        "elif False:\n",
        "  print(\"elif 2\")\n",
        "elif True:\n",
        "  print(\"elif 3\")\n",
        "else:\n",
        "  print(\"else_block\")\n",
        "\n",
        "\n",
        "print(\"pakistan\")"
      ],
      "metadata": {
        "colab": {
          "base_uri": "https://localhost:8080/"
        },
        "id": "fniYkpjvBryr",
        "outputId": "b67d85cb-db00-48f8-c987-beac1c9e4e37"
      },
      "execution_count": null,
      "outputs": [
        {
          "output_type": "stream",
          "name": "stdout",
          "text": [
            "elif 3\n",
            "pakistan\n"
          ]
        }
      ]
    },
    {
      "cell_type": "markdown",
      "source": [
        "# Grading Rule\n",
        "https://www.infoworld.com/article/3630372/get-started-with-python-type-hints.html"
      ],
      "metadata": {
        "id": "6kJI_zNIG8BP"
      }
    },
    {
      "cell_type": "code",
      "source": [
        "from typing import Union\n",
        "Percentages : list[int] = 88\n",
        "Grade : Union[str, None] = None\n",
        "\n",
        "if Percentages >= 80:\n",
        "  Grade = \"A+\"\n",
        "elif Percentages >= 70:\n",
        "  Grade = \"A\"\n",
        "elif Percentages >= 60:\n",
        "  Grade = \"B\"\n",
        "elif Percentages >= 50:\n",
        "  Grade = \"C\"\n",
        "elif Percentages >= 33:\n",
        "  Grade = \"E\"\n",
        "else:\n",
        "  Grade = \"F\"\n",
        "\n",
        "print(f\"Your Percentage is {Percentages} and your Calculated Grade is \\t {Grade}\")\n"
      ],
      "metadata": {
        "colab": {
          "base_uri": "https://localhost:8080/"
        },
        "id": "s_FFH96BHDZN",
        "outputId": "af5bd849-2b91-4947-9a1e-ee0ea820467b"
      },
      "execution_count": null,
      "outputs": [
        {
          "output_type": "stream",
          "name": "stdout",
          "text": [
            "Your Percentage is 88 and your Calculated Grade is \t A+\n"
          ]
        }
      ]
    },
    {
      "cell_type": "code",
      "source": [
        "a = input(\"Enter you Percentage \\t\")\n",
        "\n",
        "print(type(a))\n",
        "print(a)"
      ],
      "metadata": {
        "colab": {
          "base_uri": "https://localhost:8080/"
        },
        "id": "3IfNbN8iJIWU",
        "outputId": "3f2c12fd-0662-420b-a6f7-b480c3e95514"
      },
      "execution_count": null,
      "outputs": [
        {
          "output_type": "stream",
          "name": "stdout",
          "text": [
            "Enter you Percentage \t81\n",
            "<class 'str'>\n",
            "81\n"
          ]
        }
      ]
    },
    {
      "cell_type": "code",
      "source": [
        "a = int(input(\"Enter you Percentage \\t\"))\n",
        "\n",
        "print(type(a))\n",
        "print(a)"
      ],
      "metadata": {
        "colab": {
          "base_uri": "https://localhost:8080/"
        },
        "id": "5X6bX0EyJHZ9",
        "outputId": "f4480da3-94f2-4e61-f661-0c3d13e24854"
      },
      "execution_count": null,
      "outputs": [
        {
          "output_type": "stream",
          "name": "stdout",
          "text": [
            "Enter you Percentage \t81\n",
            "<class 'int'>\n",
            "81\n"
          ]
        }
      ]
    },
    {
      "cell_type": "code",
      "source": [
        "from typing import Union\n",
        "Per : list[int] = int(input(\"Enter your Percentage\\t\"))\n",
        "Grade : Union[str, None] = None\n",
        "\n",
        "if Per >= 80:\n",
        "  Grade = \"A+\"\n",
        "elif Per >= 70:\n",
        "  Grade = \"A\"\n",
        "elif Per >= 60:\n",
        "  Grade = \"B\"\n",
        "elif Per >= 50:\n",
        "  Grade = \"C\"\n",
        "elif Per >= 33:\n",
        "  Grade = \"E\"\n",
        "else:\n",
        "  Grade = \"F\"\n",
        "\n",
        "# print(type(Percentages))\n",
        "\n",
        "print(f\"Dear Student Your Percentage is {Per} and your Calculated Grade is \\t {Grade}\")"
      ],
      "metadata": {
        "colab": {
          "base_uri": "https://localhost:8080/"
        },
        "id": "oWR5aQbPI2eO",
        "outputId": "63060ffb-16fd-4377-e709-85388ea4d2d5"
      },
      "execution_count": null,
      "outputs": [
        {
          "output_type": "stream",
          "name": "stdout",
          "text": [
            "Enter your Percentage\t67\n",
            "Dear Student Your Percentage is 67 and your Calculated Grade is \t B\n"
          ]
        }
      ]
    },
    {
      "cell_type": "code",
      "source": [
        "from typing import Union\n",
        "Per : list[int] = int(input(\"Enter your Percentage\\t\"))\n",
        "Grade : Union[str, None] = None\n",
        "\n",
        "if Per >= 80:\n",
        "  Grade = \"A+\"\n",
        "elif Per >= 70:\n",
        "  Grade = \"A\"\n",
        "elif Per >= 60:\n",
        "  Grade = \"B\"\n",
        "elif Per >= 50:\n",
        "  Grade = \"C\"\n",
        "elif Per >= 33:\n",
        "  Grade = \"E\"\n",
        "else:\n",
        "  Grade = \"F\"\n",
        "\n",
        "# print(type(Percentages))\n",
        "\n",
        "print(f\"Dear Student Your Percentage is {Per} and your Calculated Grade is \\t {Grade}\")"
      ],
      "metadata": {
        "colab": {
          "base_uri": "https://localhost:8080/",
          "height": 228
        },
        "id": "7gcvMkcRJF4c",
        "outputId": "2e92c223-dfd9-498c-ec1e-9221bcb7e9e2"
      },
      "execution_count": null,
      "outputs": [
        {
          "name": "stdout",
          "output_type": "stream",
          "text": [
            "Enter your Percentage\t89.9\n"
          ]
        },
        {
          "output_type": "error",
          "ename": "ValueError",
          "evalue": "invalid literal for int() with base 10: '89.9'",
          "traceback": [
            "\u001b[0;31m---------------------------------------------------------------------------\u001b[0m",
            "\u001b[0;31mValueError\u001b[0m                                Traceback (most recent call last)",
            "\u001b[0;32m<ipython-input-11-aec5b8bff0b8>\u001b[0m in \u001b[0;36m<cell line: 2>\u001b[0;34m()\u001b[0m\n\u001b[1;32m      1\u001b[0m \u001b[0;32mfrom\u001b[0m \u001b[0mtyping\u001b[0m \u001b[0;32mimport\u001b[0m \u001b[0mUnion\u001b[0m\u001b[0;34m\u001b[0m\u001b[0;34m\u001b[0m\u001b[0m\n\u001b[0;32m----> 2\u001b[0;31m \u001b[0mPer\u001b[0m \u001b[0;34m:\u001b[0m \u001b[0mlist\u001b[0m\u001b[0;34m[\u001b[0m\u001b[0mint\u001b[0m\u001b[0;34m]\u001b[0m \u001b[0;34m=\u001b[0m \u001b[0mint\u001b[0m\u001b[0;34m(\u001b[0m\u001b[0minput\u001b[0m\u001b[0;34m(\u001b[0m\u001b[0;34m\"Enter your Percentage\\t\"\u001b[0m\u001b[0;34m)\u001b[0m\u001b[0;34m)\u001b[0m\u001b[0;34m\u001b[0m\u001b[0;34m\u001b[0m\u001b[0m\n\u001b[0m\u001b[1;32m      3\u001b[0m \u001b[0mGrade\u001b[0m \u001b[0;34m:\u001b[0m \u001b[0mUnion\u001b[0m\u001b[0;34m[\u001b[0m\u001b[0mstr\u001b[0m\u001b[0;34m,\u001b[0m \u001b[0;32mNone\u001b[0m\u001b[0;34m]\u001b[0m \u001b[0;34m=\u001b[0m \u001b[0;32mNone\u001b[0m\u001b[0;34m\u001b[0m\u001b[0;34m\u001b[0m\u001b[0m\n\u001b[1;32m      4\u001b[0m \u001b[0;34m\u001b[0m\u001b[0m\n\u001b[1;32m      5\u001b[0m \u001b[0;32mif\u001b[0m \u001b[0mPer\u001b[0m \u001b[0;34m>=\u001b[0m \u001b[0;36m80\u001b[0m\u001b[0;34m:\u001b[0m\u001b[0;34m\u001b[0m\u001b[0;34m\u001b[0m\u001b[0m\n",
            "\u001b[0;31mValueError\u001b[0m: invalid literal for int() with base 10: '89.9'"
          ]
        }
      ]
    },
    {
      "cell_type": "code",
      "source": [
        "from typing import Union\n",
        "Per : list[int , float] = float(input(\"Enter your Percentage\\t\"))\n",
        "Grade : Union[str, None] = None\n",
        "\n",
        "if Per >= 80:\n",
        "  Grade = \"A+\"\n",
        "elif Per >= 70:\n",
        "  Grade = \"A\"\n",
        "elif Per >= 60:\n",
        "  Grade = \"B\"\n",
        "elif Per >= 50:\n",
        "  Grade = \"C\"\n",
        "elif Per >= 33:\n",
        "  Grade = \"E\"\n",
        "else:\n",
        "  Grade = \"F\"\n",
        "\n",
        "# print(type(Percentages))\n",
        "\n",
        "print(f\"Dear Student Your Percentage is {Per} and your Calculated Grade is \\t {Grade}\")"
      ],
      "metadata": {
        "colab": {
          "base_uri": "https://localhost:8080/"
        },
        "id": "8c-BvpieMilI",
        "outputId": "9d5d3351-3fb1-4eb2-bfef-42a5dd15cf40"
      },
      "execution_count": 21,
      "outputs": [
        {
          "output_type": "stream",
          "name": "stdout",
          "text": [
            "Enter your Percentage\t86\n",
            "Dear Student Your Percentage is 86.0 and your Calculated Grade is \t A+\n"
          ]
        }
      ]
    },
    {
      "cell_type": "code",
      "source": [
        "from typing import Union\n",
        "Per : int | float = float(input(\"Enter your Percentage\\t\"))\n",
        "#     Union[int , float]\n",
        "Grade : Union[str, None] = None\n",
        "\n",
        "if Per >= 80:\n",
        "  Grade = \"A+\"\n",
        "elif Per >= 70:\n",
        "  Grade = \"A\"\n",
        "elif Per >= 60:\n",
        "  Grade = \"B\"\n",
        "elif Per >= 50:\n",
        "  Grade = \"C\"\n",
        "elif Per >= 33:\n",
        "  Grade = \"E\"\n",
        "else:\n",
        "  Grade = \"F\"\n",
        "\n",
        "# print(type(Percentages))\n",
        "\n",
        "print(f\"Dear Student Your Percentage is {Per} and your Calculated Grade is \\t {Grade}\")"
      ],
      "metadata": {
        "colab": {
          "base_uri": "https://localhost:8080/"
        },
        "id": "F06TZjzoMvNd",
        "outputId": "f664760a-596f-4c56-80a8-2dc74ff44918"
      },
      "execution_count": null,
      "outputs": [
        {
          "output_type": "stream",
          "name": "stdout",
          "text": [
            "Enter your Percentage\t35.9\n",
            "Dear Student Your Percentage is 35.9 and your Calculated Grade is \t E\n"
          ]
        }
      ]
    },
    {
      "cell_type": "markdown",
      "source": [
        "# Logical Error"
      ],
      "metadata": {
        "id": "idwS4LBeNIwH"
      }
    },
    {
      "cell_type": "code",
      "source": [
        "from typing import Union\n",
        "Per : int | float = float(input(\"Enter your Percentage\\t\"))\n",
        "#     Union[int , float]\n",
        "Grade : Union[str, None] = None\n",
        "\n",
        "if Per >= 0:\n",
        "  Grade = \"Fail\"\n",
        "elif Per >= 33:\n",
        "  Grade = \"E\"\n",
        "elif Per >= 40:\n",
        "  Grade = \"D\"\n",
        "elif Per >= 50:\n",
        "  Grade = \"E\"\n",
        "elif Per >= 60:\n",
        "  Grade = \"B\"\n",
        "elif Per >= 70:\n",
        "  Grade = \"A\"\n",
        "else:\n",
        "  Grade = \"A+\"\n",
        "\n",
        "# print(type(Percentages))\n",
        "\n",
        "print(f\"Dear Student Your Percentage is {Per} and your Calculated Grade is \\t {Grade}\")\n",
        "\n",
        "# Jis Bhii Student Ne Yeah Suna OS KA Heart wala tack PAkka, Man lo."
      ],
      "metadata": {
        "colab": {
          "base_uri": "https://localhost:8080/"
        },
        "id": "8qnH0mpfNSDc",
        "outputId": "845701fd-4d60-499d-afd1-e68fd8662c94"
      },
      "execution_count": null,
      "outputs": [
        {
          "output_type": "stream",
          "name": "stdout",
          "text": [
            "Enter your Percentage\t99.99\n",
            "Dear Student Your Percentage is 99.99 and your Calculated Grade is \t Fail\n"
          ]
        }
      ]
    },
    {
      "cell_type": "code",
      "source": [
        "from typing import Union\n",
        "Per : int | float = float(input(\"Enter your Percentage\\t\"))\n",
        "#     Union[int , float]\n",
        "Grade : Union[str, None] = None\n",
        "\n",
        "if Per >= 0 and Per < 33:\n",
        "  Grade = \"Fail\"\n",
        "elif Per >= 33 and Per < 40:\n",
        "  Grade = \"E\"\n",
        "elif Per >= 40 and Per < 50:\n",
        "  Grade = \"D\"\n",
        "elif Per >= 50 and Per < 60:\n",
        "  Grade = \"E\"\n",
        "elif Per >= 60 and Per < 70:\n",
        "  Grade = \"B\"\n",
        "elif Per >= 70 and Per < 80:\n",
        "  Grade = \"A\"\n",
        "else:\n",
        "  Grade = \"A+\"\n",
        "\n",
        "\n",
        "# print(type(Percentages))\n",
        "\n",
        "print(f\"Dear Student Your Percentage is {Per} and your Calculated Grade is \\t {Grade}\"\n",
        ")\n"
      ],
      "metadata": {
        "colab": {
          "base_uri": "https://localhost:8080/"
        },
        "id": "bSP_ljOvOd_V",
        "outputId": "2a0c0bc8-2d50-46e7-edb8-2517795f0363"
      },
      "execution_count": null,
      "outputs": [
        {
          "output_type": "stream",
          "name": "stdout",
          "text": [
            "Enter your Percentage\t88\n",
            "congratulations\n",
            "Dear Student Your Percentage is 88.0 and your Calculated Grade is \t None\n"
          ]
        }
      ]
    },
    {
      "cell_type": "markdown",
      "source": [
        "# Percentage Rule\n"
      ],
      "metadata": {
        "id": "JM-CY_hsmsBq"
      }
    },
    {
      "cell_type": "code",
      "source": [
        "from typing import Union\n",
        "PerType = Union[int, float]\n",
        "\n",
        "percentages : list [PerType] = [88, 99.8 , 70 , 66 , 44, 55]\n",
        "\n",
        "grades : list[str] = []\n",
        "\n",
        "for Per in percentages:\n",
        "  Grade : str = \"\"\n",
        "  if Per >= 0 and Per < 33:\n",
        "    Grade = \"Fail\"\n",
        "  elif Per >= 33 and Per < 40:\n",
        "    Grade = \"E\"\n",
        "  elif Per >= 40 and Per < 50:\n",
        "    Grade = \"D\"\n",
        "  elif Per >= 50 and Per < 60:\n",
        "    Grade = \"E\"\n",
        "  elif Per >= 60 and Per < 70:\n",
        "    Grade = \"B\"\n",
        "  elif Per >= 70 and Per < 80:\n",
        "    Grade = \"A\"\n",
        "  else:\n",
        "    Grade = \"A+\"\n",
        "\n",
        "  grades.append(Grade)\n",
        "\n",
        "\n",
        "print(percentages)\n",
        "print(grades)\n"
      ],
      "metadata": {
        "colab": {
          "base_uri": "https://localhost:8080/"
        },
        "id": "x5-xQwzmmrtK",
        "outputId": "d4b2d878-7237-4c32-ce87-5ec3dcd69619"
      },
      "execution_count": null,
      "outputs": [
        {
          "output_type": "stream",
          "name": "stdout",
          "text": [
            "[88, 99.8, 70, 66, 44, 55]\n",
            "['A+', 'A+', 'A', 'B', 'D', 'E']\n"
          ]
        }
      ]
    },
    {
      "cell_type": "code",
      "source": [
        "list(zip(percentages, grades))"
      ],
      "metadata": {
        "colab": {
          "base_uri": "https://localhost:8080/"
        },
        "id": "Fh493z9Fps81",
        "outputId": "a97db7d0-f888-4174-aed4-d48e3f05d453"
      },
      "execution_count": null,
      "outputs": [
        {
          "output_type": "execute_result",
          "data": {
            "text/plain": [
              "[(88, 'A+'), (99.8, 'A+'), (70, 'A'), (66, 'B'), (44, 'D'), (55, 'E')]"
            ]
          },
          "metadata": {},
          "execution_count": 11
        }
      ]
    },
    {
      "cell_type": "code",
      "source": [
        "roll_no : list[int] = list(range(len(percentages)))\n",
        "roll_no"
      ],
      "metadata": {
        "colab": {
          "base_uri": "https://localhost:8080/"
        },
        "id": "HtrjE50vqALl",
        "outputId": "fd778602-f11d-4e2b-e56b-cb1f6b6dcafc"
      },
      "execution_count": null,
      "outputs": [
        {
          "output_type": "execute_result",
          "data": {
            "text/plain": [
              "[0, 1, 2, 3, 4, 5]"
            ]
          },
          "metadata": {},
          "execution_count": 15
        }
      ]
    },
    {
      "cell_type": "code",
      "source": [
        "data_base = list(zip(roll_no , percentages , grades))\n",
        "data_base"
      ],
      "metadata": {
        "colab": {
          "base_uri": "https://localhost:8080/"
        },
        "id": "4llQE8GFq9Qa",
        "outputId": "7c966329-7844-4a54-f423-eee91a6e46a3"
      },
      "execution_count": null,
      "outputs": [
        {
          "output_type": "execute_result",
          "data": {
            "text/plain": [
              "[(0, 88, 'A+'),\n",
              " (1, 99.8, 'A+'),\n",
              " (2, 70, 'A'),\n",
              " (3, 66, 'B'),\n",
              " (4, 44, 'D'),\n",
              " (5, 55, 'E')]"
            ]
          },
          "metadata": {},
          "execution_count": 18
        }
      ]
    },
    {
      "cell_type": "code",
      "source": [
        "display(data_base)\n",
        "sorted(data_base)"
      ],
      "metadata": {
        "colab": {
          "base_uri": "https://localhost:8080/",
          "height": 225
        },
        "id": "qVBiA4ITrfPH",
        "outputId": "1079d993-7260-489b-885e-53d7b49e2e26"
      },
      "execution_count": null,
      "outputs": [
        {
          "output_type": "display_data",
          "data": {
            "text/plain": [
              "[(0, 88, 'A+'),\n",
              " (1, 99.8, 'A+'),\n",
              " (2, 70, 'A'),\n",
              " (3, 66, 'B'),\n",
              " (4, 44, 'D'),\n",
              " (5, 55, 'E')]"
            ]
          },
          "metadata": {}
        },
        {
          "output_type": "execute_result",
          "data": {
            "text/plain": [
              "[(0, 88, 'A+'),\n",
              " (1, 99.8, 'A+'),\n",
              " (2, 70, 'A'),\n",
              " (3, 66, 'B'),\n",
              " (4, 44, 'D'),\n",
              " (5, 55, 'E')]"
            ]
          },
          "metadata": {},
          "execution_count": 20
        }
      ]
    },
    {
      "cell_type": "code",
      "source": [
        "display(data_base)\n",
        "sorted(data_base , key = lambda x : x[1])"
      ],
      "metadata": {
        "colab": {
          "base_uri": "https://localhost:8080/",
          "height": 225
        },
        "id": "-tjsQz4psRgi",
        "outputId": "331a4b12-2159-4a66-e0be-b59c28b90efa"
      },
      "execution_count": null,
      "outputs": [
        {
          "output_type": "display_data",
          "data": {
            "text/plain": [
              "[(0, 88, 'A+'),\n",
              " (1, 99.8, 'A+'),\n",
              " (2, 70, 'A'),\n",
              " (3, 66, 'B'),\n",
              " (4, 44, 'D'),\n",
              " (5, 55, 'E')]"
            ]
          },
          "metadata": {}
        },
        {
          "output_type": "execute_result",
          "data": {
            "text/plain": [
              "[(4, 44, 'D'),\n",
              " (5, 55, 'E'),\n",
              " (3, 66, 'B'),\n",
              " (2, 70, 'A'),\n",
              " (0, 88, 'A+'),\n",
              " (1, 99.8, 'A+')]"
            ]
          },
          "metadata": {},
          "execution_count": 21
        }
      ]
    },
    {
      "cell_type": "code",
      "source": [
        "display(data_base)\n",
        "sorted(data_base , key = lambda x : x[1] , reverse = True)"
      ],
      "metadata": {
        "colab": {
          "base_uri": "https://localhost:8080/",
          "height": 225
        },
        "id": "t-k2vi8dsYi5",
        "outputId": "06bd579b-892c-4707-d68c-7fab60bd2889"
      },
      "execution_count": null,
      "outputs": [
        {
          "output_type": "display_data",
          "data": {
            "text/plain": [
              "[(0, 88, 'A+'),\n",
              " (1, 99.8, 'A+'),\n",
              " (2, 70, 'A'),\n",
              " (3, 66, 'B'),\n",
              " (4, 44, 'D'),\n",
              " (5, 55, 'E')]"
            ]
          },
          "metadata": {}
        },
        {
          "output_type": "execute_result",
          "data": {
            "text/plain": [
              "[(1, 99.8, 'A+'),\n",
              " (0, 88, 'A+'),\n",
              " (2, 70, 'A'),\n",
              " (3, 66, 'B'),\n",
              " (5, 55, 'E'),\n",
              " (4, 44, 'D')]"
            ]
          },
          "metadata": {},
          "execution_count": 22
        }
      ]
    },
    {
      "cell_type": "code",
      "source": [
        "from typing import Union\n",
        "PerType = Union[int, float]\n",
        "Per : list[PerType] = float(input(\"Enter your Percentage\\t\"))\n",
        "#     Union[int , float]\n",
        "grades : list[str] = []\n",
        "\n",
        "if Per >= 0 and Per < 33:\n",
        "  grade :str = \"\"\n",
        "  Grade = \"Fail\"\n",
        "elif Per >= 33 and Per < 40:\n",
        "  Grade = \"E\"\n",
        "elif Per >= 40 and Per < 50:\n",
        "  Grade = \"D\"\n",
        "elif Per >= 50 and Per < 60:\n",
        "  Grade = \"E\"\n",
        "elif Per >= 60 and Per < 70:\n",
        "  Grade = \"B\"\n",
        "elif Per >= 70 and Per < 80:\n",
        "  Grade = \"A\"\n",
        "else:\n",
        "  Grade = \"A+\"\n",
        "\n",
        "roll_no : list[int] = list(range(len(percentages)))\n",
        "roll_no\n",
        "data_base = list(zip(roll_no , percentages , grades))\n",
        "data_base\n",
        "display(data_base)\n",
        "sorted(data_base , key = lambda x : x[1] , reverse= True)\n",
        "\n",
        "\n",
        "# print(type(Percentages))\n",
        "\n",
        "print(f\"Dear Student Your Percentage is {Per} and your Calculated Grade is \\t {Grade}\"\n",
        ")\n"
      ],
      "metadata": {
        "colab": {
          "base_uri": "https://localhost:8080/",
          "height": 69
        },
        "id": "PU3u5n3BstqX",
        "outputId": "e1a6ff2a-16ef-48f2-ca12-ab121bd75d55"
      },
      "execution_count": null,
      "outputs": [
        {
          "name": "stdout",
          "output_type": "stream",
          "text": [
            "Enter your Percentage\t70\n"
          ]
        },
        {
          "output_type": "display_data",
          "data": {
            "text/plain": [
              "[]"
            ]
          },
          "metadata": {}
        },
        {
          "output_type": "stream",
          "name": "stdout",
          "text": [
            "Dear Student Your Percentage is 70.0 and your Calculated Grade is \t A\n"
          ]
        }
      ]
    },
    {
      "cell_type": "code",
      "source": [
        "cars :list[str] = [\"Audi\" , \"carolla\" , \"Masadez\" , \"Civic\" , \"bmw\"]\n",
        "\n",
        "for car in cars:\n",
        "  if car == \"Audi\":\n",
        "    print(car.upper())\n",
        "  else:\n",
        "    print(car)"
      ],
      "metadata": {
        "colab": {
          "base_uri": "https://localhost:8080/"
        },
        "id": "cBkc68GjHRdJ",
        "outputId": "af5ee60b-6a93-4097-e5e8-d7951ab1ad59"
      },
      "execution_count": 9,
      "outputs": [
        {
          "output_type": "stream",
          "name": "stdout",
          "text": [
            "AUDI\n",
            "carolla\n",
            "Masadez\n",
            "Civic\n",
            "bmw\n"
          ]
        }
      ]
    },
    {
      "cell_type": "code",
      "source": [
        "car == \"Audi\"\n",
        "car.upper()"
      ],
      "metadata": {
        "colab": {
          "base_uri": "https://localhost:8080/",
          "height": 36
        },
        "id": "4Ev8Q1hpJc2E",
        "outputId": "6b335ed2-b3f9-40d8-ee67-7f1e3b2ef256"
      },
      "execution_count": 5,
      "outputs": [
        {
          "output_type": "execute_result",
          "data": {
            "text/plain": [
              "'AUDI'"
            ],
            "application/vnd.google.colaboratory.intrinsic+json": {
              "type": "string"
            }
          },
          "metadata": {},
          "execution_count": 5
        }
      ]
    },
    {
      "cell_type": "code",
      "source": [
        "car == \"bmw\"\n",
        "car.lower()"
      ],
      "metadata": {
        "colab": {
          "base_uri": "https://localhost:8080/",
          "height": 36
        },
        "id": "4uGckxpZJwRk",
        "outputId": "b3d22f35-3d84-4b85-d3c8-0ab27553aabe"
      },
      "execution_count": 8,
      "outputs": [
        {
          "output_type": "execute_result",
          "data": {
            "text/plain": [
              "'audi'"
            ],
            "application/vnd.google.colaboratory.intrinsic+json": {
              "type": "string"
            }
          },
          "metadata": {},
          "execution_count": 8
        }
      ]
    },
    {
      "cell_type": "code",
      "source": [
        "cars :list[str] = [\"Audi\" , \"carolla\" , \"Masadez\" , \"Civic\" , \"bmw\"]\n",
        "\n",
        "[i.upper() if i == \"Audi\" else i.lower()for i in cars ]"
      ],
      "metadata": {
        "colab": {
          "base_uri": "https://localhost:8080/"
        },
        "id": "nFhtJhfjKJlH",
        "outputId": "3a8d4790-b8b8-492e-f415-e53693ab0869"
      },
      "execution_count": 10,
      "outputs": [
        {
          "output_type": "execute_result",
          "data": {
            "text/plain": [
              "['AUDI', 'carolla', 'masadez', 'civic', 'bmw']"
            ]
          },
          "metadata": {},
          "execution_count": 10
        }
      ]
    },
    {
      "cell_type": "code",
      "source": [
        "Answer = 25\n",
        "if Answer != 45:\n",
        "  print(\"YOur answer is wrong please Try again\")\n",
        "else:\n",
        "  print(\"Your Answer is Correct\")"
      ],
      "metadata": {
        "colab": {
          "base_uri": "https://localhost:8080/"
        },
        "id": "yL_Pj6yhK_K1",
        "outputId": "7402d355-b828-47a5-c972-6d53ea022150"
      },
      "execution_count": 12,
      "outputs": [
        {
          "output_type": "stream",
          "name": "stdout",
          "text": [
            "YOur answer is wrong please Try again\n"
          ]
        }
      ]
    },
    {
      "cell_type": "code",
      "source": [
        "cars :list[str] = [\"Audi\" , \"carolla\" , \"Masadez\" , \"Civic\" , \"bmw\"]\n",
        "\n",
        "\"Laqbataq\" in cars"
      ],
      "metadata": {
        "colab": {
          "base_uri": "https://localhost:8080/"
        },
        "id": "7OaiyDeaLo7M",
        "outputId": "ade0d4b9-cb82-46b0-9068-74c9400f746f"
      },
      "execution_count": 13,
      "outputs": [
        {
          "output_type": "execute_result",
          "data": {
            "text/plain": [
              "False"
            ]
          },
          "metadata": {},
          "execution_count": 13
        }
      ]
    },
    {
      "cell_type": "code",
      "source": [
        "cars :list[str] = [\"Audi\" , \"carolla\" , \"Masadez\" , \"Civic\" , \"bmw\"]\n",
        "\n",
        "\"Audi\" in cars"
      ],
      "metadata": {
        "colab": {
          "base_uri": "https://localhost:8080/"
        },
        "id": "TzewOIzpL2Ye",
        "outputId": "8464de40-866c-49d2-d535-a7f3d4365694"
      },
      "execution_count": 15,
      "outputs": [
        {
          "output_type": "execute_result",
          "data": {
            "text/plain": [
              "True"
            ]
          },
          "metadata": {},
          "execution_count": 15
        }
      ]
    },
    {
      "cell_type": "code",
      "source": [
        "Fired_staff : list [str] = [\"Zubair\" , \"Ali\" , \"Laqbataq\" , \"Khajor\" , \"Hammad\"]\n",
        "\n",
        "new_member : str = \"Qadir\"\n",
        "print(new_member not in Fired_staff)\n",
        "\n",
        "if new_member not in Fired_staff:\n",
        "  print(f\"{new_member} You can join us as soon as possible\")\n"
      ],
      "metadata": {
        "colab": {
          "base_uri": "https://localhost:8080/"
        },
        "id": "UlZ-EshGMM0a",
        "outputId": "1865fff6-8f14-4265-9513-6764da620206"
      },
      "execution_count": 16,
      "outputs": [
        {
          "output_type": "stream",
          "name": "stdout",
          "text": [
            "True\n",
            "Qadir You can join us as soon as possible\n"
          ]
        }
      ]
    },
    {
      "cell_type": "code",
      "source": [
        "age: int = 17\n",
        "if age >= 18:\n",
        "    print(\"You are old enough to vote!\")\n",
        "    print(\"Have you registered to vote yet?\")\n",
        "else:\n",
        "    print(\"Sorry, you are too young to vote.\")\n",
        "    print(\"Please register to vote as soon as you turn 18!\")"
      ],
      "metadata": {
        "colab": {
          "base_uri": "https://localhost:8080/"
        },
        "id": "CqMB9raLNpjV",
        "outputId": "47e242a9-3545-4604-b986-65c646696d36"
      },
      "execution_count": 17,
      "outputs": [
        {
          "output_type": "stream",
          "name": "stdout",
          "text": [
            "Sorry, you are too young to vote.\n",
            "Please register to vote as soon as you turn 18!\n"
          ]
        }
      ]
    },
    {
      "cell_type": "code",
      "source": [
        "age = 12\n",
        "if age < 4:\n",
        "    print(\"Your admission cost is $0.\")\n",
        "elif age < 18:\n",
        "    print(\"Your admission cost is $25.\")\n",
        "else:\n",
        "      print(\"Your admission cost is $40.\")"
      ],
      "metadata": {
        "colab": {
          "base_uri": "https://localhost:8080/"
        },
        "id": "9fa_-dX_ODBc",
        "outputId": "cfef89b7-7f29-4d4a-8007-0899cb44d6cd"
      },
      "execution_count": 18,
      "outputs": [
        {
          "output_type": "stream",
          "name": "stdout",
          "text": [
            "Your admission cost is $25.\n"
          ]
        }
      ]
    },
    {
      "cell_type": "code",
      "source": [
        "menu = []\n",
        "\n",
        "\n",
        "\n",
        "def add_menu(item):\n",
        "    if item in menu:\n",
        "        print(f\"{menu} is already in the menu.\")\n",
        "    else:\n",
        "        menu.append(item)\n",
        "        print(f\"{item} added to the menu.\")\n",
        "\n",
        "def remove_item(item):\n",
        "    if item in menu:\n",
        "        menu.remove(item)\n",
        "        print(f\"{item} removed from the menu.\")\n",
        "    else:\n",
        "        print(f\"{item} is not in the menu.\")\n",
        "\n",
        "def view_menu():\n",
        "    if menu:\n",
        "        print(\"Items in your menu:\")\n",
        "        for item in menu:\n",
        "            print(f\"- {item}\")\n",
        "    else:\n",
        "        print(\"Your menu is empty.\")\n",
        "\n",
        "# Shopping cart interaction\n",
        "while True:\n",
        "    print(\"\\n1. Add menu\\n2. Remove menu\\n3. View menu\\n4. Exit\")\n",
        "    choice : str | int = int(input(\"Enter your choice: \"))\n",
        "\n",
        "    if choice == 1:\n",
        "        item_to_add = str(input(\"Enter the Menu to add: \"))\n",
        "        add_menu(item_to_add)\n",
        "    elif choice == 2:\n",
        "        item_to_remove = str(input(\"Enter the Menu to remove: \"))\n",
        "        remove_item(item_to_remove)\n",
        "    elif choice == 3:\n",
        "        view_menu()\n",
        "    elif choice == 4:\n",
        "        print(\"Exiting shopping cart.\")\n",
        "        break\n",
        "    else:\n",
        "        print(\"Invalid choice, please select a valid option.\")\n",
        "\n",
        "\n"
      ],
      "metadata": {
        "colab": {
          "base_uri": "https://localhost:8080/"
        },
        "id": "_YmlGnwqPNcX",
        "outputId": "d80ca5a3-48ea-47cc-cb1c-834b9d55ed5a"
      },
      "execution_count": 45,
      "outputs": [
        {
          "output_type": "stream",
          "name": "stdout",
          "text": [
            "\n",
            "1. Add menu\n",
            "2. Remove menu\n",
            "3. View menu\n",
            "4. Exit\n",
            "Enter your choice: 1\n",
            "Enter the Menu to add: Tikka\n",
            "Tikka added to the menu.\n",
            "\n",
            "1. Add menu\n",
            "2. Remove menu\n",
            "3. View menu\n",
            "4. Exit\n",
            "Enter your choice: 3\n",
            "Items in your menu:\n",
            "- Tikka\n",
            "\n",
            "1. Add menu\n",
            "2. Remove menu\n",
            "3. View menu\n",
            "4. Exit\n",
            "Enter your choice: 2\n",
            "Enter the Menu to remove: Tikka\n",
            "Tikka removed from the menu.\n",
            "\n",
            "1. Add menu\n",
            "2. Remove menu\n",
            "3. View menu\n",
            "4. Exit\n",
            "Enter your choice: 4\n",
            "Exiting shopping cart.\n"
          ]
        }
      ]
    },
    {
      "cell_type": "code",
      "source": [
        "menu = []  # Initialize the menu as a list\n",
        "\n",
        "def add_menu(item):\n",
        "    if item in menu:\n",
        "        print(f\"{item} is already in the menu.\")\n",
        "    else:\n",
        "        menu.append(item)\n",
        "        print(f\"{item} added to the menu.\")\n",
        "\n",
        "def remove_item(item):\n",
        "    if item in menu:\n",
        "        menu.remove(item)\n",
        "        print(f\"{item} removed from the menu.\")\n",
        "    else:\n",
        "        print(f\"{item} is not in the menu.\")\n",
        "\n",
        "def view_menu():\n",
        "    if menu:\n",
        "        print(\"Items in your menu:\")\n",
        "        for item in menu:\n",
        "            print(f\"- {item}\")\n",
        "    else:\n",
        "        print(\"Your menu is empty.\")\n",
        "\n",
        "# Shopping cart interaction\n",
        "while True:\n",
        "    print(\"\\n1. Add menu\\n2. Remove menu\\n3. View menu\\n4. Exit\")\n",
        "    choice = int(input(\"Enter your choice: \"))\n",
        "\n",
        "    if choice == 1:\n",
        "        item_to_add = str(input(\"Enter the menu item to add: \"))\n",
        "        add_menu(item_to_add)  # Call add_menu to add the item\n",
        "    elif choice == 2:\n",
        "        item_to_remove = str(input(\"Enter the menu item to remove: \"))\n",
        "        remove_item(item_to_remove)\n",
        "    elif choice == 3:\n",
        "        view_menu()\n",
        "    elif choice == 4:\n",
        "        print(\"Exiting menu cart.\")\n",
        "        break\n",
        "    else:\n",
        "        print(\"Invalid choice, please select a valid option.\")\n"
      ],
      "metadata": {
        "colab": {
          "base_uri": "https://localhost:8080/"
        },
        "id": "JND6WvQ1XIn2",
        "outputId": "c73cde01-9772-4856-bc52-265790144603"
      },
      "execution_count": 44,
      "outputs": [
        {
          "output_type": "stream",
          "name": "stdout",
          "text": [
            "\n",
            "1. Add menu\n",
            "2. Remove menu\n",
            "3. View menu\n",
            "4. Exit\n",
            "Enter your choice: 1\n",
            "Enter the menu item to add: Tikka\n",
            "Tikka added to the menu.\n",
            "\n",
            "1. Add menu\n",
            "2. Remove menu\n",
            "3. View menu\n",
            "4. Exit\n",
            "Enter your choice: 3\n",
            "Items in your menu:\n",
            "- Tikka\n",
            "\n",
            "1. Add menu\n",
            "2. Remove menu\n",
            "3. View menu\n",
            "4. Exit\n",
            "Enter your choice: 4\n",
            "Exiting shopping cart.\n"
          ]
        }
      ]
    },
    {
      "cell_type": "code",
      "source": [
        "user_name : str = input(\"Enter your user name\")\n",
        "user_passwrod : str = input(\"Enter your password\")\n",
        "if user_name == 'admin' and user_passwrod == 'admin':\n",
        "    print(\"sent otp on you registered number\")\n",
        "    otp : str = input(\"Please inter otp\")\n",
        "    if otp == '123':\n",
        "        print(\"Welcom PIAIC\")\n",
        "else:\n",
        "    print(\"Invalid user or password\")"
      ],
      "metadata": {
        "colab": {
          "base_uri": "https://localhost:8080/"
        },
        "id": "HhrxMLFUYFRE",
        "outputId": "e0b5d21b-06a6-4ebd-9a2d-d2b1a985dca0"
      },
      "execution_count": 47,
      "outputs": [
        {
          "output_type": "stream",
          "name": "stdout",
          "text": [
            "Enter your user nameAbdullah\n",
            "Enter your password123\n",
            "Invalid user or password\n"
          ]
        }
      ]
    }
  ]
}