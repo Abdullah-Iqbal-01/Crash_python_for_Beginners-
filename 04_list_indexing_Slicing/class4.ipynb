{
 "cells": [
  {
   "cell_type": "markdown",
   "metadata": {},
   "source": [
    "# List\n",
    "### dynamic length\n",
    "### hetrogenous data types (Multiple type)\n",
    "### index\n",
    "        #### postive 0 to n-1\n",
    "        #### negative -1 to length\n",
    "## slicing\n",
    "       variable names[start:end:step]\n",
    "        start : int = include\n",
    "        end : int = n-1\n",
    "        step : int = sequance"
   ]
  },
  {
   "cell_type": "code",
   "execution_count": 2,
   "metadata": {},
   "outputs": [
    {
     "name": "stdout",
     "output_type": "stream",
     "text": [
      "['Mango', 'Strawbarry']\n"
     ]
    }
   ],
   "source": [
    "Fruits = [\"Apple\" , \"Mango\" , \"Strawbarry\"]\n",
    "\n",
    "print(Fruits[1:3])"
   ]
  },
  {
   "cell_type": "code",
   "execution_count": 17,
   "metadata": {},
   "outputs": [
    {
     "name": "stdout",
     "output_type": "stream",
     "text": [
      "['Apple', 'Mango', 'Strawbarry']\n"
     ]
    }
   ],
   "source": [
    "Fruits=[\"Apple\" , \"Mango\" , \"Strawbarry\"]\n",
    "\n",
    "print(Fruits)\n",
    "\n"
   ]
  },
  {
   "cell_type": "markdown",
   "metadata": {},
   "source": [
    "# Slicing"
   ]
  },
  {
   "cell_type": "code",
   "execution_count": 26,
   "metadata": {},
   "outputs": [
    {
     "name": "stdout",
     "output_type": "stream",
     "text": [
      "['Abdullah', 'Hammeed', 'Qadir']\n"
     ]
    }
   ],
   "source": [
    "from typing import Any\n",
    "#                          0             1          2           3         4         5\n",
    "Students : list[Any] = [\"Abdullah\" , \"Hammeed\" , \"Qadir\" , \"Shazaib\" , \"Uzair\" , \"Qasim\"]\n",
    "#                         -6             -5         -4          -3          -2       -1\n",
    "print(Students[0:3]) "
   ]
  },
  {
   "cell_type": "code",
   "execution_count": 27,
   "metadata": {},
   "outputs": [
    {
     "name": "stdout",
     "output_type": "stream",
     "text": [
      "['Qasim', 'Uzair', 'Shazaib', 'Qadir']\n"
     ]
    }
   ],
   "source": [
    "Students : list[Any] = [\"Abdullah\" , \"Hammeed\" , \"Qadir\" , \"Shazaib\" , \"Uzair\" , \"Qasim\"]\n",
    "#                         -6             -5         -4          -3          -2       -1\n",
    "print(Students[-1:-5:-1]) "
   ]
  },
  {
   "cell_type": "code",
   "execution_count": 36,
   "metadata": {},
   "outputs": [
    {
     "name": "stdout",
     "output_type": "stream",
     "text": [
      "<class 'list'>\n",
      "<class 'str'>\n",
      "Founder of School ABDULLAH\n"
     ]
    }
   ],
   "source": [
    "#                          0             1          2           3         4         5\n",
    "Students : list[Any] = [\"Abdullah\" , \"Hammeed\" , \"Qadir\" , \"Shazaib\" , \"Uzair\" , \"Qasim\"]\n",
    "#                         -6             -5         -4          -3          -2       -1\n",
    "\n",
    "print(type (Students))\n",
    "print(type (Students[0]))\n",
    "print(f'Founder of School {Students[0].upper()}')"
   ]
  },
  {
   "cell_type": "code",
   "execution_count": 32,
   "metadata": {},
   "outputs": [
    {
     "name": "stdout",
     "output_type": "stream",
     "text": [
      "Founder of PIAIC SIR ZIA\n"
     ]
    }
   ],
   "source": [
    "# ->                    0        1         2\n",
    "names : list[Any] = [\"Qasim\",\"Sir Zia\", \"Sir Inam\"]\n",
    "# <-                    -3     -2          -1\n",
    "\n",
    "# print(type(names))\n",
    "# print(type(names[-2]))\n",
    "\n",
    "print(f'Founder of PIAIC {names[-2].upper()}')"
   ]
  },
  {
   "cell_type": "code",
   "execution_count": 38,
   "metadata": {},
   "outputs": [
    {
     "name": "stdout",
     "output_type": "stream",
     "text": [
      "['H', 'G', 'F', 'E', 'D', 'C', 'B', 'A']\n"
     ]
    }
   ],
   "source": [
    "#                          0    1    2    3    4   5     6    7\n",
    "characters : list[str] = ['A', 'B', 'C', 'D', 'E', 'F', 'G', 'H']\n",
    "#                         -8    -7   -6  -5    -4   -3   -2   -1\n",
    "\n",
    "# iteration slicing ->\n",
    "# step -> positive\n",
    "# step <- negative\n",
    "print(characters[::-1]) "
   ]
  },
  {
   "cell_type": "markdown",
   "metadata": {},
   "source": [
    "# Python Lists"
   ]
  },
  {
   "cell_type": "code",
   "execution_count": 39,
   "metadata": {},
   "outputs": [
    {
     "data": {
      "text/plain": [
       "['append',\n",
       " 'clear',\n",
       " 'copy',\n",
       " 'count',\n",
       " 'extend',\n",
       " 'index',\n",
       " 'insert',\n",
       " 'pop',\n",
       " 'remove',\n",
       " 'reverse',\n",
       " 'sort']"
      ]
     },
     "execution_count": 39,
     "metadata": {},
     "output_type": "execute_result"
    }
   ],
   "source": [
    "[i for i in dir(list) if \"__\" not in i]"
   ]
  },
  {
   "cell_type": "code",
   "execution_count": 46,
   "metadata": {},
   "outputs": [
    {
     "name": "stdout",
     "output_type": "stream",
     "text": [
      "H\n",
      "['A', 'B', 'C', 'D', 'E', 'F', 'G']\n",
      "['A', 'B', 'C', 'D', 'E', 'F', 'G']\n"
     ]
    }
   ],
   "source": [
    "# Pop (For removing last elemnts of index)\n",
    "\n",
    "#                          0    1    2    3    4   5     6    7\n",
    "characters : list[str] = ['A', 'B', 'C', 'D', 'E', 'F', 'G', 'H']\n",
    "#                         -8   -7   -6   -5   -4   -3   -2   -1\n",
    "\n",
    "print(characters.pop()) # for removing last elemnts\n",
    "\n",
    "print(characters)\n",
    "print(characters)\n"
   ]
  },
  {
   "cell_type": "code",
   "execution_count": 59,
   "metadata": {},
   "outputs": [
    {
     "name": "stdout",
     "output_type": "stream",
     "text": [
      "['Abdullah', 'Hammeed', 'Qadir', 'Uzair', 'Qasim']\n"
     ]
    }
   ],
   "source": [
    "#                          0             1          2           3         4         5\n",
    "Students : list[Any] = [\"Abdullah\" , \"Hammeed\" , \"Qadir\" , \"Shazaib\" , \"Uzair\" , \"Qasim\"]\n",
    "#                         -6             -5         -4          -3          -2       -1\n",
    "\n",
    "Students.remove(\"Shazaib\")\n",
    "\n",
    "print(Students)"
   ]
  },
  {
   "cell_type": "code",
   "execution_count": 62,
   "metadata": {},
   "outputs": [
    {
     "name": "stdout",
     "output_type": "stream",
     "text": [
      "['Abdullah', 'Hammeed', 'Qadir', 'Shazaib', 'Uzair', 'Qasim', 'Abdullah']\n"
     ]
    }
   ],
   "source": [
    "#                          0             1          2           3         4         5\n",
    "Students : list[Any] = [\"Abdullah\" , \"Hammeed\" , \"Qadir\" , \"Shazaib\" , \"Uzair\" , \"Qasim\"]\n",
    "#                         -6             -5         -4          -3          -2       -1\n",
    "\n",
    "Students.append()\n",
    "\n",
    "print(Students)"
   ]
  }
 ],
 "metadata": {
  "kernelspec": {
   "display_name": "Python 3",
   "language": "python",
   "name": "python3"
  },
  "language_info": {
   "codemirror_mode": {
    "name": "ipython",
    "version": 3
   },
   "file_extension": ".py",
   "mimetype": "text/x-python",
   "name": "python",
   "nbconvert_exporter": "python",
   "pygments_lexer": "ipython3",
   "version": "3.12.4"
  }
 },
 "nbformat": 4,
 "nbformat_minor": 2
}
