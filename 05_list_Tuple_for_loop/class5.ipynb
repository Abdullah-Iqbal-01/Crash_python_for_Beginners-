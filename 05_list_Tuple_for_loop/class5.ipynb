{
  "nbformat": 4,
  "nbformat_minor": 0,
  "metadata": {
    "colab": {
      "provenance": [],
      "gpuType": "T4"
    },
    "kernelspec": {
      "name": "python3",
      "display_name": "Python 3"
    },
    "language_info": {
      "name": "python"
    },
    "accelerator": "GPU"
  },
  "cells": [
    {
      "cell_type": "markdown",
      "source": [
        "# List\n",
        "  \n",
        "\n",
        "*   iteration operation with loop\n",
        "*    apply any operation on element\n",
        "\n"
      ],
      "metadata": {
        "id": "mBHPG5E9u_Cn"
      }
    },
    {
      "cell_type": "code",
      "source": [
        "names :list[str] = [\"Abdullah\" , \"Qadir\", \"Mustafa\", \"Hamzah\"]\n",
        "print(names)"
      ],
      "metadata": {
        "colab": {
          "base_uri": "https://localhost:8080/"
        },
        "id": "qGGowqbUvWMZ",
        "outputId": "9a080a21-12f7-4670-94c1-2c394388fee3"
      },
      "execution_count": 2,
      "outputs": [
        {
          "output_type": "stream",
          "name": "stdout",
          "text": [
            "['Abdullah', 'Qadir', 'Mustafa', 'Hamzah']\n"
          ]
        }
      ]
    },
    {
      "cell_type": "code",
      "source": [
        "for name in names:\n",
        "  print(name)"
      ],
      "metadata": {
        "colab": {
          "base_uri": "https://localhost:8080/"
        },
        "id": "66Nfn2DUv8Np",
        "outputId": "3c3042e8-422c-44a8-86e6-c6325ecc01bf"
      },
      "execution_count": 3,
      "outputs": [
        {
          "output_type": "stream",
          "name": "stdout",
          "text": [
            "Abdullah\n",
            "Qadir\n",
            "Mustafa\n",
            "Hamzah\n"
          ]
        }
      ]
    },
    {
      "cell_type": "code",
      "source": [
        "for name in names[0:3]: # 3 + -1 =  2 => [0 , 1 ,2]\n",
        "  print(name)"
      ],
      "metadata": {
        "colab": {
          "base_uri": "https://localhost:8080/"
        },
        "id": "y6Hr6F9QwiDw",
        "outputId": "890093f3-7f8e-4442-f29f-0cfb5391d3fd"
      },
      "execution_count": 5,
      "outputs": [
        {
          "output_type": "stream",
          "name": "stdout",
          "text": [
            "Abdullah\n",
            "Qadir\n",
            "Mustafa\n"
          ]
        }
      ]
    },
    {
      "cell_type": "markdown",
      "source": [
        "# this Iteration in JavaScript Method\n",
        "\n",
        "    names = names = ['Sir Zia', \"Muhammad Qasim\", \"DR Noman\"]\n",
        "\n",
        "*    for(i=0; i<names.length; i++){\n",
        "  *  names[i]\n",
        "*         }"
      ],
      "metadata": {
        "id": "QKeXzWyLxT-a"
      }
    },
    {
      "cell_type": "code",
      "source": [
        "names = ['Abdullah', \"Qadir\", \"Mustafa\"]\n",
        "\n",
        "i:int = 0 # counter = 0\n",
        "\n",
        "while i<len(names): # names length =3\n",
        "    print(names[i])\n",
        "    i += 1\n",
        "\n"
      ],
      "metadata": {
        "colab": {
          "base_uri": "https://localhost:8080/"
        },
        "id": "ran9cU4kw02Q",
        "outputId": "77fc9db7-4f92-4117-97a6-46524a9f3822"
      },
      "execution_count": 8,
      "outputs": [
        {
          "output_type": "stream",
          "name": "stdout",
          "text": [
            "Abdullah\n",
            "Qadir\n",
            "Mustafa\n"
          ]
        }
      ]
    },
    {
      "cell_type": "code",
      "source": [
        "names = [\"Sir Qasim\" ,'Abdullah', \"Qadir\"]\n",
        "\n",
        "for name in names:\n",
        "    print(f\"Welcome Dear Teacher {name}\")\n",
        "    print(\"At our Today's Session\\n\")\n",
        "\n",
        "print(\"Thanks to ALL For joining us\")"
      ],
      "metadata": {
        "colab": {
          "base_uri": "https://localhost:8080/"
        },
        "id": "DZSB8ASVyPrg",
        "outputId": "7b034aac-4c48-43fa-e42a-dc5d39663fab"
      },
      "execution_count": 10,
      "outputs": [
        {
          "output_type": "stream",
          "name": "stdout",
          "text": [
            "Welcome Dear Teacher Sir Qasim\n",
            "At our Today's Session\n",
            "\n",
            "Welcome Dear Teacher Abdullah\n",
            "At our Today's Session\n",
            "\n",
            "Welcome Dear Teacher Qadir\n",
            "At our Today's Session\n",
            "\n",
            "Thanks to ALL For joining us\n"
          ]
        }
      ]
    },
    {
      "cell_type": "code",
      "source": [
        "names = [\"Sir Qasim\" ,'Abdullah', \"Qadir\", ]\n",
        "\n",
        "for name in names[0:2]: # it's Called Slicing\n",
        "    print(f\"Welcome Dear Teacher {name}\")\n",
        "    print(\"At our Today's Session\\n\")\n",
        "\n",
        "print(\"Thanks to joining us\")"
      ],
      "metadata": {
        "colab": {
          "base_uri": "https://localhost:8080/"
        },
        "id": "glKpjB6hzaJX",
        "outputId": "a4479fdd-9d3c-4214-be9c-ed629f1aa1c6"
      },
      "execution_count": 11,
      "outputs": [
        {
          "output_type": "stream",
          "name": "stdout",
          "text": [
            "Welcome Dear Teacher Sir Qasim\n",
            "At our Today's Session\n",
            "\n",
            "Welcome Dear Teacher Abdullah\n",
            "At our Today's Session\n",
            "\n",
            "Thanks to joining us\n"
          ]
        }
      ]
    },
    {
      "cell_type": "code",
      "source": [
        "names = [\"Sir Qasim\" ,'Abdullah', \"Qadir\", ]\n",
        "\n",
        "for name in names: # it's Called Slicing\n",
        "    print(f\"Welcome Dear Teacher {name.upper()}\")\n",
        "    print(\"At our Today's Session\\n\")\n",
        "\n",
        "print(\"Thanks to joining us\")"
      ],
      "metadata": {
        "colab": {
          "base_uri": "https://localhost:8080/"
        },
        "id": "BxEtRrka0hO8",
        "outputId": "3f5ed0b6-1307-4029-9e83-0e9a5eb395b2"
      },
      "execution_count": 1,
      "outputs": [
        {
          "output_type": "stream",
          "name": "stdout",
          "text": [
            "Welcome Dear Teacher SIR QASIM\n",
            "At our Today's Session\n",
            "\n",
            "Welcome Dear Teacher ABDULLAH\n",
            "At our Today's Session\n",
            "\n",
            "Welcome Dear Teacher QADIR\n",
            "At our Today's Session\n",
            "\n",
            "Thanks to joining us\n"
          ]
        }
      ]
    },
    {
      "cell_type": "markdown",
      "source": [
        "# Tuples\n",
        "## What is a Tuple?\n",
        "A tuple is an immutable collection of ordered elements. Tuples are like lists, but their values cannot be changed after assignment. Tuples are defined using parentheses ()."
      ],
      "metadata": {
        "id": "qaOwfymk1Iqv"
      }
    },
    {
      "cell_type": "code",
      "source": [
        "Data_base : tuple[str , str]  = [(\"Abdullah\" , \"123\"),\n",
        "                                 (\"Qadir\" , '234'),\n",
        "                                  (\"Ali\" , '444')]\n",
        "\n",
        "\n",
        "for data in Data_base:\n",
        "    print(data)"
      ],
      "metadata": {
        "colab": {
          "base_uri": "https://localhost:8080/"
        },
        "id": "Ie_ehMcZ1NiW",
        "outputId": "767a649a-f7cb-4836-fa72-3f0696772060"
      },
      "execution_count": 13,
      "outputs": [
        {
          "output_type": "stream",
          "name": "stdout",
          "text": [
            "('Abdullah', '123')\n",
            "('Qadir', '234')\n",
            "('Ali', '444')\n"
          ]
        }
      ]
    },
    {
      "cell_type": "code",
      "source": [
        "# this is your practice\n",
        "# Please think and resolve this Error\n",
        "\n",
        "Data_base : tuple[str , str]  = [(\"Abdullah\" , \"123\"),\n",
        "                                 (\"Qadir\" , '234'),\n",
        "                                  (\"Ali\" , '444')]\n",
        "\n",
        "for data in Data_base:\n",
        "  user , password = data\n",
        "   print(user , password)"
      ],
      "metadata": {
        "id": "_QmCr4JC3Tsr",
        "colab": {
          "base_uri": "https://localhost:8080/",
          "height": 106
        },
        "outputId": "ac9d4f3b-3d4e-4605-b876-8f64676f6b45"
      },
      "execution_count": 2,
      "outputs": [
        {
          "output_type": "error",
          "ename": "IndentationError",
          "evalue": "unexpected indent (<ipython-input-2-b1ae1a3e55e3>, line 10)",
          "traceback": [
            "\u001b[0;36m  File \u001b[0;32m\"<ipython-input-2-b1ae1a3e55e3>\"\u001b[0;36m, line \u001b[0;32m10\u001b[0m\n\u001b[0;31m    print(user , password)\u001b[0m\n\u001b[0m    ^\u001b[0m\n\u001b[0;31mIndentationError\u001b[0m\u001b[0;31m:\u001b[0m unexpected indent\n"
          ]
        }
      ]
    },
    {
      "cell_type": "code",
      "source": [
        "Data_base : tuple[str , str]  = [(\"Abdullah\" , \"123\"),\n",
        "                                 (\"Qadir\" , '234'),\n",
        "                                  (\"Ali\" , '444')]\n",
        "\n",
        "for data in Data_base:\n",
        "  user , password = data\n",
        "  print(user , password)"
      ],
      "metadata": {
        "colab": {
          "base_uri": "https://localhost:8080/"
        },
        "id": "eJQMnMYZ2FBd",
        "outputId": "784d24b8-5ec1-4678-83d6-3a86a71e096a"
      },
      "execution_count": 3,
      "outputs": [
        {
          "output_type": "stream",
          "name": "stdout",
          "text": [
            "Abdullah 123\n",
            "Qadir 234\n",
            "Ali 444\n"
          ]
        }
      ]
    },
    {
      "cell_type": "code",
      "source": [
        "input_user :str = input(\"Enter you name\\t\")\n",
        "print(input_user)"
      ],
      "metadata": {
        "colab": {
          "base_uri": "https://localhost:8080/"
        },
        "id": "TXWaA_uL4ETB",
        "outputId": "58f87414-9d3c-4b64-cf18-2751adf11f3f"
      },
      "execution_count": 9,
      "outputs": [
        {
          "output_type": "stream",
          "name": "stdout",
          "text": [
            "Enter you name\tSehikh Sahab\n",
            "Sehikh Sahab\n"
          ]
        }
      ]
    },
    {
      "cell_type": "code",
      "source": [
        "Data_base : tuple[str , str]  = [(\"Abdullah\" , \"123\"),\n",
        "                                 (\"Qadir\" , '234'),\n",
        "                                  (\"Ali\" , '444')]\n",
        "input_user : str = input(\"Enter Your User Name\\n\")\n",
        "input_password : str = input(\"Enter Your Password\\n\")\n",
        "\n",
        "for data in Data_base:\n",
        "  user , password = data\n",
        "  if user.lower() == input_user.lower() and password == input_password:\n",
        "    print(f\"{user} Login Successfully\")\n",
        "    break\n",
        "else:\n",
        "    print(\"Login Failed\")"
      ],
      "metadata": {
        "colab": {
          "base_uri": "https://localhost:8080/"
        },
        "id": "vwaCzFRL36Ya",
        "outputId": "5593907e-d208-49fe-e66a-ad8f68011b05"
      },
      "execution_count": null,
      "outputs": [
        {
          "output_type": "stream",
          "name": "stdout",
          "text": [
            "Enter Your User Name\n",
            "Qadir\n",
            "Enter Your Password\n",
            "234\n",
            "Qadir Login Successfully\n"
          ]
        }
      ]
    },
    {
      "cell_type": "code",
      "source": [
        "names:list[str] = ['Sir Zia', \"Muhammad Qasim\", \"DR Noman\"]\n",
        "\n",
        "for name in names:\n",
        "print(name)"
      ],
      "metadata": {
        "colab": {
          "base_uri": "https://localhost:8080/",
          "height": 106
        },
        "id": "f4DRVaa2GmKU",
        "outputId": "b23c4cdb-399b-4c3b-b3d5-1c2fd4950895"
      },
      "execution_count": null,
      "outputs": [
        {
          "output_type": "error",
          "ename": "IndentationError",
          "evalue": "expected an indented block after 'for' statement on line 3 (<ipython-input-79-c114a3ba4e9a>, line 4)",
          "traceback": [
            "\u001b[0;36m  File \u001b[0;32m\"<ipython-input-79-c114a3ba4e9a>\"\u001b[0;36m, line \u001b[0;32m4\u001b[0m\n\u001b[0;31m    print(name)\u001b[0m\n\u001b[0m    ^\u001b[0m\n\u001b[0;31mIndentationError\u001b[0m\u001b[0;31m:\u001b[0m expected an indented block after 'for' statement on line 3\n"
          ]
        }
      ]
    },
    {
      "cell_type": "code",
      "source": [
        "names = [\"Sir Qasim\" ,'Abdullah', \"Qadir\", ]\n",
        "\n",
        "for name in names:\n",
        " print(name)"
      ],
      "metadata": {
        "colab": {
          "base_uri": "https://localhost:8080/"
        },
        "id": "kxhhMHC7GpWC",
        "outputId": "abb88675-c083-4446-8e89-fe1a76b15b44"
      },
      "execution_count": null,
      "outputs": [
        {
          "output_type": "stream",
          "name": "stdout",
          "text": [
            "Sir Qasim\n",
            "Abdullah\n",
            "Qadir\n"
          ]
        }
      ]
    },
    {
      "cell_type": "code",
      "source": [
        "names:list[str] = ['Sir Zia', \"Muhammad Qasim\", \"DR Noman\"]\n",
        "\n",
        "for name in names\n",
        "    print(name)"
      ],
      "metadata": {
        "colab": {
          "base_uri": "https://localhost:8080/",
          "height": 106
        },
        "id": "QMf_CavhG_ja",
        "outputId": "f5e3d647-1362-4da2-f6f0-485a4e7986b7"
      },
      "execution_count": null,
      "outputs": [
        {
          "output_type": "error",
          "ename": "SyntaxError",
          "evalue": "expected ':' (<ipython-input-82-42315eb2fcba>, line 3)",
          "traceback": [
            "\u001b[0;36m  File \u001b[0;32m\"<ipython-input-82-42315eb2fcba>\"\u001b[0;36m, line \u001b[0;32m3\u001b[0m\n\u001b[0;31m    for name in names\u001b[0m\n\u001b[0m                     ^\u001b[0m\n\u001b[0;31mSyntaxError\u001b[0m\u001b[0;31m:\u001b[0m expected ':'\n"
          ]
        }
      ]
    },
    {
      "cell_type": "code",
      "source": [
        "names : list[str] = [\"Sir Qasim\" ,'Abdullah', \"Qadir\", ]\n",
        "\n",
        "for name in names:\n",
        "    print(name)"
      ],
      "metadata": {
        "colab": {
          "base_uri": "https://localhost:8080/"
        },
        "id": "J25P5AwFHBfD",
        "outputId": "f79e5c9e-bec6-4742-fdcc-64135bb03609"
      },
      "execution_count": null,
      "outputs": [
        {
          "output_type": "stream",
          "name": "stdout",
          "text": [
            "Sir Qasim\n",
            "Abdullah\n",
            "Qadir\n"
          ]
        }
      ]
    },
    {
      "cell_type": "code",
      "source": [
        "greetings = \"Hello Python How Are you!\"\n",
        " print(greetings)"
      ],
      "metadata": {
        "colab": {
          "base_uri": "https://localhost:8080/",
          "height": 106
        },
        "id": "aEyB-O9-HfNo",
        "outputId": "5092edd5-1456-4f2e-c157-6dcd7933b357"
      },
      "execution_count": null,
      "outputs": [
        {
          "output_type": "error",
          "ename": "IndentationError",
          "evalue": "unexpected indent (<ipython-input-85-77e53d586af1>, line 2)",
          "traceback": [
            "\u001b[0;36m  File \u001b[0;32m\"<ipython-input-85-77e53d586af1>\"\u001b[0;36m, line \u001b[0;32m2\u001b[0m\n\u001b[0;31m    print(greetings)\u001b[0m\n\u001b[0m    ^\u001b[0m\n\u001b[0;31mIndentationError\u001b[0m\u001b[0;31m:\u001b[0m unexpected indent\n"
          ]
        }
      ]
    },
    {
      "cell_type": "code",
      "source": [
        "greetings = \"Hello Python How Are you!\"\n",
        "print(greetings)"
      ],
      "metadata": {
        "colab": {
          "base_uri": "https://localhost:8080/"
        },
        "id": "ejJ6jz6hHvdI",
        "outputId": "0f8dd7ea-4370-4de4-d2c7-d7e29130f205"
      },
      "execution_count": null,
      "outputs": [
        {
          "output_type": "stream",
          "name": "stdout",
          "text": [
            "Hello Python How Are you!\n"
          ]
        }
      ]
    },
    {
      "cell_type": "code",
      "source": [
        "Students : list[str] = [\"Ali\", \"Bala\" , \"Lagbataq\" , \"Chacho\" , \"NanKachori\"]\n",
        "\n",
        "for student in Students:\n",
        "    print(f\"Hello That's a great news {student}!!\")\n",
        "    print(f\"We are going to School Picnic on sunday {student}!!\\n\")\n",
        "\n",
        "print(\"Every Student Be Raady on Time\") # last message for everyone\n"
      ],
      "metadata": {
        "colab": {
          "base_uri": "https://localhost:8080/"
        },
        "id": "7BfigIg6ITaa",
        "outputId": "062f117e-9466-4cc3-b2cd-92b7ac95af9f"
      },
      "execution_count": null,
      "outputs": [
        {
          "output_type": "stream",
          "name": "stdout",
          "text": [
            "Hello That's a great news Ali!!\n",
            "We are going to School Picnic on sunday Ali!!\n",
            "\n",
            "Hello That's a great news Bala!!\n",
            "We are going to School Picnic on sunday Bala!!\n",
            "\n",
            "Hello That's a great news Lagbataq!!\n",
            "We are going to School Picnic on sunday Lagbataq!!\n",
            "\n",
            "Hello That's a great news Chacho!!\n",
            "We are going to School Picnic on sunday Chacho!!\n",
            "\n",
            "Hello That's a great news NanKachori!!\n",
            "We are going to School Picnic on sunday NanKachori!!\n",
            "\n",
            "Every Student Be Raady on Time\n"
          ]
        }
      ]
    },
    {
      "cell_type": "code",
      "source": [
        "# enumerate showing all index numbers\n",
        "#              0        1         2\n",
        "magicians = ['alice', 'david', 'carolina']\n",
        "\n",
        "list(enumerate(magicians))"
      ],
      "metadata": {
        "colab": {
          "base_uri": "https://localhost:8080/"
        },
        "id": "5ZQPHsVZKinO",
        "outputId": "5b802ff1-6678-489e-95ec-4b3607541123"
      },
      "execution_count": null,
      "outputs": [
        {
          "output_type": "execute_result",
          "data": {
            "text/plain": [
              "[(0, 'alice'), (1, 'david'), (2, 'carolina')]"
            ]
          },
          "metadata": {},
          "execution_count": 96
        }
      ]
    },
    {
      "cell_type": "code",
      "source": [
        "magicians = ['alice', 'david', 'carolina']\n",
        "\n",
        "for index , value in enumerate(magicians):\n",
        "    print(index , value)"
      ],
      "metadata": {
        "colab": {
          "base_uri": "https://localhost:8080/"
        },
        "id": "0K_-GohHLQ_m",
        "outputId": "e42fdf92-010a-4341-dfa6-7a2d92a31ff7"
      },
      "execution_count": 1,
      "outputs": [
        {
          "output_type": "stream",
          "name": "stdout",
          "text": [
            "0 alice\n",
            "1 david\n",
            "2 carolina\n"
          ]
        }
      ]
    },
    {
      "cell_type": "markdown",
      "source": [
        "#  Numbers with loop\n",
        "* range(start,end,step)"
      ],
      "metadata": {
        "id": "QAltd3KIjZ-B"
      }
    },
    {
      "cell_type": "code",
      "source": [
        "range(10)"
      ],
      "metadata": {
        "colab": {
          "base_uri": "https://localhost:8080/"
        },
        "id": "Ov5UIf4VjeXU",
        "outputId": "a2fea0ca-9419-4469-e181-171115465694"
      },
      "execution_count": 10,
      "outputs": [
        {
          "output_type": "execute_result",
          "data": {
            "text/plain": [
              "range(0, 10)"
            ]
          },
          "metadata": {},
          "execution_count": 10
        }
      ]
    },
    {
      "cell_type": "code",
      "source": [
        "list(range(10)) # Bhaia Samjho esko Yaha Pr 0 se HoRaha He start and Last Number me se n-1 means Ak number (-)."
      ],
      "metadata": {
        "colab": {
          "base_uri": "https://localhost:8080/"
        },
        "id": "M9U1whcMjs5k",
        "outputId": "b9df3189-a1ed-4a85-c164-32ae38c029e1"
      },
      "execution_count": 12,
      "outputs": [
        {
          "output_type": "execute_result",
          "data": {
            "text/plain": [
              "[0, 1, 2, 3, 4, 5, 6, 7, 8, 9]"
            ]
          },
          "metadata": {},
          "execution_count": 12
        }
      ]
    },
    {
      "cell_type": "code",
      "source": [
        "list(range(2,21,2))"
      ],
      "metadata": {
        "colab": {
          "base_uri": "https://localhost:8080/"
        },
        "id": "sDxCadSrlRLK",
        "outputId": "ac0e47d6-1eac-47ab-e575-7a8c7ecc8c16"
      },
      "execution_count": 15,
      "outputs": [
        {
          "output_type": "execute_result",
          "data": {
            "text/plain": [
              "[2, 4, 6, 8, 10, 12, 14, 16, 18, 20]"
            ]
          },
          "metadata": {},
          "execution_count": 15
        }
      ]
    },
    {
      "cell_type": "code",
      "source": [
        "for num in range(1,11):\n",
        "    print(num)"
      ],
      "metadata": {
        "colab": {
          "base_uri": "https://localhost:8080/"
        },
        "id": "TyiTf05KlgSY",
        "outputId": "2d4fd588-cb22-487b-be31-f81d67c1c0a4"
      },
      "execution_count": 16,
      "outputs": [
        {
          "output_type": "stream",
          "name": "stdout",
          "text": [
            "1\n",
            "2\n",
            "3\n",
            "4\n",
            "5\n",
            "6\n",
            "7\n",
            "8\n",
            "9\n",
            "10\n"
          ]
        }
      ]
    },
    {
      "cell_type": "code",
      "source": [
        "for num in range(1, 11):\n",
        "    print(f\"2 x {num} = {num * 2}\")"
      ],
      "metadata": {
        "colab": {
          "base_uri": "https://localhost:8080/"
        },
        "id": "fcs8d5YMlqKY",
        "outputId": "f4b053f2-445f-4fea-9993-cf3d2b896b8e"
      },
      "execution_count": 19,
      "outputs": [
        {
          "output_type": "stream",
          "name": "stdout",
          "text": [
            "2 x 1 = 2\n",
            "2 x 2 = 4\n",
            "2 x 3 = 6\n",
            "2 x 4 = 8\n",
            "2 x 5 = 10\n",
            "2 x 6 = 12\n",
            "2 x 7 = 14\n",
            "2 x 8 = 16\n",
            "2 x 9 = 18\n",
            "2 x 10 = 20\n"
          ]
        }
      ]
    },
    {
      "cell_type": "code",
      "source": [
        "for num in range(1, 11):\n",
        "    print(f\"3 x {num} = {num * 3}\")"
      ],
      "metadata": {
        "colab": {
          "base_uri": "https://localhost:8080/"
        },
        "id": "xcUJ9ZbymR0Z",
        "outputId": "3b1887c3-9199-4aac-dbe1-5a1e56e86370"
      },
      "execution_count": 20,
      "outputs": [
        {
          "output_type": "stream",
          "name": "stdout",
          "text": [
            "3 x 1 = 3\n",
            "3 x 2 = 6\n",
            "3 x 3 = 9\n",
            "3 x 4 = 12\n",
            "3 x 5 = 15\n",
            "3 x 6 = 18\n",
            "3 x 7 = 21\n",
            "3 x 8 = 24\n",
            "3 x 9 = 27\n",
            "3 x 10 = 30\n"
          ]
        }
      ]
    },
    {
      "cell_type": "code",
      "source": [
        "squares :list[num] = []\n",
        "\n",
        "for Value in range(1, 11):\n",
        "  square = Value ** 2\n",
        "  squares.append(square)\n",
        "\n",
        "print(squares)"
      ],
      "metadata": {
        "colab": {
          "base_uri": "https://localhost:8080/"
        },
        "id": "q46mhWmumgmU",
        "outputId": "eeb86c2e-8769-42d8-a5c5-62fd40de0907"
      },
      "execution_count": 21,
      "outputs": [
        {
          "output_type": "stream",
          "name": "stdout",
          "text": [
            "[1, 4, 9, 16, 25, 36, 49, 64, 81, 100]\n"
          ]
        }
      ]
    },
    {
      "cell_type": "markdown",
      "source": [
        "# list comprehensive\n",
        "## Normal Loop\n",
        "\n",
        "* for item in item_list:\n",
        "*     * Loop_body\n",
        "\n",
        "\n",
        "\n"
      ],
      "metadata": {
        "id": "SnQFgttinu1r"
      }
    },
    {
      "cell_type": "markdown",
      "source": [
        "# Comprehensive Style\n",
        "*   [loop_bodu for item in items_list]   \n",
        "\n"
      ],
      "metadata": {
        "id": "-N6G8wDTogcj"
      }
    },
    {
      "cell_type": "code",
      "source": [
        "'line1'\n",
        "'line2'\n",
        "'line3' # always return last line"
      ],
      "metadata": {
        "colab": {
          "base_uri": "https://localhost:8080/",
          "height": 36
        },
        "id": "sk4F2rZDpiuP",
        "outputId": "47f19143-9dcd-4ce1-aaa1-915bc23e342c"
      },
      "execution_count": 25,
      "outputs": [
        {
          "output_type": "execute_result",
          "data": {
            "text/plain": [
              "'line3'"
            ],
            "application/vnd.google.colaboratory.intrinsic+json": {
              "type": "string"
            }
          },
          "metadata": {},
          "execution_count": 25
        }
      ]
    },
    {
      "cell_type": "code",
      "source": [
        "[staff for staff in Staff]"
      ],
      "metadata": {
        "colab": {
          "base_uri": "https://localhost:8080/"
        },
        "id": "pPzKxx_CpmTV",
        "outputId": "3fe280e1-aa8a-4714-e184-52fdd5740865"
      },
      "execution_count": 26,
      "outputs": [
        {
          "output_type": "execute_result",
          "data": {
            "text/plain": [
              "['Abdullah', 'Qadir', 'Ali', 'Mustafa']"
            ]
          },
          "metadata": {},
          "execution_count": 26
        }
      ]
    },
    {
      "cell_type": "code",
      "source": [
        "Staff :list[str] = [\"Abdullah\", \"Qadir\", \"Ali\" , \"Mustafa\"]\n",
        "\n",
        "for staff in Staff:\n",
        "  print(staff)"
      ],
      "metadata": {
        "colab": {
          "base_uri": "https://localhost:8080/"
        },
        "id": "vxYaQFgro6by",
        "outputId": "791f27cb-a3b4-415c-e107-1514ecaa59c0"
      },
      "execution_count": 22,
      "outputs": [
        {
          "output_type": "stream",
          "name": "stdout",
          "text": [
            "Abdullah\n",
            "Qadir\n",
            "Ali\n",
            "Mustafa\n"
          ]
        }
      ]
    },
    {
      "cell_type": "code",
      "source": [
        "Staff :list[str] = [\"Abdullah\", \"Qadir\", \"Ali\" , \"Mustafa\"]\n",
        "\n",
        "[staff for staff in Staff]\n",
        ""
      ],
      "metadata": {
        "colab": {
          "base_uri": "https://localhost:8080/"
        },
        "id": "7CMSNoe9pR07",
        "outputId": "04256291-6563-4d5a-c40c-bdb202044fea"
      },
      "execution_count": 24,
      "outputs": [
        {
          "output_type": "execute_result",
          "data": {
            "text/plain": [
              "['Abdullah', 'Qadir', 'Ali', 'Mustafa']"
            ]
          },
          "metadata": {},
          "execution_count": 24
        }
      ]
    },
    {
      "cell_type": "code",
      "source": [
        "numbers :list[int] = [1,2,3,4,5,6,7,8,9,0]\n",
        "\n",
        "print(numbers)\n",
        "print(max(numbers))\n",
        "print(min(numbers))\n",
        "print(sum(numbers))"
      ],
      "metadata": {
        "colab": {
          "base_uri": "https://localhost:8080/"
        },
        "id": "c-Bl4DnJp0Ea",
        "outputId": "5a51e873-94a1-4c6a-e839-cf4e28fc3724"
      },
      "execution_count": 30,
      "outputs": [
        {
          "output_type": "stream",
          "name": "stdout",
          "text": [
            "[1, 2, 3, 4, 5, 6, 7, 8, 9, 0]\n",
            "9\n",
            "0\n",
            "45\n"
          ]
        }
      ]
    },
    {
      "cell_type": "code",
      "source": [
        "menu_item :list[str] = [\"Chicken\", \"Beef pulao\" , \"Tikka\" , \"Biryani\" , \"Karahi\"]\n",
        "change_menu = menu_item[:]\n",
        "\n",
        "print(menu_item)\n",
        "print(change_menu)\n",
        "\n",
        "change_menu [0] = \"Fish\"\n",
        "\n",
        "print(menu_item)\n",
        "print(change_menu)\n"
      ],
      "metadata": {
        "colab": {
          "base_uri": "https://localhost:8080/"
        },
        "id": "wNRHWKvFqsw2",
        "outputId": "c4b181a0-4202-4a54-d5fa-a1cbab504e38"
      },
      "execution_count": 32,
      "outputs": [
        {
          "output_type": "stream",
          "name": "stdout",
          "text": [
            "['Chicken', 'Beef pulao', 'Tikka', 'Biryani', 'Karahi']\n",
            "['Chicken', 'Beef pulao', 'Tikka', 'Biryani', 'Karahi']\n",
            "['Chicken', 'Beef pulao', 'Tikka', 'Biryani', 'Karahi']\n",
            "['Fish', 'Beef pulao', 'Tikka', 'Biryani', 'Karahi']\n"
          ]
        }
      ]
    },
    {
      "cell_type": "code",
      "source": [
        "menu_item :list[str] = [\"Chicken\", \"Beef pulao\" , \"Tikka\" , \"Biryani\" , \"Karahi\"]\n",
        "change_menu = menu_item[:] # deep Copy\n",
        "\n",
        "print(menu_item)\n",
        "print(change_menu)\n",
        "\n",
        "change_menu.append(\"Fish\")\n",
        "\n",
        "print(menu_item)\n",
        "print(change_menu)\n"
      ],
      "metadata": {
        "colab": {
          "base_uri": "https://localhost:8080/"
        },
        "id": "ReEk7lO_soD9",
        "outputId": "c4e6c2aa-8ccc-4f64-83de-fd4c91feef01"
      },
      "execution_count": 35,
      "outputs": [
        {
          "output_type": "stream",
          "name": "stdout",
          "text": [
            "['Chicken', 'Beef pulao', 'Tikka', 'Biryani', 'Karahi']\n",
            "['Chicken', 'Beef pulao', 'Tikka', 'Biryani', 'Karahi']\n",
            "['Chicken', 'Beef pulao', 'Tikka', 'Biryani', 'Karahi']\n",
            "['Chicken', 'Beef pulao', 'Tikka', 'Biryani', 'Karahi', 'Fish']\n"
          ]
        }
      ]
    },
    {
      "cell_type": "markdown",
      "source": [
        "# tuple\n"
      ],
      "metadata": {
        "id": "WjH6o9dBtvpP"
      }
    },
    {
      "cell_type": "code",
      "source": [
        "names : tuple[str] = (\"A\" , \"B\" , \"C\")\n",
        "\n",
        "print(names[0])\n",
        "print(names[1])\n",
        "print(names[2])"
      ],
      "metadata": {
        "colab": {
          "base_uri": "https://localhost:8080/"
        },
        "id": "cZ5bL5k3tvHw",
        "outputId": "c320b01e-2d7d-44be-9cd6-c6d9b0ae7e4d"
      },
      "execution_count": 39,
      "outputs": [
        {
          "output_type": "stream",
          "name": "stdout",
          "text": [
            "A\n",
            "B\n",
            "C\n"
          ]
        }
      ]
    },
    {
      "cell_type": "code",
      "source": [
        "names : tuple[str] = (\"A\" , \"B\" , \"C\")\n",
        "\n",
        "names[0] = \"Ali\""
      ],
      "metadata": {
        "colab": {
          "base_uri": "https://localhost:8080/",
          "height": 176
        },
        "id": "DYbJL7crugFr",
        "outputId": "8f5cdd79-ecdf-4108-999a-91281da18499"
      },
      "execution_count": 41,
      "outputs": [
        {
          "output_type": "error",
          "ename": "TypeError",
          "evalue": "'tuple' object does not support item assignment",
          "traceback": [
            "\u001b[0;31m---------------------------------------------------------------------------\u001b[0m",
            "\u001b[0;31mTypeError\u001b[0m                                 Traceback (most recent call last)",
            "\u001b[0;32m<ipython-input-41-4a6f23ae6adb>\u001b[0m in \u001b[0;36m<cell line: 3>\u001b[0;34m()\u001b[0m\n\u001b[1;32m      1\u001b[0m \u001b[0mnames\u001b[0m \u001b[0;34m:\u001b[0m \u001b[0mtuple\u001b[0m\u001b[0;34m[\u001b[0m\u001b[0mstr\u001b[0m\u001b[0;34m]\u001b[0m \u001b[0;34m=\u001b[0m \u001b[0;34m(\u001b[0m\u001b[0;34m\"A\"\u001b[0m \u001b[0;34m,\u001b[0m \u001b[0;34m\"B\"\u001b[0m \u001b[0;34m,\u001b[0m \u001b[0;34m\"C\"\u001b[0m\u001b[0;34m)\u001b[0m\u001b[0;34m\u001b[0m\u001b[0;34m\u001b[0m\u001b[0m\n\u001b[1;32m      2\u001b[0m \u001b[0;34m\u001b[0m\u001b[0m\n\u001b[0;32m----> 3\u001b[0;31m \u001b[0mnames\u001b[0m\u001b[0;34m[\u001b[0m\u001b[0;36m0\u001b[0m\u001b[0;34m]\u001b[0m \u001b[0;34m=\u001b[0m \u001b[0;34m\"Ali\"\u001b[0m\u001b[0;34m\u001b[0m\u001b[0;34m\u001b[0m\u001b[0m\n\u001b[0m",
            "\u001b[0;31mTypeError\u001b[0m: 'tuple' object does not support item assignment"
          ]
        }
      ]
    },
    {
      "cell_type": "code",
      "source": [
        "a  = input(\"abc\") # return string type\n",
        "print(type(a))\n",
        "print(a)"
      ],
      "metadata": {
        "colab": {
          "base_uri": "https://localhost:8080/"
        },
        "id": "7Uy5XW_ius9B",
        "outputId": "12ec12da-b0d1-41b2-967d-57a5c6e8b518"
      },
      "execution_count": 42,
      "outputs": [
        {
          "output_type": "stream",
          "name": "stdout",
          "text": [
            "abc123\n",
            "<class 'str'>\n",
            "123\n"
          ]
        }
      ]
    },
    {
      "cell_type": "code",
      "source": [
        "b = input(\"Laqbataq\") # return string also\n",
        "\n",
        "print(type(b))\n",
        "print(b)"
      ],
      "metadata": {
        "colab": {
          "base_uri": "https://localhost:8080/"
        },
        "id": "HmeqAHqcu0iu",
        "outputId": "3fe81950-6a6d-4e74-d7a3-3406e2691fa5"
      },
      "execution_count": 44,
      "outputs": [
        {
          "output_type": "stream",
          "name": "stdout",
          "text": [
            "Laqbataqg boos\n",
            "<class 'str'>\n",
            "g boos\n"
          ]
        }
      ]
    },
    {
      "cell_type": "code",
      "source": [
        "a = \"Type\"\n",
        "\n",
        "print(type(a))"
      ],
      "metadata": {
        "colab": {
          "base_uri": "https://localhost:8080/"
        },
        "id": "m0mPD_Y5vKun",
        "outputId": "b0ef72e3-6506-444c-8802-2abcd3dee165"
      },
      "execution_count": 45,
      "outputs": [
        {
          "output_type": "stream",
          "name": "stdout",
          "text": [
            "<class 'str'>\n"
          ]
        }
      ]
    },
    {
      "cell_type": "code",
      "source": [
        "a = 123\n",
        "\n",
        "print(type(a))"
      ],
      "metadata": {
        "colab": {
          "base_uri": "https://localhost:8080/"
        },
        "id": "6eOmQacBvUjW",
        "outputId": "5cf45e97-cd43-4b5e-8522-5b0d29237345"
      },
      "execution_count": 46,
      "outputs": [
        {
          "output_type": "stream",
          "name": "stdout",
          "text": [
            "<class 'int'>\n"
          ]
        }
      ]
    },
    {
      "cell_type": "code",
      "source": [
        "sorted([1, 5, 3 ,2 ,4])"
      ],
      "metadata": {
        "colab": {
          "base_uri": "https://localhost:8080/"
        },
        "id": "T_dU9d3Avtf5",
        "outputId": "d3b8d323-e148-402f-b082-39f11958420e"
      },
      "execution_count": 50,
      "outputs": [
        {
          "output_type": "execute_result",
          "data": {
            "text/plain": [
              "[1, 2, 3, 4, 5]"
            ]
          },
          "metadata": {},
          "execution_count": 50
        }
      ]
    },
    {
      "cell_type": "code",
      "source": [
        "Digits = 1 , 5 , 4, 3, 2 , 6, 8, 7 , 9,\n",
        "\n",
        "print(Digits)\n",
        "\n",
        "print(sorted(Digits))"
      ],
      "metadata": {
        "colab": {
          "base_uri": "https://localhost:8080/"
        },
        "id": "60iuOhFHvXIY",
        "outputId": "6cea2df3-ed85-40d2-d52a-2af8e5759076"
      },
      "execution_count": 48,
      "outputs": [
        {
          "output_type": "stream",
          "name": "stdout",
          "text": [
            "(1, 5, 4, 3, 2, 6, 8, 7, 9)\n",
            "[1, 2, 3, 4, 5, 6, 7, 8, 9]\n"
          ]
        }
      ]
    },
    {
      "cell_type": "markdown",
      "source": [
        "#  **Thanks** to Read this **note book**\n",
        "\n",
        "\n",
        "\n"
      ],
      "metadata": {
        "id": "5h3qZXBXv4cj"
      }
    },
    {
      "cell_type": "code",
      "source": [],
      "metadata": {
        "id": "76EHlSE2we45"
      },
      "execution_count": null,
      "outputs": []
    }
  ]
}