{
  "nbformat": 4,
  "nbformat_minor": 0,
  "metadata": {
    "colab": {
      "provenance": []
    },
    "kernelspec": {
      "name": "python3",
      "display_name": "Python 3"
    },
    "language_info": {
      "name": "python"
    }
  },
  "cells": [
    {
      "cell_type": "markdown",
      "source": [
        "# Array Indexing and Slicing in NumPy\n",
        "## Introducing Array Indexing and Slicing\n",
        "Welcome back! Today, we are exploring Array Indexing and Slicing, two crucial concepts for data manipulation and processing. Utilizing Python's NumPy library, by the end of this lesson, you will be able to comfortably access and modify elements in a NumPy array.\n",
        "\n"
      ],
      "metadata": {
        "id": "DRUg8Is-VWg8"
      }
    },
    {
      "cell_type": "code",
      "source": [
        "!pip install nptyping"
      ],
      "metadata": {
        "colab": {
          "base_uri": "https://localhost:8080/"
        },
        "id": "FGAM-lViWQvC",
        "outputId": "1529bc90-0218-4d2a-c042-9b4cc72befb9"
      },
      "execution_count": 1,
      "outputs": [
        {
          "output_type": "stream",
          "name": "stdout",
          "text": [
            "Collecting nptyping\n",
            "  Downloading nptyping-2.5.0-py3-none-any.whl.metadata (7.6 kB)\n",
            "Requirement already satisfied: numpy<2.0.0,>=1.20.0 in /usr/local/lib/python3.10/dist-packages (from nptyping) (1.26.4)\n",
            "Downloading nptyping-2.5.0-py3-none-any.whl (37 kB)\n",
            "Installing collected packages: nptyping\n",
            "Successfully installed nptyping-2.5.0\n"
          ]
        }
      ]
    },
    {
      "cell_type": "markdown",
      "source": [
        "Certainly! Let's dive into **nptyping**, a powerful addition to enhance type safety in your NumPy workflows, especially for applications like Agentic AI, where precision and clarity in data structures are crucial.\n",
        "\n",
        "---\n",
        "\n",
        "## **What is `nptyping`?**\n",
        "\n",
        "**`nptyping`** is a Python library designed to add static typing capabilities to NumPy arrays. It integrates seamlessly with Python's `typing` module, providing explicit types for arrays, shapes, and dtypes, which is especially useful for large, complex AI projects like Agentic AI.\n",
        "\n",
        "By using `nptyping`, you can specify:\n",
        "1. **Array types** (`nptyping.NDArray`): Define the data type and shape of arrays.\n",
        "2. **Shapes**: Enforce constraints on the array dimensions.\n",
        "3. **Dtypes**: Ensure the array elements conform to specific data types.\n",
        "\n",
        "---\n",
        "\n",
        "## **Why Use `nptyping` in NumPy?**\n",
        "\n",
        "### 1. **Enhanced Code Clarity**\n",
        "   - When working with AI, it’s common to deal with high-dimensional tensors or specific data shapes. By specifying the types explicitly, your code becomes self-documenting.\n",
        "\n",
        "   ```python\n",
        "   from nptyping import NDArray, Int, Shape\n",
        "\n",
        "   # Example: 3x3 matrix of integers\n",
        "   Matrix = NDArray[Shape[\"3, 3\"], Int]\n",
        "   ```\n",
        "\n",
        "### 2. **Static Type Checking**\n",
        "   - Tools like `mypy` can analyze your code and catch bugs early. For instance, if a function expects a specific array shape but receives an incompatible one, you'll be alerted during development.\n",
        "\n",
        "   ```python\n",
        "   def process_matrix(matrix: Matrix) -> int:\n",
        "       return matrix.sum()\n",
        "   ```\n",
        "\n",
        "### 3. **Fewer Runtime Errors**\n",
        "   - Incorrect dimensions or data types are common pitfalls in AI workflows. `nptyping` validates these issues at a static level.\n",
        "\n",
        "### 4. **Simplified Debugging**\n",
        "   - Errors in AI models often stem from mismatched dimensions or data types. Using `nptyping` ensures these issues are addressed before execution.\n",
        "\n",
        "---\n",
        "\n",
        "## **Benefits for Agentic AI**\n",
        "\n",
        "1. **Structured Data Flow**: In Agentic AI, agents often interact with diverse datasets. `nptyping` ensures agents process data correctly, maintaining reliability.\n",
        "\n",
        "2. **Interoperability**: When integrating NumPy with frameworks like TensorFlow or PyTorch, `nptyping` helps maintain consistency in shapes and data types.\n",
        "\n",
        "3. **Scalability**: For large AI projects, consistent type annotations make codebases easier to manage, scale, and maintain.\n",
        "\n",
        "4. **Safety in Parallel Computing**: When splitting computations across multiple agents or threads, ensuring type safety minimizes synchronization errors.\n",
        "\n",
        "---\n",
        "\n",
        "## **Practical Example**\n",
        "\n",
        "Here’s an example demonstrating the benefits of `nptyping` in an AI agent scenario:\n",
        "\n",
        "```python\n",
        "from nptyping import NDArray, Float, Shape\n",
        "import numpy as np\n",
        "\n",
        "# Define a 2D array of floats\n",
        "Image = NDArray[Shape[\"256, 256\"], Float]\n",
        "\n",
        "def preprocess_image(image: Image) -> Image:\n",
        "    \"\"\"\n",
        "    Normalize image data to range [0, 1].\n",
        "    \"\"\"\n",
        "    return image / 255.0\n",
        "\n",
        "# Correct shape and dtype\n",
        "input_image: Image = np.random.rand(256, 256).astype(np.float64)\n",
        "\n",
        "# Preprocessing\n",
        "normalized_image = preprocess_image(input_image)\n",
        "print(normalized_image)\n",
        "```\n",
        "\n",
        "### Key Features:\n",
        "- **Type Enforced**: Passing an incorrectly shaped array (e.g., 128x128) would raise a static error.\n",
        "- **Clear Intent**: The function signature tells you what the function expects and returns.\n",
        "\n",
        "---\n",
        "\n",
        "## **How to Install and Use `nptyping`**\n",
        "\n",
        "1. **Installation**:\n",
        "   ```bash\n",
        "   pip install nptyping\n",
        "   ```\n",
        "\n",
        "2. **Common Import Patterns**:\n",
        "   ```python\n",
        "   from nptyping import NDArray, Shape, Int, Float\n",
        "   ```\n",
        "\n",
        "3. **Integration with `mypy`**:\n",
        "   - Use `mypy` to check your code statically:\n",
        "     ```bash\n",
        "     mypy your_script.py\n",
        "     ```\n",
        "\n",
        "---\n",
        "\n",
        "## **Limitations**\n",
        "\n",
        "1. **Runtime Validation**: `nptyping` annotations are for static checks. For runtime validations, additional checks are needed.\n",
        "2. **Complexity**: Overuse can lead to verbose code in simple scripts.\n",
        "\n",
        "---\n",
        "\n",
        "## **Conclusion**\n",
        "\n",
        "By incorporating `nptyping`:\n",
        "- You bring **type safety** and **clarity** to your NumPy workflows.\n",
        "- It’s a **game-changer** for Agentic AI, ensuring your agents handle structured data predictably.\n",
        "- The ability to **define array shapes and types statically** improves development speed and reduces debugging time.\n",
        "\n",
        "In Agentic AI, where precision and scalability matter, `nptyping` is a vital tool for building robust, error-free systems. 🚀"
      ],
      "metadata": {
        "id": "Ernoi26_rkzl"
      }
    },
    {
      "cell_type": "markdown",
      "source": [
        "# Quick Refresher on NumPy Arrays\n",
        "Let's quickly revisit NumPy arrays. A NumPy array is a powerful tool for numerical operations. Here's how we import NumPy and create a simple array:"
      ],
      "metadata": {
        "id": "1vHIDpEfaNB2"
      }
    },
    {
      "cell_type": "code",
      "execution_count": 5,
      "metadata": {
        "colab": {
          "base_uri": "https://localhost:8080/",
          "height": 34
        },
        "id": "qWpg9mxNIHPj",
        "outputId": "1f31b50c-30b1-4089-df36-a794c551ae96"
      },
      "outputs": [
        {
          "output_type": "display_data",
          "data": {
            "text/plain": [
              "array([1, 2, 3, 4])"
            ]
          },
          "metadata": {}
        }
      ],
      "source": [
        "import numpy as np\n",
        "from nptyping import NDArray, Shape\n",
        "from typing import Any\n",
        "\n",
        "arr : NDArray[Shape['4'] , Any] = np.array([1, 2, 3, 4])\n",
        "display(arr)\n"
      ]
    },
    {
      "cell_type": "code",
      "source": [
        "print(arr[0])\n",
        "print(arr[1])\n",
        "print(arr[2])\n",
        "print(arr[3])\n",
        "# Opposite indexing\n",
        "print(arr[-1])\n"
      ],
      "metadata": {
        "colab": {
          "base_uri": "https://localhost:8080/"
        },
        "id": "8OTLwqjTXvKM",
        "outputId": "cde78bb6-2f46-430f-fedd-5fa96c6ab828"
      },
      "execution_count": 6,
      "outputs": [
        {
          "output_type": "stream",
          "name": "stdout",
          "text": [
            "1\n",
            "2\n",
            "3\n",
            "4\n",
            "4\n"
          ]
        }
      ]
    },
    {
      "cell_type": "code",
      "source": [
        "print(arr[0])\n",
        "print(\"+\")\n",
        "print(arr[3])\n",
        "print(\"=\")\n",
        "print(arr[0] + arr[3])"
      ],
      "metadata": {
        "colab": {
          "base_uri": "https://localhost:8080/"
        },
        "id": "4jhgoilFX4id",
        "outputId": "d74efce6-e2f6-423d-ca43-4d8164d16a04"
      },
      "execution_count": 10,
      "outputs": [
        {
          "output_type": "stream",
          "name": "stdout",
          "text": [
            "1\n",
            "+\n",
            "4\n",
            "=\n",
            "5\n"
          ]
        }
      ]
    },
    {
      "cell_type": "markdown",
      "source": [
        "# Unwrapping Array Slicing\n",
        "Array slicing lets us access a subset, or slice, of an array. The basic syntax for slicing in Python is array[start:stop:step].\n",
        "\n",
        "Let's check this out:"
      ],
      "metadata": {
        "id": "MrezvU8GaVhI"
      }
    },
    {
      "cell_type": "code",
      "source": [
        "print(arr[1:3]) # [2 , 3]\n",
        "print(arr[2:3]) # [3]\n",
        "print(arr[::2]) # [1 , 3]\n"
      ],
      "metadata": {
        "colab": {
          "base_uri": "https://localhost:8080/"
        },
        "id": "_5la48OtYdee",
        "outputId": "4295050d-b743-4424-e7ba-98cd632ed468"
      },
      "execution_count": null,
      "outputs": [
        {
          "output_type": "stream",
          "name": "stdout",
          "text": [
            "[2 3]\n",
            "[3]\n",
            "[1 3]\n"
          ]
        }
      ]
    },
    {
      "cell_type": "markdown",
      "source": [
        "As a reminder, stop is not included, so [1:3] gives us elements with indices 2, 3. Also remember that we can skip any of arguments to make them default. Thus, [::2] specifies only the step parameter, so start and end are filled with the default value.\n",
        "\n",
        "Let's recall the default values:\n",
        "\n",
        "- start = 0\n",
        "- end = len(array)\n",
        "- step = 1"
      ],
      "metadata": {
        "id": "dRCluCPzbAdD"
      }
    },
    {
      "cell_type": "markdown",
      "source": [
        "One important thing to know: if we modify elements in a sliced array, it also modifies the original array:"
      ],
      "metadata": {
        "id": "U6FMJ4YVbal7"
      }
    },
    {
      "cell_type": "code",
      "source": [
        "new_arr = arr[1:3]\n",
        "new_arr[1] = 10\n",
        "print(arr)"
      ],
      "metadata": {
        "colab": {
          "base_uri": "https://localhost:8080/"
        },
        "id": "U30Ouvl_bOra",
        "outputId": "8633d735-bfff-432d-bfad-454ca653c406"
      },
      "execution_count": 11,
      "outputs": [
        {
          "output_type": "stream",
          "name": "stdout",
          "text": [
            "[ 1  2 10  4]\n"
          ]
        }
      ]
    },
    {
      "cell_type": "markdown",
      "source": [
        "# Indexing and Slicing in Multi-dimensional Arrays\n",
        "Now, let's move to multi-dimensional arrays and try out these operations. We'll use a 2D array for illustration:"
      ],
      "metadata": {
        "id": "K5v1eC95br3j"
      }
    },
    {
      "cell_type": "code",
      "source": [
        "import numpy as np\n",
        "from nptyping import NDArray, Shape\n",
        "from typing import Any\n",
        "\n",
        "arr_multi : NDArray[Shape['3 , 4'] , Any] = np.array([[1 , 2 , 3 , 4],\n",
        "                                                      [5, 6 , 7 , 8],\n",
        "                                                      [1 , 2 , 3 , 4]]\n",
        "                                                    )\n",
        "print(arr_multi)\n"
      ],
      "metadata": {
        "colab": {
          "base_uri": "https://localhost:8080/"
        },
        "id": "FxrVIo7Ybq3t",
        "outputId": "dd6fe938-75e8-4787-bb8a-6ce56e3b0127"
      },
      "execution_count": 12,
      "outputs": [
        {
          "output_type": "stream",
          "name": "stdout",
          "text": [
            "[[1 2 3 4]\n",
            " [5 6 7 8]\n",
            " [1 2 3 4]]\n"
          ]
        }
      ]
    },
    {
      "cell_type": "code",
      "source": [
        "print(arr_multi[0, 2])  # 3\n",
        "print(arr_multi[1])  # array([5, 6 , 7, 8])\n",
        "print(arr_multi[:, 2])  # array([3, 7, 3])"
      ],
      "metadata": {
        "colab": {
          "base_uri": "https://localhost:8080/"
        },
        "id": "olowEBU9fk3z",
        "outputId": "fb80b12e-54f2-4528-eb64-97997a944221"
      },
      "execution_count": 14,
      "outputs": [
        {
          "output_type": "stream",
          "name": "stdout",
          "text": [
            "3\n",
            "[5 6 7 8]\n",
            "[3 7 3]\n"
          ]
        }
      ]
    },
    {
      "cell_type": "markdown",
      "source": [
        "Slicing on multi-dimensional arrays is also simple. We can retrieve the first two rows and first two columns, for instance:"
      ],
      "metadata": {
        "id": "SR-lPhaXgRTQ"
      }
    },
    {
      "cell_type": "code",
      "source": [
        "print(arr_multi[:2, :2])\n",
        "print(arr_multi[1:, 2:])"
      ],
      "metadata": {
        "colab": {
          "base_uri": "https://localhost:8080/"
        },
        "id": "rUAAUMK6gSny",
        "outputId": "14707a02-a807-4cd3-e22d-3f92b2863756"
      },
      "execution_count": 15,
      "outputs": [
        {
          "output_type": "stream",
          "name": "stdout",
          "text": [
            "[[1 2]\n",
            " [5 6]]\n",
            "[[7 8]\n",
            " [3 4]]\n"
          ]
        }
      ]
    }
  ]
}