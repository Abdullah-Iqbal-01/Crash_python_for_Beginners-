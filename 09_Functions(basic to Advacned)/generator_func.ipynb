{
 "cells": [
  {
   "cell_type": "markdown",
   "metadata": {},
   "source": [
    "\n",
    "\n",
    "### **Generator Functions: Expert-Level Explanation**\n",
    "\n",
    "#### **1. What Are Generators?**\n",
    "Python mein generator ek aisa special function hota hai jo **values ko lazily** generate karta hai, yane ek time pe ek hi value return karta hai, aur jab bhi next value ki zarurat hoti hai toh wo **memory ko efficient tarike se** generate karta hai.\n",
    "\n",
    "#### **2. Why Use Generators?**\n",
    "\n",
    "- **Memory Efficiency**: Jab hum bohot bada dataset process karte hain, jaise ki large files, large numbers, ya bohot saari calculations, toh **generators** humari memory usage ko bahut reduce karte hain.\n",
    "  \n",
    "- **Lazy Evaluation**: Generators apne values tab generate karte hain jab unki zarurat hoti hai. Isse aapko apne data ko ek time mein memory mein load karne ki zarurat nahi padti, aur program ki performance bhi improve hoti hai.\n",
    "\n",
    "- **Infinite Sequences**: Aap infinite sequences create kar sakte hain without worrying about memory, jaise ke counting numbers (1, 2, 3, ...).\n",
    "\n",
    "#### **3. How Do Generator Functions Work?**\n",
    "\n",
    "Python mein generator function ko **`yield`** keyword ke saath define kiya jata hai. Jab bhi `yield` encounter hota hai, function apne current state ko **pause** kar deta hai aur value ko **return** karta hai, aur jab next value ki zarurat hoti hai, function apne state se continue kar leta hai.\n",
    "\n",
    "#### **4. Basic Structure of a Generator Function**\n",
    "\n",
    "```python\n",
    "def my_generator():\n",
    "    # First yield\n",
    "    yield 1\n",
    "    # Second yield\n",
    "    yield 2\n",
    "    # Third yield\n",
    "    yield 3\n",
    "\n",
    "# Create a generator object\n",
    "gen = my_generator()\n",
    "\n",
    "# Use next() to get values one at a time\n",
    "print(next(gen))  # Output: 1\n",
    "print(next(gen))  # Output: 2\n",
    "print(next(gen))  # Output: 3\n",
    "```\n",
    "\n",
    "### **Detailed Breakdown**:\n",
    "\n",
    "1. **Function Definition**:\n",
    "   - `my_generator()` function ek generator hai jo 1, 2, aur 3 ko yield karega.\n",
    "   \n",
    "2. **Yield**:\n",
    "   - `yield` function execution ko pause karta hai, aur value ko calling code ko return karta hai.\n",
    "   \n",
    "3. **Iterator**:\n",
    "   - Jab aap generator function ko call karte hain, wo ek **generator object** return karta hai, jo iteratable hota hai. \n",
    "\n",
    "4. **Next Value**:\n",
    "   - Aap `next()` function ka use karke generator se next value le sakte hain. Har call ke sath generator apne previous state se continue karta hai.\n",
    "\n",
    "---\n",
    "\n",
    "#### **5. When Should You Use Generator Functions?**\n",
    "\n",
    "1. **Handling Large Data Sets**:\n",
    "   Agar aapko bohot bada data set process karna ho, jaise ki log files ya database records, toh generator functions memory ko efficiently handle karte hain.\n",
    "   \n",
    "2. **Streams or Infinite Sequences**:\n",
    "   Agar aapko **infinite sequences** ya continuously changing data process karna ho, toh generator functions kaafi useful hote hain. Jaise, counting numbers (1, 2, 3...) ya user input ka continuous stream.\n",
    "\n",
    "3. **Avoiding Memory Overload**:\n",
    "   Jab aapko large computations karne hoin aur har value ko ek saath memory mein store karna mushkil ho, tab generators aapko values **lazily** generate karne ki suvidha dete hain.\n",
    "\n",
    "#### **Use Case Examples**:\n",
    "\n",
    "1. **Processing Large Files**:\n",
    "   Suppose aapko ek large text file ko read karna hai, jisme thousands ya millions of lines ho sakte hain. Aap file ko memory mein ek saath load nahi kar sakte. Yahan generator ka use hota hai.\n",
    "\n",
    "   ```python\n",
    "   def read_large_file(file_name):\n",
    "       with open(file_name, 'r') as file:\n",
    "           for line in file:\n",
    "               yield line\n",
    "\n",
    "   # Read lines lazily\n",
    "   for line in read_large_file(\"big_file.txt\"):\n",
    "       print(line)\n",
    "   ```\n",
    "\n",
    "2. **Generating Infinite Sequences**:\n",
    "   Aapko agar 1 se lekar 100 tak ke numbers nahi, balki ek infinite sequence ki zarurat hai, toh generator aapki madad kar sakta hai:\n",
    "\n",
    "   ```python\n",
    "   def infinite_count():\n",
    "       num = 1\n",
    "       while True:\n",
    "           yield num\n",
    "           num += 1\n",
    "\n",
    "   counter = infinite_count()\n",
    "   print(next(counter))  # Output: 1\n",
    "   print(next(counter))  # Output: 2\n",
    "   print(next(counter))  # Output: 3\n",
    "   ```\n",
    "\n",
    "---\n",
    "\n",
    "#### **6. Advantages of Using Generator Functions**\n",
    "\n",
    "- **Memory Efficiency**: Jab aap bohot saari values ko ek saath store karte ho, wo saari values memory mein load hoti hain. Generators ek time par ek hi value return karte hain, isliye memory mein kabhi bhi poora data nahi load hota.\n",
    "\n",
    "- **Performance**: Jab aap values ko lazily generate karte hain, toh program ko har waqt poora data process karne ki zarurat nahi hoti, isliye program fast chal sakta hai.\n",
    "\n",
    "- **Cleaner Code**: Generators ko use karke aap apna code cleaner bana sakte hain. Aapko apni values ko manually iterate ya process karne ki zarurat nahi hoti. `yield` ki madad se aap easily values generate kar sakte hain.\n",
    "\n",
    "---\n",
    "\n",
    "#### **7. Conclusion:**\n",
    "Generator functions Python mein ek powerful tool hain jo memory efficiency, performance, aur lazily-evaluated data processing ko optimize karte hain. Aap inhe un cases mein use karte hain jab aapko large datasets ya infinite sequences handle karni ho, aur aapne jab memory aur performance ko manage karna ho.\n",
    "\n",
    "Aapke paas ab generator functions ke complete understanding ho gayi hai — inhe kab aur kaise use karna hai, aur kis tarah se yeh aapke programs ko efficient bana sakte hain."
   ]
  },
  {
   "cell_type": "code",
   "execution_count": null,
   "metadata": {},
   "outputs": [
    {
     "name": "stdout",
     "output_type": "stream",
     "text": [
      "1\n",
      "2\n",
      "3\n",
      "4\n",
      "5\n",
      "6\n",
      "7\n"
     ]
    }
   ],
   "source": [
    "def my_genrator(*nums : int):\n",
    "    nums = 0\n",
    "    while True:\n",
    "        nums += 1\n",
    "        yield nums\n",
    "\n",
    "gen = my_genrator()\n",
    "\n",
    "print(next(gen))\n",
    "print(next(gen))\n",
    "print(next(gen))\n",
    "print(next(gen))\n",
    "print(next(gen))\n",
    "print(next(gen))\n",
    "print(next(gen))"
   ]
  },
  {
   "cell_type": "code",
   "execution_count": 15,
   "metadata": {},
   "outputs": [
    {
     "name": "stdout",
     "output_type": "stream",
     "text": [
      "[12, 24, 48, 96, 192]\n"
     ]
    }
   ],
   "source": [
    "# Double It\n",
    "def double_it(start):\n",
    "    curr_value : int = start\n",
    "    while curr_value < 100:\n",
    "        curr_value *= 2\n",
    "        yield curr_value\n",
    "    \n",
    "\n",
    "start : int = int(input(\"Enter a number : \"))\n",
    "\n",
    "double_values = list(double_it(start))\n",
    "print(double_values)"
   ]
  },
  {
   "cell_type": "code",
   "execution_count": 16,
   "metadata": {},
   "outputs": [
    {
     "name": "stdout",
     "output_type": "stream",
     "text": [
      "4 8 16 32 64 128 "
     ]
    }
   ],
   "source": [
    "class DoubleIterable:\n",
    "    def __init__(self, start, limit):\n",
    "        self.start = start\n",
    "        self.limit = limit\n",
    "\n",
    "    def __iter__(self):\n",
    "        return self.double_generator()\n",
    "\n",
    "    def double_generator(self):\n",
    "        curr_value = self.start\n",
    "        while curr_value < self.limit:\n",
    "            curr_value *= 2\n",
    "            yield curr_value\n",
    "\n",
    "# Usage\n",
    "doubler = DoubleIterable(2, 100)\n",
    "for value in doubler:\n",
    "    print(value, end=\" \")\n"
   ]
  },
  {
   "cell_type": "code",
   "execution_count": 17,
   "metadata": {},
   "outputs": [
    {
     "name": "stdout",
     "output_type": "stream",
     "text": [
      "{'id': 1, 'name': 'Alice'}\n",
      "{'id': 3, 'name': 'Bob', 'age': 25}\n"
     ]
    }
   ],
   "source": [
    "from collections.abc import Iterator\n",
    "\n",
    "MyDictT = dict[str, object]\n",
    "\n",
    "# Generator with filtering logic\n",
    "def filtered_dicts(data: list[MyDictT], key: str) -> Iterator[MyDictT]:\n",
    "    for item in data:\n",
    "        if key in item:  # Only yield if key exists\n",
    "            yield item\n",
    "\n",
    "# Sample data\n",
    "data = [\n",
    "    {\"id\": 1, \"name\": \"Alice\"},\n",
    "    {\"id\": 2, \"age\": 30},\n",
    "    {\"id\": 3, \"name\": \"Bob\", \"age\": 25},\n",
    "]\n",
    "\n",
    "# Usage\n",
    "for filtered in filtered_dicts(data, \"name\"):\n",
    "    print(filtered)\n"
   ]
  },
  {
   "cell_type": "code",
   "execution_count": 18,
   "metadata": {},
   "outputs": [
    {
     "name": "stdout",
     "output_type": "stream",
     "text": [
      "{'id': 2, 'age': 30}\n",
      "{'id': 3, 'name': 'Bob', 'age': 25}\n"
     ]
    }
   ],
   "source": [
    "from collections.abc import Iterator\n",
    "\n",
    "MyDictT = dict[str, object]\n",
    "\n",
    "# Generator with filtering logic\n",
    "def filtered_dicts(data: list[MyDictT], key: str) -> Iterator[MyDictT]:\n",
    "    for item in data:\n",
    "        if key in item:  # Only yield if key exists\n",
    "            yield item\n",
    "\n",
    "# Sample data\n",
    "data = [\n",
    "    {\"id\": 1, \"name\": \"Alice\"},\n",
    "    {\"id\": 2, \"age\": 30},\n",
    "    {\"id\": 3, \"name\": \"Bob\", \"age\": 25},\n",
    "]\n",
    "\n",
    "# Usage\n",
    "for filtered in filtered_dicts(data, \"age\"):\n",
    "    print(filtered)\n"
   ]
  },
  {
   "cell_type": "code",
   "execution_count": 20,
   "metadata": {},
   "outputs": [
    {
     "name": "stdout",
     "output_type": "stream",
     "text": [
      "{'id': 1, 'name': 'Alice'}\n",
      "{'id': 2, 'age': 30}\n",
      "{'id': 3, 'name': 'Bob', 'age': 25}\n"
     ]
    }
   ],
   "source": [
    "from collections.abc import Iterator\n",
    "\n",
    "MyDictT = dict[str, object]\n",
    "\n",
    "# Generator with filtering logic\n",
    "def filtered_dicts(data: list[MyDictT], key: str) -> Iterator[MyDictT]:\n",
    "    for item in data:\n",
    "        if key in item:  # Only yield if key exists\n",
    "            yield item\n",
    "\n",
    "# Sample data\n",
    "data = [\n",
    "    {\"id\": 1, \"name\": \"Alice\"},\n",
    "    {\"id\": 2, \"age\": 30},\n",
    "    {\"id\": 3, \"name\": \"Bob\", \"age\": 25},\n",
    "]\n",
    "\n",
    "# Usage\n",
    "for filtered in filtered_dicts(data , \"id\"):\n",
    "    print(filtered)\n"
   ]
  }
 ],
 "metadata": {
  "kernelspec": {
   "display_name": "python12",
   "language": "python",
   "name": "python3"
  },
  "language_info": {
   "codemirror_mode": {
    "name": "ipython",
    "version": 3
   },
   "file_extension": ".py",
   "mimetype": "text/x-python",
   "name": "python",
   "nbconvert_exporter": "python",
   "pygments_lexer": "ipython3",
   "version": "3.12.7"
  }
 },
 "nbformat": 4,
 "nbformat_minor": 2
}
