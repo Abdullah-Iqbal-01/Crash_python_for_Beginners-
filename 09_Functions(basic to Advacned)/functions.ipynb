{
 "cells": [
  {
   "cell_type": "markdown",
   "metadata": {},
   "source": [
    "## Functions\n",
    "\n",
    "```\n",
    "def Func_name(parm1 : Type , parm2 : type)->return-type:\n",
    "    Func_Body\n",
    "```\n"
   ]
  },
  {
   "cell_type": "code",
   "execution_count": null,
   "metadata": {},
   "outputs": [
    {
     "name": "stdout",
     "output_type": "stream",
     "text": [
      "Hello\n",
      "None\n"
     ]
    }
   ],
   "source": [
    "# Return or non-return\n",
    "a : str = print(\"Hello\")\n",
    "print(a) # none # non-return"
   ]
  },
  {
   "cell_type": "code",
   "execution_count": 2,
   "metadata": {},
   "outputs": [
    {
     "name": "stdout",
     "output_type": "stream",
     "text": [
      "5\n"
     ]
    }
   ],
   "source": [
    "a : str = len(\"Hello\") # return\n",
    "print(a)"
   ]
  },
  {
   "cell_type": "code",
   "execution_count": null,
   "metadata": {},
   "outputs": [
    {
     "name": "stdout",
     "output_type": "stream",
     "text": [
      "2097678642960\n"
     ]
    }
   ],
   "source": [
    "a = id(\"Hello\") \n",
    "print(a) # return"
   ]
  },
  {
   "cell_type": "code",
   "execution_count": 15,
   "metadata": {},
   "outputs": [
    {
     "data": {
      "text/plain": [
       "'z'"
      ]
     },
     "execution_count": 15,
     "metadata": {},
     "output_type": "execute_result"
    }
   ],
   "source": [
    "chr(122)"
   ]
  },
  {
   "cell_type": "code",
   "execution_count": 16,
   "metadata": {},
   "outputs": [
    {
     "data": {
      "text/plain": [
       "97"
      ]
     },
     "execution_count": 16,
     "metadata": {},
     "output_type": "execute_result"
    }
   ],
   "source": [
    "ord(\"a\")"
   ]
  },
  {
   "cell_type": "code",
   "execution_count": 17,
   "metadata": {},
   "outputs": [
    {
     "name": "stdout",
     "output_type": "stream",
     "text": [
      "Hello\n"
     ]
    }
   ],
   "source": [
    "def my_func():\n",
    "    print(\"Hello\")\n",
    "\n",
    "my_func()"
   ]
  },
  {
   "cell_type": "markdown",
   "metadata": {},
   "source": [
    "## Required parameters functions"
   ]
  },
  {
   "cell_type": "code",
   "execution_count": 19,
   "metadata": {},
   "outputs": [
    {
     "name": "stdout",
     "output_type": "stream",
     "text": [
      "3\n",
      "5\n",
      "7\n",
      "9\n",
      "11\n",
      "13\n",
      "15\n",
      "17\n",
      "43\n"
     ]
    }
   ],
   "source": [
    "def add_two_numbers(a, b):\n",
    "    print(a + b)\n",
    "\n",
    "add_two_numbers(1, 2)\n",
    "add_two_numbers(2, 3)\n",
    "add_two_numbers(3, 4)\n",
    "add_two_numbers(4, 5)\n",
    "add_two_numbers(5, 6)\n",
    "add_two_numbers(6, 7)\n",
    "add_two_numbers(7, 8)\n",
    "add_two_numbers(8, 9)\n",
    "add_two_numbers(21, 22)"
   ]
  },
  {
   "cell_type": "code",
   "execution_count": null,
   "metadata": {},
   "outputs": [
    {
     "name": "stdout",
     "output_type": "stream",
     "text": [
      "3\n"
     ]
    }
   ],
   "source": [
    "def add(num1 : int , num2 : int) -> int:\n",
    "    return num1 + num2\n",
    "\n",
    "print(add(1, 2)) # required arguments"
   ]
  },
  {
   "cell_type": "code",
   "execution_count": null,
   "metadata": {},
   "outputs": [
    {
     "name": "stdout",
     "output_type": "stream",
     "text": [
      "Abdullah is 20 years old\n"
     ]
    }
   ],
   "source": [
    "def students(name : str , age : int) -> None:\n",
    "    print(f\"{name} is {age} years old\")\n",
    "\n",
    "students(\"Abdullah\", 20)\n",
    "\n",
    "# students(\"Abdullah\") # TypeError: students() missing 1 required positional argument: 'age'\n",
    "\n",
    "# students(\"Abdullah\", 20, 30) # TypeError: students() takes 2 positional arguments but 3 were given\n",
    "\n",
    "# students() # TypeError: students() missing 2 required positional arguments: 'name' and 'age'  \n",
    "\n",
    "# students(name = \"Abdullah\", age = 20) # TypeError: students() got an unexpected keyword argument 'name'\n",
    "\n",
    "# students(\"Abdullah\", age = 20) # TypeError: students() got an unexpected keyword argument 'age'"
   ]
  },
  {
   "cell_type": "markdown",
   "metadata": {},
   "source": [
    "## fucntion with optional parameters"
   ]
  },
  {
   "cell_type": "code",
   "execution_count": null,
   "metadata": {},
   "outputs": [
    {
     "name": "stdout",
     "output_type": "stream",
     "text": [
      "Abdullah is 20 years old and roll number is 1\n",
      "Abdullah is 20 years old and roll number is 30\n",
      "Abdullah is 20 years old and roll number is 30\n",
      "Abdullah is 20 years old and roll number is 30\n"
     ]
    }
   ],
   "source": [
    "def students(name : str , age : int , roll_number : int = 1) -> None:\n",
    "    print(f\"{name} is {age} years old and roll number is {roll_number}\")\n",
    "\n",
    "students(\"Abdullah\", 20)\n",
    "\n",
    "students(\"Abdullah\", 20, 30)\n",
    "\n",
    "students(\"Abdullah\", 20, roll_number = 30)\n",
    "\n",
    "students(\"Abdullah\", 20, roll_number = 30)"
   ]
  },
  {
   "cell_type": "code",
   "execution_count": null,
   "metadata": {},
   "outputs": [
    {
     "name": "stdout",
     "output_type": "stream",
     "text": [
      "('apple', 'banana', 'orange', 'grapes', 'pineapple')\n",
      "{'color': 'blue', 'size': 'large'}\n"
     ]
    }
   ],
   "source": [
    "# unlimited positional Arguemnts \n",
    "# unlimited keyword Arguements\n",
    "from typing import Tuple , Dict \n",
    "def shop(*items : Tuple[str] , **kwargs : Dict[str, str]) -> None:\n",
    "    print(items)\n",
    "    print(kwargs)\n",
    "\n",
    "shop(\"apple\", \"banana\", \"orange\", \"grapes\", \"pineapple\", color = \"blue\", size = \"large\")"
   ]
  },
  {
   "cell_type": "markdown",
   "metadata": {},
   "source": [
    "# lambda Functions\n",
    "* One Line Funtion\n",
    "* Without name Funtion \n",
    "* Only Use in this line"
   ]
  },
  {
   "cell_type": "code",
   "execution_count": 25,
   "metadata": {},
   "outputs": [
    {
     "name": "stdout",
     "output_type": "stream",
     "text": [
      "3\n"
     ]
    }
   ],
   "source": [
    "a = lambda a, b : a + b\n",
    "\n",
    "print(a(1, 2))"
   ]
  },
  {
   "cell_type": "code",
   "execution_count": null,
   "metadata": {},
   "outputs": [
    {
     "name": "stdout",
     "output_type": "stream",
     "text": [
      "3\n"
     ]
    }
   ],
   "source": [
    "from typing import Callable\n",
    "# Callable use in function\n",
    "a : Callable[[int, int], int] = lambda a, b : a + b\n",
    "\n",
    "print(a(1, 2))"
   ]
  },
  {
   "cell_type": "code",
   "execution_count": 27,
   "metadata": {},
   "outputs": [
    {
     "name": "stdout",
     "output_type": "stream",
     "text": [
      "4\n"
     ]
    }
   ],
   "source": [
    "a : Callable[[int , int] , int]\n",
    "\n",
    "a = lambda a, b : a + b\n",
    "\n",
    "print(a(2, 2))"
   ]
  },
  {
   "cell_type": "code",
   "execution_count": null,
   "metadata": {},
   "outputs": [
    {
     "name": "stdout",
     "output_type": "stream",
     "text": [
      "<function <lambda> at 0x000001E8653B84A0>\n"
     ]
    }
   ],
   "source": [
    "from typing import Callable\n",
    "is_even: Callable[[int], bool] = lambda x: (x % 2 == 0)\n",
    "print(is_even)"
   ]
  },
  {
   "cell_type": "code",
   "execution_count": 41,
   "metadata": {},
   "outputs": [
    {
     "data": {
      "text/plain": [
       "[(True, 0),\n",
       " (False, 1),\n",
       " (True, 2),\n",
       " (False, 3),\n",
       " (True, 4),\n",
       " (False, 5),\n",
       " (True, 6),\n",
       " (False, 7),\n",
       " (True, 8),\n",
       " (False, 9)]"
      ]
     },
     "execution_count": 41,
     "metadata": {},
     "output_type": "execute_result"
    }
   ],
   "source": [
    "is_even: Callable[[int], bool] = list(map(lambda x: (x % 2 == 0 , x) , range(10)))\n",
    "is_even\n"
   ]
  },
  {
   "cell_type": "code",
   "execution_count": 42,
   "metadata": {},
   "outputs": [
    {
     "name": "stdout",
     "output_type": "stream",
     "text": [
      "[1, 4, 9, 16, 25, 36, 49, 64, 81, 100]\n"
     ]
    }
   ],
   "source": [
    "nums : list[int] = [1 , 2 , 3 , 4 , 5 , 6 , 7 , 8 , 9 , 10]\n",
    "\n",
    "square_numbers : Callable[[int] , int] = lambda x : x ** 2\n",
    "\n",
    "print(list(map(square_numbers , nums)))"
   ]
  },
  {
   "cell_type": "markdown",
   "metadata": {},
   "source": [
    "# Pass Unlimited Arguements\n"
   ]
  },
  {
   "cell_type": "code",
   "execution_count": 47,
   "metadata": {},
   "outputs": [
    {
     "name": "stdout",
     "output_type": "stream",
     "text": [
      "(1, 2, 3, 4, 5, 6, 7, 8, 9, 10)\n"
     ]
    }
   ],
   "source": [
    "def Add_nums(*nums):\n",
    "    print(nums)\n",
    "\n",
    "Add_nums(1, 2, 3, 4, 5, 6, 7, 8, 9, 10)"
   ]
  },
  {
   "cell_type": "code",
   "execution_count": 49,
   "metadata": {},
   "outputs": [
    {
     "data": {
      "text/plain": [
       "55"
      ]
     },
     "execution_count": 49,
     "metadata": {},
     "output_type": "execute_result"
    }
   ],
   "source": [
    "from typing import Tuple\n",
    "def Add_nums(*nums : Tuple[int]) -> int:\n",
    "    return sum(nums)\n",
    "\n",
    "Add_nums(1, 2, 3, 4, 5, 6, 7, 8, 9, 10)"
   ]
  },
  {
   "cell_type": "code",
   "execution_count": 59,
   "metadata": {},
   "outputs": [
    {
     "name": "stdout",
     "output_type": "stream",
     "text": [
      "{'a': 'Abdullah', 'b': 'Hameed', 'c': 'qadir'}\n",
      "Hello , Abdullah\n",
      "Hello , Hameed\n",
      "Hello , Qadir\n"
     ]
    }
   ],
   "source": [
    "from typing import Tuple , Dict\n",
    "def data(*args : Tuple[str , ...], **kwargs: Dict[str , str]) -> None:\n",
    "    print(kwargs)\n",
    "    for i in args:\n",
    "        print(f\"Hello , {i}\")\n",
    "\n",
    "data(\"Abdullah\" , \"Hameed\" , \"Qadir\" , a = \"Abdullah\" , b = \"Hameed\" , c = \"qadir\")"
   ]
  },
  {
   "cell_type": "code",
   "execution_count": 74,
   "metadata": {},
   "outputs": [
    {
     "name": "stdout",
     "output_type": "stream",
     "text": [
      "Something is happening before the function is called.\n",
      "John\n",
      "Something is happening after the function is called.\n"
     ]
    }
   ],
   "source": [
    "def my_decorator(func: callable) -> callable:\n",
    "    def wrapper(*args, **kwargs) -> None:\n",
    "        print(\"Something is happening before the function is called.\")\n",
    "        func(*args, **kwargs)\n",
    "        print(\"Something is happening after the function is called.\")\n",
    "    return wrapper\n",
    "\n",
    "@my_decorator\n",
    "def say_hello(name: str) -> None:\n",
    "    print(name)\n",
    "\n",
    "say_hello(\"John\")"
   ]
  },
  {
   "cell_type": "code",
   "execution_count": 77,
   "metadata": {},
   "outputs": [
    {
     "name": "stdout",
     "output_type": "stream",
     "text": [
      "name: John\n",
      "age: 30\n",
      "country: USA\n",
      "name1: Abdullah\n",
      "age1: 19\n",
      "Country1: Pakistan\n"
     ]
    }
   ],
   "source": [
    "def print_key_values(**kwargs: str) -> None:\n",
    "    for key, value in kwargs.items():\n",
    "        print(f\"{key}: {value}\")\n",
    "\n",
    "print_key_values(name=\"John\", age=\"30\", country=\"USA\" , name1= \"Abdullah\" , age1 = 19 , Country1 = \"Pakistan\")"
   ]
  },
  {
   "cell_type": "code",
   "execution_count": 78,
   "metadata": {},
   "outputs": [
    {
     "name": "stdout",
     "output_type": "stream",
     "text": [
      "Hello Monica\n",
      "Hello Luke\n",
      "Hello Steve\n",
      "Hello John\n"
     ]
    }
   ],
   "source": [
    "from typing import Tuple\n",
    "\n",
    "def greet(*names: Tuple[str, ...]) -> None:\n",
    "    \"\"\"\n",
    "    This function greets all persons in the names tuple.\n",
    "    \"\"\"\n",
    "    for name in names:\n",
    "        print(\"Hello\", name)\n",
    "\n",
    "greet(\"Monica\", \"Luke\", \"Steve\", \"John\")"
   ]
  },
  {
   "cell_type": "code",
   "execution_count": null,
   "metadata": {},
   "outputs": [
    {
     "name": "stdout",
     "output_type": "stream",
     "text": [
      "100\n"
     ]
    }
   ],
   "source": [
    "from typing import Callable\n",
    "\n",
    "def apply(func: Callable[[int], int], value: int) -> int:\n",
    "    return func(value)\n",
    "\n",
    "result = apply(lambda x: x ** 2, 10)\n",
    "print(result)"
   ]
  },
  {
   "cell_type": "code",
   "execution_count": 82,
   "metadata": {},
   "outputs": [
    {
     "name": "stdout",
     "output_type": "stream",
     "text": [
      "The factorial of 5 is 120\n"
     ]
    }
   ],
   "source": [
    "def factorial(x: int) -> int:\n",
    "    \"\"\"This is a recursive function\n",
    "    to find the factorial of an integer\"\"\"\n",
    "    if x == 1:\n",
    "        return 1\n",
    "    else:\n",
    "        return (x * factorial(x-1))\n",
    "\n",
    "num = 5\n",
    "print(\"The factorial of\", num, \"is\", factorial(num))"
   ]
  }
 ],
 "metadata": {
  "kernelspec": {
   "display_name": "python12",
   "language": "python",
   "name": "python3"
  },
  "language_info": {
   "codemirror_mode": {
    "name": "ipython",
    "version": 3
   },
   "file_extension": ".py",
   "mimetype": "text/x-python",
   "name": "python",
   "nbconvert_exporter": "python",
   "pygments_lexer": "ipython3",
   "version": "3.12.7"
  }
 },
 "nbformat": 4,
 "nbformat_minor": 2
}
