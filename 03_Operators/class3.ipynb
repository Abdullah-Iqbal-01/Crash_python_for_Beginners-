{
 "cells": [
  {
   "cell_type": "markdown",
   "metadata": {},
   "source": [
    "# Operators In Python"
   ]
  },
  {
   "cell_type": "code",
   "execution_count": 2,
   "metadata": {},
   "outputs": [
    {
     "name": "stdout",
     "output_type": "stream",
     "text": [
      "Requirement already satisfied: ipykernel in d:\\abdullah\\python_classes\\python_practise\\class3.py\\.conda\\lib\\site-packages (6.29.5)\n",
      "Requirement already satisfied: comm>=0.1.1 in d:\\abdullah\\python_classes\\python_practise\\class3.py\\.conda\\lib\\site-packages (from ipykernel) (0.2.2)\n",
      "Requirement already satisfied: debugpy>=1.6.5 in d:\\abdullah\\python_classes\\python_practise\\class3.py\\.conda\\lib\\site-packages (from ipykernel) (1.6.7)\n",
      "Requirement already satisfied: ipython>=7.23.1 in d:\\abdullah\\python_classes\\python_practise\\class3.py\\.conda\\lib\\site-packages (from ipykernel) (8.26.0)\n",
      "Requirement already satisfied: jupyter-client>=6.1.12 in d:\\abdullah\\python_classes\\python_practise\\class3.py\\.conda\\lib\\site-packages (from ipykernel) (8.6.2)\n",
      "Requirement already satisfied: jupyter-core!=5.0.*,>=4.12 in d:\\abdullah\\python_classes\\python_practise\\class3.py\\.conda\\lib\\site-packages (from ipykernel) (5.7.2)\n",
      "Requirement already satisfied: matplotlib-inline>=0.1 in d:\\abdullah\\python_classes\\python_practise\\class3.py\\.conda\\lib\\site-packages (from ipykernel) (0.1.7)\n",
      "Requirement already satisfied: nest-asyncio in d:\\abdullah\\python_classes\\python_practise\\class3.py\\.conda\\lib\\site-packages (from ipykernel) (1.6.0)\n",
      "Requirement already satisfied: packaging in d:\\abdullah\\python_classes\\python_practise\\class3.py\\.conda\\lib\\site-packages (from ipykernel) (24.1)\n",
      "Requirement already satisfied: psutil in d:\\abdullah\\python_classes\\python_practise\\class3.py\\.conda\\lib\\site-packages (from ipykernel) (5.9.0)\n",
      "Requirement already satisfied: pyzmq>=24 in d:\\abdullah\\python_classes\\python_practise\\class3.py\\.conda\\lib\\site-packages (from ipykernel) (25.1.2)\n",
      "Requirement already satisfied: tornado>=6.1 in d:\\abdullah\\python_classes\\python_practise\\class3.py\\.conda\\lib\\site-packages (from ipykernel) (6.4.1)\n",
      "Requirement already satisfied: traitlets>=5.4.0 in d:\\abdullah\\python_classes\\python_practise\\class3.py\\.conda\\lib\\site-packages (from ipykernel) (5.14.3)\n",
      "Requirement already satisfied: decorator in d:\\abdullah\\python_classes\\python_practise\\class3.py\\.conda\\lib\\site-packages (from ipython>=7.23.1->ipykernel) (5.1.1)\n",
      "Requirement already satisfied: jedi>=0.16 in d:\\abdullah\\python_classes\\python_practise\\class3.py\\.conda\\lib\\site-packages (from ipython>=7.23.1->ipykernel) (0.19.1)\n",
      "Requirement already satisfied: prompt-toolkit<3.1.0,>=3.0.41 in d:\\abdullah\\python_classes\\python_practise\\class3.py\\.conda\\lib\\site-packages (from ipython>=7.23.1->ipykernel) (3.0.47)\n",
      "Requirement already satisfied: pygments>=2.4.0 in d:\\abdullah\\python_classes\\python_practise\\class3.py\\.conda\\lib\\site-packages (from ipython>=7.23.1->ipykernel) (2.18.0)\n",
      "Requirement already satisfied: stack-data in d:\\abdullah\\python_classes\\python_practise\\class3.py\\.conda\\lib\\site-packages (from ipython>=7.23.1->ipykernel) (0.6.2)\n",
      "Requirement already satisfied: colorama in d:\\abdullah\\python_classes\\python_practise\\class3.py\\.conda\\lib\\site-packages (from ipython>=7.23.1->ipykernel) (0.4.6)\n",
      "Requirement already satisfied: python-dateutil>=2.8.2 in d:\\abdullah\\python_classes\\python_practise\\class3.py\\.conda\\lib\\site-packages (from jupyter-client>=6.1.12->ipykernel) (2.9.0)\n",
      "Requirement already satisfied: platformdirs>=2.5 in d:\\abdullah\\python_classes\\python_practise\\class3.py\\.conda\\lib\\site-packages (from jupyter-core!=5.0.*,>=4.12->ipykernel) (4.2.2)\n",
      "Requirement already satisfied: pywin32>=300 in d:\\abdullah\\python_classes\\python_practise\\class3.py\\.conda\\lib\\site-packages (from jupyter-core!=5.0.*,>=4.12->ipykernel) (305.1)\n",
      "Requirement already satisfied: parso<0.9.0,>=0.8.3 in d:\\abdullah\\python_classes\\python_practise\\class3.py\\.conda\\lib\\site-packages (from jedi>=0.16->ipython>=7.23.1->ipykernel) (0.8.4)\n",
      "Requirement already satisfied: wcwidth in d:\\abdullah\\python_classes\\python_practise\\class3.py\\.conda\\lib\\site-packages (from prompt-toolkit<3.1.0,>=3.0.41->ipython>=7.23.1->ipykernel) (0.2.13)\n",
      "Requirement already satisfied: six>=1.5 in d:\\abdullah\\python_classes\\python_practise\\class3.py\\.conda\\lib\\site-packages (from python-dateutil>=2.8.2->jupyter-client>=6.1.12->ipykernel) (1.16.0)\n",
      "Requirement already satisfied: executing>=1.2.0 in d:\\abdullah\\python_classes\\python_practise\\class3.py\\.conda\\lib\\site-packages (from stack-data->ipython>=7.23.1->ipykernel) (2.0.1)\n",
      "Requirement already satisfied: asttokens>=2.1.0 in d:\\abdullah\\python_classes\\python_practise\\class3.py\\.conda\\lib\\site-packages (from stack-data->ipython>=7.23.1->ipykernel) (2.4.1)\n",
      "Requirement already satisfied: pure-eval in d:\\abdullah\\python_classes\\python_practise\\class3.py\\.conda\\lib\\site-packages (from stack-data->ipython>=7.23.1->ipykernel) (0.2.3)\n"
     ]
    }
   ],
   "source": [
    "!pip install ipykernel"
   ]
  },
  {
   "cell_type": "code",
   "execution_count": 7,
   "metadata": {},
   "outputs": [
    {
     "name": "stdout",
     "output_type": "stream",
     "text": [
      "Collecting pandas\n",
      "  Using cached pandas-2.2.2-cp312-cp312-win_amd64.whl.metadata (19 kB)\n",
      "Collecting numpy>=1.26.0 (from pandas)\n",
      "  Using cached numpy-2.1.0-cp312-cp312-win_amd64.whl.metadata (59 kB)\n",
      "Requirement already satisfied: python-dateutil>=2.8.2 in d:\\abdullah\\python_classes\\python_practise\\class3.py\\.conda\\lib\\site-packages (from pandas) (2.9.0)\n",
      "Collecting pytz>=2020.1 (from pandas)\n",
      "  Using cached pytz-2024.1-py2.py3-none-any.whl.metadata (22 kB)\n",
      "Collecting tzdata>=2022.7 (from pandas)\n",
      "  Using cached tzdata-2024.1-py2.py3-none-any.whl.metadata (1.4 kB)\n",
      "Requirement already satisfied: six>=1.5 in d:\\abdullah\\python_classes\\python_practise\\class3.py\\.conda\\lib\\site-packages (from python-dateutil>=2.8.2->pandas) (1.16.0)\n",
      "Downloading pandas-2.2.2-cp312-cp312-win_amd64.whl (11.5 MB)\n",
      "   ---------------------------------------- 0.0/11.5 MB ? eta -:--:--\n",
      "   ---------------------------------------- 0.0/11.5 MB ? eta -:--:--\n",
      "    --------------------------------------- 0.3/11.5 MB ? eta -:--:--\n",
      "    --------------------------------------- 0.3/11.5 MB ? eta -:--:--\n",
      "    --------------------------------------- 0.3/11.5 MB ? eta -:--:--\n",
      "   - -------------------------------------- 0.5/11.5 MB 357.1 kB/s eta 0:00:31\n",
      "   - -------------------------------------- 0.5/11.5 MB 357.1 kB/s eta 0:00:31\n",
      "   - -------------------------------------- 0.5/11.5 MB 357.1 kB/s eta 0:00:31\n",
      "   - -------------------------------------- 0.5/11.5 MB 357.1 kB/s eta 0:00:31\n",
      "   -- ------------------------------------- 0.8/11.5 MB 310.8 kB/s eta 0:00:35\n",
      "   --- ------------------------------------ 1.0/11.5 MB 412.6 kB/s eta 0:00:26\n",
      "   ---- ----------------------------------- 1.3/11.5 MB 516.3 kB/s eta 0:00:20\n",
      "   ----- ---------------------------------- 1.6/11.5 MB 574.6 kB/s eta 0:00:18\n",
      "   ----- ---------------------------------- 1.6/11.5 MB 574.6 kB/s eta 0:00:18\n",
      "   ----- ---------------------------------- 1.6/11.5 MB 574.6 kB/s eta 0:00:18\n",
      "   ----- ---------------------------------- 1.6/11.5 MB 574.6 kB/s eta 0:00:18\n",
      "   ----- ---------------------------------- 1.6/11.5 MB 574.6 kB/s eta 0:00:18\n",
      "   ----- ---------------------------------- 1.6/11.5 MB 574.6 kB/s eta 0:00:18\n",
      "   ----- ---------------------------------- 1.6/11.5 MB 574.6 kB/s eta 0:00:18\n",
      "   ------ --------------------------------- 1.8/11.5 MB 421.2 kB/s eta 0:00:23\n",
      "   ------- -------------------------------- 2.1/11.5 MB 448.2 kB/s eta 0:00:21\n",
      "   ------- -------------------------------- 2.1/11.5 MB 448.2 kB/s eta 0:00:21\n",
      "   ------- -------------------------------- 2.1/11.5 MB 448.2 kB/s eta 0:00:21\n",
      "   ------- -------------------------------- 2.1/11.5 MB 448.2 kB/s eta 0:00:21\n",
      "   -------- ------------------------------- 2.4/11.5 MB 432.9 kB/s eta 0:00:22\n",
      "   -------- ------------------------------- 2.4/11.5 MB 432.9 kB/s eta 0:00:22\n",
      "   -------- ------------------------------- 2.4/11.5 MB 432.9 kB/s eta 0:00:22\n",
      "   -------- ------------------------------- 2.4/11.5 MB 432.9 kB/s eta 0:00:22\n",
      "   -------- ------------------------------- 2.4/11.5 MB 432.9 kB/s eta 0:00:22\n",
      "   -------- ------------------------------- 2.4/11.5 MB 432.9 kB/s eta 0:00:22\n",
      "   -------- ------------------------------- 2.4/11.5 MB 432.9 kB/s eta 0:00:22\n",
      "   -------- ------------------------------- 2.4/11.5 MB 432.9 kB/s eta 0:00:22\n",
      "   --------- ------------------------------ 2.6/11.5 MB 353.6 kB/s eta 0:00:26\n",
      "   --------- ------------------------------ 2.6/11.5 MB 353.6 kB/s eta 0:00:26\n",
      "   --------- ------------------------------ 2.6/11.5 MB 353.6 kB/s eta 0:00:26\n",
      "   --------- ------------------------------ 2.6/11.5 MB 353.6 kB/s eta 0:00:26\n",
      "   --------- ------------------------------ 2.6/11.5 MB 353.6 kB/s eta 0:00:26\n",
      "   --------- ------------------------------ 2.6/11.5 MB 353.6 kB/s eta 0:00:26\n",
      "   ---------- ----------------------------- 2.9/11.5 MB 321.4 kB/s eta 0:00:27\n",
      "   ---------- ----------------------------- 2.9/11.5 MB 321.4 kB/s eta 0:00:27\n",
      "   ---------- ----------------------------- 2.9/11.5 MB 321.4 kB/s eta 0:00:27\n",
      "   ---------- ----------------------------- 2.9/11.5 MB 321.4 kB/s eta 0:00:27\n",
      "   ---------- ----------------------------- 2.9/11.5 MB 321.4 kB/s eta 0:00:27\n",
      "   ---------- ----------------------------- 2.9/11.5 MB 321.4 kB/s eta 0:00:27\n",
      "   ---------- ----------------------------- 2.9/11.5 MB 321.4 kB/s eta 0:00:27\n",
      "   ---------- ----------------------------- 3.1/11.5 MB 298.1 kB/s eta 0:00:29\n",
      "   ---------- ----------------------------- 3.1/11.5 MB 298.1 kB/s eta 0:00:29\n",
      "   ---------- ----------------------------- 3.1/11.5 MB 298.1 kB/s eta 0:00:29\n",
      "   ---------- ----------------------------- 3.1/11.5 MB 298.1 kB/s eta 0:00:29\n",
      "   ---------- ----------------------------- 3.1/11.5 MB 298.1 kB/s eta 0:00:29\n",
      "   ----------- ---------------------------- 3.4/11.5 MB 295.2 kB/s eta 0:00:28\n",
      "   ----------- ---------------------------- 3.4/11.5 MB 295.2 kB/s eta 0:00:28\n",
      "   ------------ --------------------------- 3.7/11.5 MB 303.8 kB/s eta 0:00:26\n",
      "   ------------ --------------------------- 3.7/11.5 MB 303.8 kB/s eta 0:00:26\n",
      "   ------------ --------------------------- 3.7/11.5 MB 303.8 kB/s eta 0:00:26\n",
      "   ------------ --------------------------- 3.7/11.5 MB 303.8 kB/s eta 0:00:26\n",
      "   ------------ --------------------------- 3.7/11.5 MB 303.8 kB/s eta 0:00:26\n",
      "   ------------ --------------------------- 3.7/11.5 MB 303.8 kB/s eta 0:00:26\n",
      "   ------------ --------------------------- 3.7/11.5 MB 303.8 kB/s eta 0:00:26\n",
      "   ------------ --------------------------- 3.7/11.5 MB 303.8 kB/s eta 0:00:26\n",
      "   ------------ --------------------------- 3.7/11.5 MB 303.8 kB/s eta 0:00:26\n",
      "   ------------ --------------------------- 3.7/11.5 MB 303.8 kB/s eta 0:00:26\n",
      "   ------------ --------------------------- 3.7/11.5 MB 303.8 kB/s eta 0:00:26\n",
      "   ------------ --------------------------- 3.7/11.5 MB 303.8 kB/s eta 0:00:26\n",
      "   ------------ --------------------------- 3.7/11.5 MB 303.8 kB/s eta 0:00:26\n",
      "   ------------ --------------------------- 3.7/11.5 MB 303.8 kB/s eta 0:00:26\n",
      "   ------------ --------------------------- 3.7/11.5 MB 303.8 kB/s eta 0:00:26\n",
      "   ------------ --------------------------- 3.7/11.5 MB 303.8 kB/s eta 0:00:26\n",
      "   ------------ --------------------------- 3.7/11.5 MB 303.8 kB/s eta 0:00:26\n",
      "   ------------ --------------------------- 3.7/11.5 MB 303.8 kB/s eta 0:00:26\n",
      "   ------------- -------------------------- 3.9/11.5 MB 240.2 kB/s eta 0:00:32\n",
      "   ------------- -------------------------- 3.9/11.5 MB 240.2 kB/s eta 0:00:32\n",
      "   ------------- -------------------------- 3.9/11.5 MB 240.2 kB/s eta 0:00:32\n",
      "   ------------- -------------------------- 3.9/11.5 MB 240.2 kB/s eta 0:00:32\n",
      "   -------------- ------------------------- 4.2/11.5 MB 243.1 kB/s eta 0:00:31\n",
      "   -------------- ------------------------- 4.2/11.5 MB 243.1 kB/s eta 0:00:31\n",
      "   -------------- ------------------------- 4.2/11.5 MB 243.1 kB/s eta 0:00:31\n",
      "   -------------- ------------------------- 4.2/11.5 MB 243.1 kB/s eta 0:00:31\n",
      "   -------------- ------------------------- 4.2/11.5 MB 243.1 kB/s eta 0:00:31\n",
      "   -------------- ------------------------- 4.2/11.5 MB 243.1 kB/s eta 0:00:31\n",
      "   -------------- ------------------------- 4.2/11.5 MB 243.1 kB/s eta 0:00:31\n",
      "   -------------- ------------------------- 4.2/11.5 MB 243.1 kB/s eta 0:00:31\n",
      "   -------------- ------------------------- 4.2/11.5 MB 243.1 kB/s eta 0:00:31\n",
      "   --------------- ------------------------ 4.5/11.5 MB 232.2 kB/s eta 0:00:31\n",
      "   --------------- ------------------------ 4.5/11.5 MB 232.2 kB/s eta 0:00:31\n",
      "   --------------- ------------------------ 4.5/11.5 MB 232.2 kB/s eta 0:00:31\n",
      "   --------------- ------------------------ 4.5/11.5 MB 232.2 kB/s eta 0:00:31\n",
      "   ---------------- ----------------------- 4.7/11.5 MB 234.4 kB/s eta 0:00:29\n",
      "   ---------------- ----------------------- 4.7/11.5 MB 234.4 kB/s eta 0:00:29\n",
      "   ---------------- ----------------------- 4.7/11.5 MB 234.4 kB/s eta 0:00:29\n",
      "   ------------------ --------------------- 5.2/11.5 MB 252.0 kB/s eta 0:00:25\n",
      "   ------------------- -------------------- 5.5/11.5 MB 262.6 kB/s eta 0:00:23\n",
      "   -------------------- ------------------- 5.8/11.5 MB 272.1 kB/s eta 0:00:22\n",
      "   -------------------- ------------------- 6.0/11.5 MB 281.3 kB/s eta 0:00:20\n",
      "   --------------------- ------------------ 6.3/11.5 MB 292.8 kB/s eta 0:00:18\n",
      "   ---------------------- ----------------- 6.6/11.5 MB 302.3 kB/s eta 0:00:17\n",
      "   ----------------------- ---------------- 6.8/11.5 MB 310.0 kB/s eta 0:00:16\n",
      "   ------------------------ --------------- 7.1/11.5 MB 318.6 kB/s eta 0:00:14\n",
      "   ------------------------ --------------- 7.1/11.5 MB 318.6 kB/s eta 0:00:14\n",
      "   ------------------------ --------------- 7.1/11.5 MB 318.6 kB/s eta 0:00:14\n",
      "   ------------------------- -------------- 7.3/11.5 MB 323.6 kB/s eta 0:00:13\n",
      "   --------------------------- ------------ 7.9/11.5 MB 340.9 kB/s eta 0:00:11\n",
      "   ---------------------------- ----------- 8.1/11.5 MB 349.5 kB/s eta 0:00:10\n",
      "   ----------------------------- ---------- 8.4/11.5 MB 358.7 kB/s eta 0:00:09\n",
      "   ------------------------------ --------- 8.7/11.5 MB 368.2 kB/s eta 0:00:08\n",
      "   ------------------------------- -------- 9.2/11.5 MB 384.9 kB/s eta 0:00:07\n",
      "   -------------------------------- ------- 9.4/11.5 MB 392.8 kB/s eta 0:00:06\n",
      "   --------------------------------- ------ 9.7/11.5 MB 399.7 kB/s eta 0:00:05\n",
      "   --------------------------------- ------ 9.7/11.5 MB 399.7 kB/s eta 0:00:05\n",
      "   --------------------------------- ------ 9.7/11.5 MB 399.7 kB/s eta 0:00:05\n",
      "   ---------------------------------- ----- 10.0/11.5 MB 402.6 kB/s eta 0:00:04\n",
      "   ------------------------------------ --- 10.5/11.5 MB 418.9 kB/s eta 0:00:03\n",
      "   -------------------------------------- - 11.0/11.5 MB 435.6 kB/s eta 0:00:02\n",
      "   ---------------------------------------  11.3/11.5 MB 444.0 kB/s eta 0:00:01\n",
      "   ---------------------------------------- 11.5/11.5 MB 449.5 kB/s eta 0:00:00\n",
      "Using cached numpy-2.1.0-cp312-cp312-win_amd64.whl (12.6 MB)\n",
      "Using cached pytz-2024.1-py2.py3-none-any.whl (505 kB)\n",
      "Using cached tzdata-2024.1-py2.py3-none-any.whl (345 kB)\n",
      "Installing collected packages: pytz, tzdata, numpy, pandas\n"
     ]
    },
    {
     "name": "stderr",
     "output_type": "stream",
     "text": [
      "ERROR: Could not install packages due to an OSError: [WinError 32] The process cannot access the file because it is being used by another process: 'd:\\\\Abdullah\\\\Python_classes\\\\Python_practise\\\\class3.py\\\\.conda\\\\Lib\\\\site-packages\\\\numpy\\\\_core\\\\tests\\\\test_extint128.py'\n",
      "Consider using the `--user` option or check the permissions.\n",
      "\n"
     ]
    }
   ],
   "source": [
    "!pip install pandas\n"
   ]
  },
  {
   "cell_type": "code",
   "execution_count": 9,
   "metadata": {},
   "outputs": [
    {
     "name": "stdout",
     "output_type": "stream",
     "text": [
      "Channels:\n",
      " - defaults\n",
      " - conda-forge\n",
      "Platform: win-64\n",
      "Collecting package metadata (repodata.json): ...working... done\n",
      "Solving environment: ...working... done\n",
      "\n",
      "## Package Plan ##\n",
      "\n",
      "  environment location: d:\\Abdullah\\Python_classes\\Python_practise\\class3.py\\.conda\n",
      "\n",
      "  added / updated specs:\n",
      "    - lxml\n",
      "\n",
      "\n",
      "The following packages will be downloaded:\n",
      "\n",
      "    package                    |            build\n",
      "    ---------------------------|-----------------\n",
      "    libxml2-2.13.1             |       h24da03e_2         2.9 MB\n",
      "    libxslt-1.1.41             |       h0739af5_0         467 KB\n",
      "    lxml-5.2.1                 |  py312h395c83e_1         1.1 MB\n",
      "    ------------------------------------------------------------\n",
      "                                           Total:         4.5 MB\n",
      "\n",
      "The following NEW packages will be INSTALLED:\n",
      "\n",
      "  libiconv           pkgs/main/win-64::libiconv-1.16-h2bbff1b_3 \n",
      "  libxml2            pkgs/main/win-64::libxml2-2.13.1-h24da03e_2 \n",
      "  libxslt            pkgs/main/win-64::libxslt-1.1.41-h0739af5_0 \n",
      "  lxml               pkgs/main/win-64::lxml-5.2.1-py312h395c83e_1 \n",
      "\n",
      "\n",
      "\n",
      "Downloading and Extracting Packages: ...working... done\n",
      "Preparing transaction: ...working... done\n",
      "Verifying transaction: ...working... done\n",
      "Executing transaction: ...working... done\n"
     ]
    }
   ],
   "source": [
    "!conda install lxml -y\n"
   ]
  },
  {
   "cell_type": "code",
   "execution_count": 10,
   "metadata": {},
   "outputs": [
    {
     "data": {
      "text/html": [
       "<div>\n",
       "<style scoped>\n",
       "    .dataframe tbody tr th:only-of-type {\n",
       "        vertical-align: middle;\n",
       "    }\n",
       "\n",
       "    .dataframe tbody tr th {\n",
       "        vertical-align: top;\n",
       "    }\n",
       "\n",
       "    .dataframe thead th {\n",
       "        text-align: right;\n",
       "    }\n",
       "</style>\n",
       "<table border=\"1\" class=\"dataframe\">\n",
       "  <thead>\n",
       "    <tr style=\"text-align: right;\">\n",
       "      <th></th>\n",
       "      <th>Operator</th>\n",
       "      <th>Name</th>\n",
       "      <th>Example</th>\n",
       "      <th>Try it</th>\n",
       "    </tr>\n",
       "  </thead>\n",
       "  <tbody>\n",
       "    <tr>\n",
       "      <th>0</th>\n",
       "      <td>+</td>\n",
       "      <td>Addition</td>\n",
       "      <td>x + y</td>\n",
       "      <td>Try it »</td>\n",
       "    </tr>\n",
       "    <tr>\n",
       "      <th>1</th>\n",
       "      <td>-</td>\n",
       "      <td>Subtraction</td>\n",
       "      <td>x - y</td>\n",
       "      <td>Try it »</td>\n",
       "    </tr>\n",
       "    <tr>\n",
       "      <th>2</th>\n",
       "      <td>*</td>\n",
       "      <td>Multiplication</td>\n",
       "      <td>x * y</td>\n",
       "      <td>Try it »</td>\n",
       "    </tr>\n",
       "    <tr>\n",
       "      <th>3</th>\n",
       "      <td>/</td>\n",
       "      <td>Division</td>\n",
       "      <td>x / y</td>\n",
       "      <td>Try it »</td>\n",
       "    </tr>\n",
       "    <tr>\n",
       "      <th>4</th>\n",
       "      <td>%</td>\n",
       "      <td>Modulus</td>\n",
       "      <td>x % y</td>\n",
       "      <td>Try it »</td>\n",
       "    </tr>\n",
       "    <tr>\n",
       "      <th>5</th>\n",
       "      <td>**</td>\n",
       "      <td>Exponentiation</td>\n",
       "      <td>x ** y</td>\n",
       "      <td>Try it »</td>\n",
       "    </tr>\n",
       "    <tr>\n",
       "      <th>6</th>\n",
       "      <td>//</td>\n",
       "      <td>Floor division</td>\n",
       "      <td>x // y</td>\n",
       "      <td>Try it »</td>\n",
       "    </tr>\n",
       "  </tbody>\n",
       "</table>\n",
       "</div>"
      ],
      "text/plain": [
       "  Operator            Name Example    Try it\n",
       "0        +        Addition   x + y  Try it »\n",
       "1        -     Subtraction   x - y  Try it »\n",
       "2        *  Multiplication   x * y  Try it »\n",
       "3        /        Division   x / y  Try it »\n",
       "4        %         Modulus   x % y  Try it »\n",
       "5       **  Exponentiation  x ** y  Try it »\n",
       "6       //  Floor division  x // y  Try it »"
      ]
     },
     "execution_count": 10,
     "metadata": {},
     "output_type": "execute_result"
    }
   ],
   "source": [
    "#import pandas as pd\n",
    "\n",
    "table = pd.read_html('https://www.w3schools.com/python/python_operators.asp')\n",
    "table[0]"
   ]
  },
  {
   "cell_type": "code",
   "execution_count": 11,
   "metadata": {},
   "outputs": [
    {
     "name": "stdout",
     "output_type": "stream",
     "text": [
      "7\n",
      "3\n",
      "10\n",
      "2.5\n"
     ]
    }
   ],
   "source": [
    "a: int = 5\n",
    "b: int = 2\n",
    "\n",
    "\n",
    "print(a + b) # Addition\n",
    "print(a - b) # Subtraction\n",
    "print(a * b) # Multiplication\n",
    "print(a / b) # division\n"
   ]
  },
  {
   "cell_type": "code",
   "execution_count": 12,
   "metadata": {},
   "outputs": [
    {
     "name": "stdout",
     "output_type": "stream",
     "text": [
      "1\n"
     ]
    }
   ],
   "source": [
    "a: int = 5\n",
    "b: int = 2\n",
    "\n",
    "print(a % b) # Modulus"
   ]
  },
  {
   "cell_type": "code",
   "execution_count": 13,
   "metadata": {},
   "outputs": [
    {
     "name": "stdout",
     "output_type": "stream",
     "text": [
      "16\n",
      "4\n"
     ]
    }
   ],
   "source": [
    "print(4 ** 2)\n",
    "print(2 ** 2)# Exponentiation"
   ]
  },
  {
   "cell_type": "code",
   "execution_count": 14,
   "metadata": {},
   "outputs": [
    {
     "name": "stdout",
     "output_type": "stream",
     "text": [
      "0.625\n"
     ]
    }
   ],
   "source": [
    "print(5 / 8)"
   ]
  },
  {
   "cell_type": "code",
   "execution_count": 45,
   "metadata": {},
   "outputs": [
    {
     "name": "stdout",
     "output_type": "stream",
     "text": [
      "2\n"
     ]
    }
   ],
   "source": [
    "print(5 // 2)"
   ]
  },
  {
   "cell_type": "code",
   "execution_count": 21,
   "metadata": {},
   "outputs": [
    {
     "name": "stdout",
     "output_type": "stream",
     "text": [
      "14\n"
     ]
    }
   ],
   "source": [
    "print(59 // 4)"
   ]
  },
  {
   "cell_type": "markdown",
   "metadata": {},
   "source": [
    "# Python Assignment Operators\n"
   ]
  },
  {
   "cell_type": "code",
   "execution_count": 22,
   "metadata": {},
   "outputs": [
    {
     "data": {
      "text/html": [
       "<div>\n",
       "<style scoped>\n",
       "    .dataframe tbody tr th:only-of-type {\n",
       "        vertical-align: middle;\n",
       "    }\n",
       "\n",
       "    .dataframe tbody tr th {\n",
       "        vertical-align: top;\n",
       "    }\n",
       "\n",
       "    .dataframe thead th {\n",
       "        text-align: right;\n",
       "    }\n",
       "</style>\n",
       "<table border=\"1\" class=\"dataframe\">\n",
       "  <thead>\n",
       "    <tr style=\"text-align: right;\">\n",
       "      <th></th>\n",
       "      <th>Operator</th>\n",
       "      <th>Example</th>\n",
       "      <th>Same As</th>\n",
       "      <th>Try it</th>\n",
       "    </tr>\n",
       "  </thead>\n",
       "  <tbody>\n",
       "    <tr>\n",
       "      <th>0</th>\n",
       "      <td>=</td>\n",
       "      <td>x = 5</td>\n",
       "      <td>x = 5</td>\n",
       "      <td>Try it »</td>\n",
       "    </tr>\n",
       "    <tr>\n",
       "      <th>1</th>\n",
       "      <td>+=</td>\n",
       "      <td>x += 3</td>\n",
       "      <td>x = x + 3</td>\n",
       "      <td>Try it »</td>\n",
       "    </tr>\n",
       "    <tr>\n",
       "      <th>2</th>\n",
       "      <td>-=</td>\n",
       "      <td>x -= 3</td>\n",
       "      <td>x = x - 3</td>\n",
       "      <td>Try it »</td>\n",
       "    </tr>\n",
       "    <tr>\n",
       "      <th>3</th>\n",
       "      <td>*=</td>\n",
       "      <td>x *= 3</td>\n",
       "      <td>x = x * 3</td>\n",
       "      <td>Try it »</td>\n",
       "    </tr>\n",
       "    <tr>\n",
       "      <th>4</th>\n",
       "      <td>/=</td>\n",
       "      <td>x /= 3</td>\n",
       "      <td>x = x / 3</td>\n",
       "      <td>Try it »</td>\n",
       "    </tr>\n",
       "    <tr>\n",
       "      <th>5</th>\n",
       "      <td>%=</td>\n",
       "      <td>x %= 3</td>\n",
       "      <td>x = x % 3</td>\n",
       "      <td>Try it »</td>\n",
       "    </tr>\n",
       "    <tr>\n",
       "      <th>6</th>\n",
       "      <td>//=</td>\n",
       "      <td>x //= 3</td>\n",
       "      <td>x = x // 3</td>\n",
       "      <td>Try it »</td>\n",
       "    </tr>\n",
       "    <tr>\n",
       "      <th>7</th>\n",
       "      <td>**=</td>\n",
       "      <td>x **= 3</td>\n",
       "      <td>x = x ** 3</td>\n",
       "      <td>Try it »</td>\n",
       "    </tr>\n",
       "    <tr>\n",
       "      <th>8</th>\n",
       "      <td>&amp;=</td>\n",
       "      <td>x &amp;= 3</td>\n",
       "      <td>x = x &amp; 3</td>\n",
       "      <td>Try it »</td>\n",
       "    </tr>\n",
       "    <tr>\n",
       "      <th>9</th>\n",
       "      <td>|=</td>\n",
       "      <td>x |= 3</td>\n",
       "      <td>x = x | 3</td>\n",
       "      <td>Try it »</td>\n",
       "    </tr>\n",
       "    <tr>\n",
       "      <th>10</th>\n",
       "      <td>^=</td>\n",
       "      <td>x ^= 3</td>\n",
       "      <td>x = x ^ 3</td>\n",
       "      <td>Try it »</td>\n",
       "    </tr>\n",
       "    <tr>\n",
       "      <th>11</th>\n",
       "      <td>&gt;&gt;=</td>\n",
       "      <td>x &gt;&gt;= 3</td>\n",
       "      <td>x = x &gt;&gt; 3</td>\n",
       "      <td>Try it »</td>\n",
       "    </tr>\n",
       "    <tr>\n",
       "      <th>12</th>\n",
       "      <td>&lt;&lt;=</td>\n",
       "      <td>x &lt;&lt;= 3</td>\n",
       "      <td>x = x &lt;&lt; 3</td>\n",
       "      <td>Try it »</td>\n",
       "    </tr>\n",
       "    <tr>\n",
       "      <th>13</th>\n",
       "      <td>:=</td>\n",
       "      <td>print(x := 3)</td>\n",
       "      <td>x = 3 print(x)</td>\n",
       "      <td>Try it »</td>\n",
       "    </tr>\n",
       "  </tbody>\n",
       "</table>\n",
       "</div>"
      ],
      "text/plain": [
       "   Operator        Example         Same As    Try it\n",
       "0         =          x = 5           x = 5  Try it »\n",
       "1        +=         x += 3       x = x + 3  Try it »\n",
       "2        -=         x -= 3       x = x - 3  Try it »\n",
       "3        *=         x *= 3       x = x * 3  Try it »\n",
       "4        /=         x /= 3       x = x / 3  Try it »\n",
       "5        %=         x %= 3       x = x % 3  Try it »\n",
       "6       //=        x //= 3      x = x // 3  Try it »\n",
       "7       **=        x **= 3      x = x ** 3  Try it »\n",
       "8        &=         x &= 3       x = x & 3  Try it »\n",
       "9        |=         x |= 3       x = x | 3  Try it »\n",
       "10       ^=         x ^= 3       x = x ^ 3  Try it »\n",
       "11      >>=        x >>= 3      x = x >> 3  Try it »\n",
       "12      <<=        x <<= 3      x = x << 3  Try it »\n",
       "13       :=  print(x := 3)  x = 3 print(x)  Try it »"
      ]
     },
     "execution_count": 22,
     "metadata": {},
     "output_type": "execute_result"
    }
   ],
   "source": [
    "table[1]"
   ]
  },
  {
   "cell_type": "code",
   "execution_count": 33,
   "metadata": {},
   "outputs": [
    {
     "name": "stdout",
     "output_type": "stream",
     "text": [
      "8\n",
      "15\n",
      "13\n"
     ]
    }
   ],
   "source": [
    "a : int = 8\n",
    "\n",
    "print(a)\n",
    "a += 7\n",
    "print(a)\n",
    "a-= 2\n",
    "print(a)\n"
   ]
  },
  {
   "cell_type": "code",
   "execution_count": 34,
   "metadata": {},
   "outputs": [
    {
     "name": "stdout",
     "output_type": "stream",
     "text": [
      "8\n",
      "16\n"
     ]
    }
   ],
   "source": [
    "a : int = 8\n",
    "\n",
    "print(a)\n",
    "\n",
    "a *= 2\n",
    "print(a)"
   ]
  },
  {
   "cell_type": "code",
   "execution_count": 38,
   "metadata": {},
   "outputs": [
    {
     "name": "stdout",
     "output_type": "stream",
     "text": [
      "8\n",
      "1\n"
     ]
    }
   ],
   "source": [
    "a : int = 8\n",
    "\n",
    "print(a)\n",
    "\n",
    "a %= 7\n",
    "print(a)"
   ]
  },
  {
   "cell_type": "code",
   "execution_count": 48,
   "metadata": {},
   "outputs": [
    {
     "name": "stdout",
     "output_type": "stream",
     "text": [
      "100 50\n",
      "2 50\n"
     ]
    }
   ],
   "source": [
    "a : int = 100\n",
    "b: int = 50\n",
    "\n",
    "print(a,b)\n",
    "a //= b\n",
    "print(a,b)"
   ]
  },
  {
   "cell_type": "markdown",
   "metadata": {},
   "source": [
    "# Python Comparison Operators"
   ]
  },
  {
   "cell_type": "code",
   "execution_count": 49,
   "metadata": {},
   "outputs": [
    {
     "data": {
      "text/html": [
       "<div>\n",
       "<style scoped>\n",
       "    .dataframe tbody tr th:only-of-type {\n",
       "        vertical-align: middle;\n",
       "    }\n",
       "\n",
       "    .dataframe tbody tr th {\n",
       "        vertical-align: top;\n",
       "    }\n",
       "\n",
       "    .dataframe thead th {\n",
       "        text-align: right;\n",
       "    }\n",
       "</style>\n",
       "<table border=\"1\" class=\"dataframe\">\n",
       "  <thead>\n",
       "    <tr style=\"text-align: right;\">\n",
       "      <th></th>\n",
       "      <th>Operator</th>\n",
       "      <th>Name</th>\n",
       "      <th>Example</th>\n",
       "      <th>Try it</th>\n",
       "    </tr>\n",
       "  </thead>\n",
       "  <tbody>\n",
       "    <tr>\n",
       "      <th>0</th>\n",
       "      <td>==</td>\n",
       "      <td>Equal</td>\n",
       "      <td>x == y</td>\n",
       "      <td>Try it »</td>\n",
       "    </tr>\n",
       "    <tr>\n",
       "      <th>1</th>\n",
       "      <td>!=</td>\n",
       "      <td>Not equal</td>\n",
       "      <td>x != y</td>\n",
       "      <td>Try it »</td>\n",
       "    </tr>\n",
       "    <tr>\n",
       "      <th>2</th>\n",
       "      <td>&gt;</td>\n",
       "      <td>Greater than</td>\n",
       "      <td>x &gt; y</td>\n",
       "      <td>Try it »</td>\n",
       "    </tr>\n",
       "    <tr>\n",
       "      <th>3</th>\n",
       "      <td>&lt;</td>\n",
       "      <td>Less than</td>\n",
       "      <td>x &lt; y</td>\n",
       "      <td>Try it »</td>\n",
       "    </tr>\n",
       "    <tr>\n",
       "      <th>4</th>\n",
       "      <td>&gt;=</td>\n",
       "      <td>Greater than or equal to</td>\n",
       "      <td>x &gt;= y</td>\n",
       "      <td>Try it »</td>\n",
       "    </tr>\n",
       "    <tr>\n",
       "      <th>5</th>\n",
       "      <td>&lt;=</td>\n",
       "      <td>Less than or equal to</td>\n",
       "      <td>x &lt;= y</td>\n",
       "      <td>Try it »</td>\n",
       "    </tr>\n",
       "  </tbody>\n",
       "</table>\n",
       "</div>"
      ],
      "text/plain": [
       "  Operator                      Name Example    Try it\n",
       "0       ==                     Equal  x == y  Try it »\n",
       "1       !=                 Not equal  x != y  Try it »\n",
       "2        >              Greater than   x > y  Try it »\n",
       "3        <                 Less than   x < y  Try it »\n",
       "4       >=  Greater than or equal to  x >= y  Try it »\n",
       "5       <=     Less than or equal to  x <= y  Try it »"
      ]
     },
     "execution_count": 49,
     "metadata": {},
     "output_type": "execute_result"
    }
   ],
   "source": [
    "table[2]"
   ]
  },
  {
   "cell_type": "code",
   "execution_count": 51,
   "metadata": {},
   "outputs": [
    {
     "name": "stdout",
     "output_type": "stream",
     "text": [
      "False False True False\n"
     ]
    }
   ],
   "source": [
    "a : int = 10\n",
    "b: int = 20\n",
    "c : int = 10\n",
    "\n",
    "print(a==b,b==c,a==c,c!=a)"
   ]
  },
  {
   "cell_type": "code",
   "execution_count": 52,
   "metadata": {},
   "outputs": [
    {
     "name": "stdout",
     "output_type": "stream",
     "text": [
      "False True False True\n"
     ]
    }
   ],
   "source": [
    "a : int = 10\n",
    "b: int = 20\n",
    "c : int = 10\n",
    "\n",
    "print(a>b,b>a,c>b,b>c)"
   ]
  },
  {
   "cell_type": "code",
   "execution_count": 55,
   "metadata": {},
   "outputs": [
    {
     "name": "stdout",
     "output_type": "stream",
     "text": [
      "True\n"
     ]
    }
   ],
   "source": [
    "a :int = 4\n",
    "b:int = 4\n",
    "\n",
    "print(a >= b)"
   ]
  },
  {
   "cell_type": "code",
   "execution_count": 60,
   "metadata": {},
   "outputs": [
    {
     "name": "stdout",
     "output_type": "stream",
     "text": [
      "True\n"
     ]
    }
   ],
   "source": [
    "a :int = 8\n",
    "b:int = 9\n",
    "\n",
    "print(a <= b)"
   ]
  },
  {
   "cell_type": "code",
   "execution_count": 61,
   "metadata": {},
   "outputs": [
    {
     "data": {
      "text/plain": [
       "65"
      ]
     },
     "execution_count": 61,
     "metadata": {},
     "output_type": "execute_result"
    }
   ],
   "source": [
    "65"
   ]
  },
  {
   "cell_type": "markdown",
   "metadata": {},
   "source": [
    "# Python Logical Operators\n"
   ]
  },
  {
   "cell_type": "code",
   "execution_count": 63,
   "metadata": {},
   "outputs": [
    {
     "data": {
      "text/html": [
       "<div>\n",
       "<style scoped>\n",
       "    .dataframe tbody tr th:only-of-type {\n",
       "        vertical-align: middle;\n",
       "    }\n",
       "\n",
       "    .dataframe tbody tr th {\n",
       "        vertical-align: top;\n",
       "    }\n",
       "\n",
       "    .dataframe thead th {\n",
       "        text-align: right;\n",
       "    }\n",
       "</style>\n",
       "<table border=\"1\" class=\"dataframe\">\n",
       "  <thead>\n",
       "    <tr style=\"text-align: right;\">\n",
       "      <th></th>\n",
       "      <th>Operator</th>\n",
       "      <th>Description</th>\n",
       "      <th>Example</th>\n",
       "      <th>Try it</th>\n",
       "    </tr>\n",
       "  </thead>\n",
       "  <tbody>\n",
       "    <tr>\n",
       "      <th>0</th>\n",
       "      <td>and</td>\n",
       "      <td>Returns True if both statements are true</td>\n",
       "      <td>x &lt; 5 and x &lt; 10</td>\n",
       "      <td>Try it »</td>\n",
       "    </tr>\n",
       "    <tr>\n",
       "      <th>1</th>\n",
       "      <td>or</td>\n",
       "      <td>Returns True if one of the statements is true</td>\n",
       "      <td>x &lt; 5 or x &lt; 4</td>\n",
       "      <td>Try it »</td>\n",
       "    </tr>\n",
       "    <tr>\n",
       "      <th>2</th>\n",
       "      <td>not</td>\n",
       "      <td>Reverse the result, returns False if the resul...</td>\n",
       "      <td>not(x &lt; 5 and x &lt; 10)</td>\n",
       "      <td>Try it »</td>\n",
       "    </tr>\n",
       "  </tbody>\n",
       "</table>\n",
       "</div>"
      ],
      "text/plain": [
       "  Operator                                        Description  \\\n",
       "0      and           Returns True if both statements are true   \n",
       "1       or      Returns True if one of the statements is true   \n",
       "2      not  Reverse the result, returns False if the resul...   \n",
       "\n",
       "                 Example    Try it  \n",
       "0       x < 5 and x < 10  Try it »  \n",
       "1         x < 5 or x < 4  Try it »  \n",
       "2  not(x < 5 and x < 10)  Try it »  "
      ]
     },
     "execution_count": 63,
     "metadata": {},
     "output_type": "execute_result"
    }
   ],
   "source": [
    "table[3]"
   ]
  },
  {
   "cell_type": "code",
   "execution_count": 66,
   "metadata": {},
   "outputs": [
    {
     "data": {
      "text/plain": [
       "True"
      ]
     },
     "execution_count": 66,
     "metadata": {},
     "output_type": "execute_result"
    }
   ],
   "source": [
    "name : str = \"Abdullah\"\n",
    "\n",
    "True and True and False\n",
    "True or True or False"
   ]
  },
  {
   "cell_type": "code",
   "execution_count": 71,
   "metadata": {},
   "outputs": [
    {
     "name": "stdout",
     "output_type": "stream",
     "text": [
      "True\n"
     ]
    }
   ],
   "source": [
    "name : str = \"Usama\"\n",
    "print( name!= \"Abdullah\")"
   ]
  },
  {
   "cell_type": "code",
   "execution_count": 73,
   "metadata": {},
   "outputs": [
    {
     "name": "stdout",
     "output_type": "stream",
     "text": [
      "False\n"
     ]
    }
   ],
   "source": [
    "name : str = \"Abdullah\"\n",
    "print(not name== \"Abdullah\")"
   ]
  }
 ],
 "metadata": {
  "kernelspec": {
   "display_name": "Python 3",
   "language": "python",
   "name": "python3"
  },
  "language_info": {
   "codemirror_mode": {
    "name": "ipython",
    "version": 3
   },
   "file_extension": ".py",
   "mimetype": "text/x-python",
   "name": "python",
   "nbconvert_exporter": "python",
   "pygments_lexer": "ipython3",
   "version": "3.12.4"
  }
 },
 "nbformat": 4,
 "nbformat_minor": 2
}
