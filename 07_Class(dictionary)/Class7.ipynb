{
  "cells": [
    {
      "cell_type": "code",
      "execution_count": 1,
      "metadata": {
        "colab": {
          "base_uri": "https://localhost:8080/"
        },
        "id": "njfH4_LITyBs",
        "outputId": "aeccc505-c5a6-4162-d4d8-590cd62b0745"
      },
      "outputs": [
        {
          "data": {
            "text/plain": [
              "['Abdullah', 'Qadir', 'Shazil', 'Shazaib']"
            ]
          },
          "execution_count": 1,
          "metadata": {},
          "output_type": "execute_result"
        }
      ],
      "source": [
        "data : list[str , str] = [\"Abdullah\", \"Qadir\", \"Shazil\" , \"Shazaib\"]\n",
        "\n",
        "data"
      ]
    },
    {
      "cell_type": "code",
      "execution_count": 3,
      "metadata": {
        "colab": {
          "base_uri": "https://localhost:8080/"
        },
        "id": "UIf7maH1Ua9e",
        "outputId": "c7f6d951-1bb0-44c8-f78b-410ce9b741be"
      },
      "outputs": [
        {
          "name": "stdout",
          "output_type": "stream",
          "text": [
            "['Abdullah', 'Qadir', 'Shazil', 'Shazaib', 'Qadir']\n"
          ]
        }
      ],
      "source": [
        "#  list                      0           1        2            3\n",
        "data : list[str , str] = [\"Abdullah\", \"Qadir\", \"Shazil\" , \"Shazaib\"] # Index , Value\n",
        "data.append(\"Qadir\")\n",
        "print(data)"
      ]
    },
    {
      "cell_type": "markdown",
      "metadata": {
        "id": "6jFFAAzxU6lM"
      },
      "source": [
        "# Dictionary\n",
        "* key:value (items)\n",
        "\n",
        "               * key replacement of indexes\n",
        "               * value item\n",
        "* dict_variable[key]\n",
        "\n",
        " * dict_variable[new_key] = new_value\n",
        "     * add new value\n",
        "     * update value"
      ]
    },
    {
      "cell_type": "code",
      "execution_count": 7,
      "metadata": {
        "colab": {
          "base_uri": "https://localhost:8080/"
        },
        "id": "zUeVNIWSU6BR",
        "outputId": "7d94382c-490b-4cbe-d11f-434c5c0c4403"
      },
      "outputs": [
        {
          "name": "stdout",
          "output_type": "stream",
          "text": [
            "{'age': 19, 'education': 'Fsc', 'fname': 'Muhammad Iqbal', 'name': 'Abdullah'}\n"
          ]
        }
      ],
      "source": [
        "from typing import Dict\n",
        "import pprint\n",
        "\n",
        "data : dict[str, str] = {\n",
        "    \"name\": \"Abdullah\",\n",
        "    \"fname\" : \"Muhammad Iqbal\",\n",
        "    \"age\" : 19,\n",
        "    \"education\": \"Fsc\"\n",
        "}\n",
        "\n",
        "pprint.pprint(data)"
      ]
    },
    {
      "cell_type": "code",
      "execution_count": 9,
      "metadata": {
        "colab": {
          "base_uri": "https://localhost:8080/"
        },
        "id": "bTsXFUv0bUjZ",
        "outputId": "90a5acaf-d14e-4c19-8fbf-7ecbe7703a50"
      },
      "outputs": [
        {
          "name": "stdout",
          "output_type": "stream",
          "text": [
            "'Abdullah'\n",
            "'Muhammad Iqbal'\n",
            "19\n",
            "'Fsc'\n"
          ]
        }
      ],
      "source": [
        "from typing import Dict\n",
        "import pprint\n",
        "\n",
        "data : dict[str, str] = {\n",
        "    \"name\": \"Abdullah\",\n",
        "    \"fname\" : \"Muhammad Iqbal\",\n",
        "    \"age\" : 19,\n",
        "    \"education\": \"Fsc\"\n",
        "}\n",
        "\n",
        "pprint.pprint(data[\"name\"])\n",
        "pprint.pprint(data[\"fname\"])\n",
        "pprint.pprint(data[\"age\"])\n",
        "pprint.pprint(data[\"education\"])"
      ]
    },
    {
      "cell_type": "code",
      "execution_count": 13,
      "metadata": {
        "colab": {
          "base_uri": "https://localhost:8080/"
        },
        "id": "khD59iw4b553",
        "outputId": "e5fbceb3-88cf-4375-c754-2049e8bfbacf"
      },
      "outputs": [
        {
          "name": "stdout",
          "output_type": "stream",
          "text": [
            "{'name': 'Abdullah', 'fname': 'Muhammad Iqbal', 'age': 19, 'education': 'Fsc', 100: 'PAKISTAN'}\n",
            "PAKISTAN\n"
          ]
        }
      ],
      "source": [
        "from typing import Dict , Union\n",
        "import pprint\n",
        "\n",
        "Key = Union[str , int]\n",
        "Value = Union[str , int , list, dict , tuple , set]\n",
        "\n",
        "\n",
        "\n",
        "data : dict[Key, Value] = {\n",
        "    \"name\": \"Abdullah\",\n",
        "    \"fname\" : \"Muhammad Iqbal\",\n",
        "    \"age\" : 19,\n",
        "    \"education\": \"Fsc\",\n",
        "    100 : \"PAKISTAN\"\n",
        "}\n",
        "\n",
        "print(data)\n",
        "print(data[100]) # index = key\n",
        "print(data[\"name\"]) # key = value\n",
        "\n",
        "# pprint.pprint(data)"
      ]
    },
    {
      "cell_type": "code",
      "execution_count": 15,
      "metadata": {
        "colab": {
          "base_uri": "https://localhost:8080/"
        },
        "id": "z6V4519CdNjX",
        "outputId": "85b38fef-30f2-4687-873b-a9d215aa261e"
      },
      "outputs": [
        {
          "name": "stdout",
          "output_type": "stream",
          "text": [
            "{'name': 'AbdullahIqbal', 'fname': 'Muhammad Iqbal', 'age': 20, 'education': 'BSCS', 100: 'PAKISTAN'}\n"
          ]
        }
      ],
      "source": [
        "from typing import Dict , Union\n",
        "import pprint\n",
        "\n",
        "Key = Union[str , int]\n",
        "Value = Union[str , int , list, dict , tuple , set]\n",
        "\n",
        "\n",
        "data : dict[Key, Value] = {\n",
        "    \"name\": \"Abdullah\",\n",
        "    \"fname\" : \"Muhammad Iqbal\",\n",
        "    \"age\" : 19,\n",
        "    \"education\": \"Fsc\",\n",
        "    100 : \"PAKISTAN\"\n",
        "}\n",
        "\n",
        "data[\"name\"] = \"AbdullahIqbal\"\n",
        "data[\"age\"] = 20\n",
        "data[\"education\"] = \"BSCS\"\n",
        "\n",
        "print(data)"
      ]
    },
    {
      "cell_type": "code",
      "execution_count": 3,
      "metadata": {
        "colab": {
          "base_uri": "https://localhost:8080/",
          "height": 106
        },
        "id": "wF6ytnQGeHhJ",
        "outputId": "71773e77-7e28-487c-babc-9d84c89ff97c"
      },
      "outputs": [
        {
          "name": "stdout",
          "output_type": "stream",
          "text": [
            "{'name': 'M.Abdullah', 'fname': 'Muhammad Iqbal', 'age': 19, 'education': 'Fsc'}\n"
          ]
        }
      ],
      "source": [
        "from typing import Dict , Union\n",
        "import pprint\n",
        "\n",
        "Key = Union[str , int]\n",
        "Value = Union[str , int , list, dict , tuple , set]\n",
        "\n",
        "\n",
        "data : dict[Key, Value] = {\n",
        "    \"name\": \"Abdullah\",\n",
        "    \"fname\" : \"Muhammad Iqbal\",\n",
        "    \"age\" : 19,\n",
        "            \"education\": \"Fsc\",\n",
        "    #  [1 ,2 , 4 ,5] : \"PAKISTAN\", # Error\n",
        "    #  (1 , 2 ,3 ) : \"hello\" # Error\n",
        "    # {1 , 2 , 3} : \"hello\" Error\n",
        "}\n",
        "data[\"name\"] = \"M.Abdullah\"\n",
        "print(data)"
      ]
    },
    {
      "cell_type": "code",
      "execution_count": 4,
      "metadata": {},
      "outputs": [],
      "source": [
        "user_0 = {\n",
        " 'username': 'efermi',\n",
        " 'first': 'enrico',\n",
        " 'last': 'fermi',\n",
        " }"
      ]
    },
    {
      "cell_type": "code",
      "execution_count": 5,
      "metadata": {},
      "outputs": [
        {
          "name": "stdout",
          "output_type": "stream",
          "text": [
            "\n",
            "Key: username\n",
            "Value: efermi\n",
            "\n",
            "Key: first\n",
            "Value: enrico\n",
            "\n",
            "Key: last\n",
            "Value: fermi\n"
          ]
        }
      ],
      "source": [
        "for key, value in user_0.items():\n",
        " print(f\"\\nKey: {key}\")\n",
        " print(f\"Value: {value}\")"
      ]
    },
    {
      "cell_type": "code",
      "execution_count": 20,
      "metadata": {},
      "outputs": [
        {
          "name": "stdout",
          "output_type": "stream",
          "text": [
            "\n",
            "Jen's favorite languages are: \t\n",
            "\tPython\n",
            "\tRust\n",
            "\n",
            "Sarah's favorite languages are: \t\n",
            "\tC\n",
            "\n",
            "Edward's favorite languages are: \t\n",
            "\tRust\n",
            "\tGo\n",
            "\n",
            "Phil's favorite languages are: \t\n",
            "\tPython\n",
            "\tHaskell\n"
          ]
        }
      ],
      "source": [
        "favorite_languages = {\n",
        " 'jen': ['python', 'rust'],\n",
        " 'sarah': ['c'],\n",
        " 'edward': ['rust', 'go'],\n",
        " 'phil': ['python', 'haskell'],\n",
        " }\n",
        "for name, languages in favorite_languages.items():\n",
        "    print(f\"\\n{name.title()}'s favorite languages are: \")\n",
        "    for language in languages:\n",
        "      print(f\"\\t{language.title()}\")"
      ]
    }
  ],
  "metadata": {
    "colab": {
      "provenance": []
    },
    "kernelspec": {
      "display_name": "Python 3",
      "name": "python3"
    },
    "language_info": {
      "codemirror_mode": {
        "name": "ipython",
        "version": 3
      },
      "file_extension": ".py",
      "mimetype": "text/x-python",
      "name": "python",
      "nbconvert_exporter": "python",
      "pygments_lexer": "ipython3",
      "version": "3.12.4"
    }
  },
  "nbformat": 4,
  "nbformat_minor": 0
}
