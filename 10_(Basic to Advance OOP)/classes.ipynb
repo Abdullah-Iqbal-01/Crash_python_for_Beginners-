{
 "cells": [
  {
   "cell_type": "markdown",
   "metadata": {},
   "source": [
    "### OOP (Object-Oriented Programming)\n",
    "#### Object:\n",
    "* Har cheez jiska koi naam aur state ho, use object kaha jata hai.\n",
    "\n",
    "#### Oriented:\n",
    "* Jab program ka focus objects ke around ho, toh hum kehte hain ke program object-oriented hai.\n",
    "\n",
    "#### Programming:\n",
    "* Programming ek process hai jisme hum computers ko specific tasks perform karne ke liye instructions (code) likhte hain, taake wo humare diye gaye commands ke mutabiq kaam karein.\n",
    "\n",
    "### In English:\n",
    "* Programming is the process of writing instructions (code) for computers to perform specific tasks, so that they execute actions according to the given commands.\n",
    "\n",
    "---"
   ]
  },
  {
   "cell_type": "markdown",
   "metadata": {},
   "source": [
    "## Classes"
   ]
  },
  {
   "cell_type": "code",
   "execution_count": null,
   "metadata": {},
   "outputs": [
    {
     "name": "stdout",
     "output_type": "stream",
     "text": [
      "My Class\n"
     ]
    }
   ],
   "source": [
    "class MyClass: # class Class_name:\n",
    "    def __init__(self): # def __init__(self): => constructor\n",
    "        print(\"My Class\")\n",
    "\n",
    "obj = MyClass() # obj = class_name() => CLass object"
   ]
  },
  {
   "cell_type": "code",
   "execution_count": 6,
   "metadata": {},
   "outputs": [
    {
     "name": "stdout",
     "output_type": "stream",
     "text": [
      "Abdullah is 20 years old\n",
      "20\n",
      "Abdullah\n"
     ]
    }
   ],
   "source": [
    "class Student: # self => object , Reserve Keyword\n",
    "    def __init__(self, name: str, age: int)->None:\n",
    "        self.name: str = name # => instance ,  attribute\n",
    "        self.age : int = age\n",
    "\n",
    "    def sudent_info(self)->str: # Function => Method\n",
    "        return f\"{self.name} is {self.age} years old\"\n",
    "    \n",
    "student1 : Student = Student(\"Abdullah\", 20)\n",
    "print(student1.sudent_info())\n",
    "print(student1.age)\n",
    "print(student1.name)"
   ]
  },
  {
   "cell_type": "markdown",
   "metadata": {},
   "source": [
    "## Pilars of OOP (Object Orianted Programmning) \n",
    "* Inehritance \n",
    "* Polymorphism\n",
    "* Encapsulation \n",
    "* Abstraction\n",
    "\n",
    "## OverLoading\n",
    "## Overriding"
   ]
  },
  {
   "cell_type": "markdown",
   "metadata": {},
   "source": [
    "# Inheritance"
   ]
  },
  {
   "cell_type": "code",
   "execution_count": 17,
   "metadata": {},
   "outputs": [
    {
     "name": "stdout",
     "output_type": "stream",
     "text": [
      "Black\n",
      "Brown\n",
      "Speaking Hi\n",
      "=============Child Class===============\n",
      "Black\n",
      "Brown\n",
      "Speaking Hello\n"
     ]
    }
   ],
   "source": [
    "class Parent:\n",
    "    def __init__(self):\n",
    "        self.eye_color = \"Black\"\n",
    "        self.hair_color = \"Brown\"\n",
    "\n",
    "    def speak(self , word: str)->None:\n",
    "        print(f\"Speaking {word}\")\n",
    "\n",
    "class Child(Parent):\n",
    "    pass\n",
    "\n",
    "\n",
    "parent : Parent = Parent()\n",
    "print(parent.eye_color)\n",
    "print(parent.hair_color)\n",
    "\n",
    "parent.speak(\"Hi\")\n",
    "\n",
    "print(\"=============Child Class===============\")\n",
    "\n",
    "child : Child = Child()\n",
    "print(child.eye_color)\n",
    "print(child.hair_color)\n",
    "\n",
    "child.speak(\"Hello\")\n",
    "\n",
    "\n",
    "        "
   ]
  },
  {
   "cell_type": "code",
   "execution_count": 19,
   "metadata": {},
   "outputs": [
    {
     "name": "stdout",
     "output_type": "stream",
     "text": [
      "Black\n",
      "Brown\n",
      "Speaking Hi\n",
      "=============Child Class===============\n",
      "Black\n",
      "Brown\n",
      "Abdullah\n",
      "Speaking Hello\n"
     ]
    }
   ],
   "source": [
    "class Parent:\n",
    "    def __init__(self):\n",
    "        self.eye_color = \"Black\"\n",
    "        self.hair_color = \"Brown\"\n",
    "\n",
    "    def speak(self , word: str)->None:\n",
    "        print(f\"Speaking {word}\")\n",
    "\n",
    "class Child(Parent):\n",
    "    def __init__(self):\n",
    "        super().__init__()\n",
    "        self.name = \"Abdullah\"\n",
    "\n",
    "\n",
    "parent : Parent = Parent()\n",
    "print(parent.eye_color)\n",
    "print(parent.hair_color)\n",
    "parent.speak(\"Hi\")\n",
    "\n",
    "print(\"=============Child Class===============\")\n",
    "\n",
    "child : Child = Child() \n",
    "print(child.eye_color)\n",
    "print(child.hair_color)\n",
    "print(child.name)\n",
    "\n",
    "child.speak(\"Hello\")\n"
   ]
  },
  {
   "cell_type": "code",
   "execution_count": null,
   "metadata": {},
   "outputs": [
    {
     "name": "stdout",
     "output_type": "stream",
     "text": [
      "2222-2222222\n",
      "xyz\n",
      "Bangladesh\n",
      "Abdullah\n",
      "20\n"
     ]
    }
   ],
   "source": [
    "class Campany:\n",
    "    def __init__(self):\n",
    "        self.campany_name : str =  \"xyz\"\n",
    "        self.location: str = \"Bangladesh\"\n",
    "\n",
    "    def Help_line(self):\n",
    "        print(\"2222-2222222\")\n",
    "\n",
    "class Employee(Campany):\n",
    "    def __init__(self, name: str, age: int):\n",
    "        super().__init__() # Super class or  Method\n",
    "        self.name = name\n",
    "        self.age = age\n",
    "\n",
    "\n",
    "employee : Employee = Employee(\"Abdullah\", 20)\n",
    "employee.Help_line()\n",
    "print(employee.campany_name)\n",
    "print(employee.location)\n",
    "print(employee.name)\n",
    "print(employee.age)"
   ]
  },
  {
   "cell_type": "markdown",
   "metadata": {},
   "source": [
    "## Multiple Inheritance"
   ]
  },
  {
   "cell_type": "code",
   "execution_count": null,
   "metadata": {},
   "outputs": [
    {
     "name": "stdout",
     "output_type": "stream",
     "text": [
      "Black\n",
      "Brown\n",
      "Speaking Hi\n",
      "cooking chicken\n",
      "Abdullah\n",
      "20\n"
     ]
    }
   ],
   "source": [
    "class Father:\n",
    "    def __init__(self):\n",
    "        self.eye_color = \"Black\"\n",
    "\n",
    "    def speak(self , word: str)->None:\n",
    "        print(f\"Speaking {word}\")\n",
    "\n",
    "class Mother:\n",
    "    def __init__(self) -> None:\n",
    "        self.hair_color = \"Brown\"\n",
    "\n",
    "    def cooking(self , food: str)->None:\n",
    "        print(f\"cooking {food}\")\n",
    "\n",
    "class Child(Father, Mother):\n",
    "    def __init__(self, name: str, age: int):\n",
    "        Father.__init__(self)\n",
    "        Mother.__init__(self)\n",
    "        self.name = name\n",
    "        self.age = age\n",
    "    \n",
    "\n",
    "child : Child = Child(\"Abdullah\", 20)\n",
    "print(child.eye_color)\n",
    "print(child.hair_color)\n",
    "child.speak(\"Hi\")\n",
    "child.cooking(\"chicken\")\n",
    "print(child.name)\n",
    "print(child.age)"
   ]
  },
  {
   "cell_type": "code",
   "execution_count": 25,
   "metadata": {},
   "outputs": [
    {
     "name": "stdout",
     "output_type": "stream",
     "text": [
      "Black\n",
      "Brown\n",
      "Father Speaking Hi\n",
      "cooking chicken\n",
      "Abdullah\n",
      "20\n"
     ]
    }
   ],
   "source": [
    "class Father:\n",
    "    def __init__(self):\n",
    "        self.eye_color = \"Black\"\n",
    "\n",
    "    def speak(self , word: str)->None:\n",
    "        print(f\"Father Speaking {word}\")\n",
    "\n",
    "    \n",
    "\n",
    "class Mother:\n",
    "    def __init__(self) -> None:\n",
    "        self.hair_color = \"Brown\"\n",
    "\n",
    "    def speak(self , word: str)->None:\n",
    "        print(f\"Mother speaking {word}\")\n",
    "\n",
    "    def cooking(self , food: str)->None:\n",
    "        print(f\"cooking {food}\")\n",
    "\n",
    "class Child(Father, Mother):\n",
    "    def __init__(self, name: str, age: int):\n",
    "        Father.__init__(self)\n",
    "        Mother.__init__(self)\n",
    "        self.name = name\n",
    "        self.age = age\n",
    "    \n",
    "\n",
    "child : Child = Child(\"Abdullah\", 20)\n",
    "print(child.eye_color)\n",
    "print(child.hair_color)\n",
    "child.speak(\"Hi\")\n",
    "child.cooking(\"chicken\")\n",
    "print(child.name)\n",
    "print(child.age)"
   ]
  },
  {
   "cell_type": "code",
   "execution_count": 26,
   "metadata": {},
   "outputs": [
    {
     "name": "stdout",
     "output_type": "stream",
     "text": [
      "Black\n",
      "Brown\n",
      "Mother speaking Hi\n",
      "cooking chicken\n",
      "Abdullah\n",
      "20\n"
     ]
    }
   ],
   "source": [
    "class Father:\n",
    "    def __init__(self):\n",
    "        self.eye_color = \"Black\"\n",
    "\n",
    "    def speak(self , word: str)->None:\n",
    "        print(f\"Father Speaking {word}\")\n",
    "\n",
    "    \n",
    "\n",
    "class Mother:\n",
    "    def __init__(self) -> None:\n",
    "        self.hair_color = \"Brown\"\n",
    "\n",
    "    def speak(self , word: str)->None:\n",
    "        print(f\"Mother speaking {word}\")\n",
    "\n",
    "    def cooking(self , food: str)->None:\n",
    "        print(f\"cooking {food}\")\n",
    "\n",
    "class Child(Mother , Father):\n",
    "    def __init__(self, name: str, age: int):\n",
    "        Father.__init__(self)\n",
    "        Mother.__init__(self)\n",
    "        self.name = name\n",
    "        self.age = age\n",
    "    \n",
    "\n",
    "child : Child = Child(\"Abdullah\", 20)\n",
    "print(child.eye_color)\n",
    "print(child.hair_color)\n",
    "child.speak(\"Hi\")\n",
    "child.cooking(\"chicken\")\n",
    "print(child.name)\n",
    "print(child.age)"
   ]
  },
  {
   "cell_type": "markdown",
   "metadata": {},
   "source": [
    "## Class Variables / Static method"
   ]
  },
  {
   "cell_type": "code",
   "execution_count": 30,
   "metadata": {},
   "outputs": [
    {
     "name": "stdout",
     "output_type": "stream",
     "text": [
      "2222-2222222\n",
      "Bangladesh\n"
     ]
    }
   ],
   "source": [
    "class Campany:\n",
    "    help_line: str = \"2222-2222222\"\n",
    "    location: str = \"Bangladesh\"\n",
    "\n",
    "    def __init__(self , name: str):\n",
    "        self.campany_name = name\n",
    "    \n",
    "    def capmany_info(self):\n",
    "        print(f\"Campany Name: {self.campany_name}\")\n",
    "        print(f\"Campany Location: {self.location}\")\n",
    "        print(f\"Campany Help Line: {self.help_line}\")\n",
    "\n",
    "\n",
    "# campany1 : Campany = Campany(\"Abdullah\")\n",
    "# campany1.help_line\n",
    "# campany1.location\n",
    "\n",
    "print(Campany.help_line)\n",
    "print(Campany.location)\n"
   ]
  },
  {
   "cell_type": "code",
   "execution_count": 31,
   "metadata": {},
   "outputs": [
    {
     "name": "stdout",
     "output_type": "stream",
     "text": [
      "Industry Name: Abdullah\n",
      "Industry Cell No: 2222-2222222\n"
     ]
    }
   ],
   "source": [
    "class Food_Industry:\n",
    "    cell_no = \"2222-2222222\"\n",
    "\n",
    "    def __init__(self , name: str):\n",
    "        self.industry_name = name\n",
    "\n",
    "    def industry_info(self):\n",
    "        print(f\"Industry Name: {self.industry_name}\")\n",
    "        print(f\"Industry Cell No: {self.cell_no}\")\n",
    "\n",
    "\n",
    "food_industry : Food_Industry = Food_Industry(\"Abdullah\")\n",
    "food_industry.industry_info()\n"
   ]
  },
  {
   "cell_type": "markdown",
   "metadata": {},
   "source": [
    "## Overriding"
   ]
  },
  {
   "cell_type": "code",
   "execution_count": 42,
   "metadata": {},
   "outputs": [
    {
     "name": "stdout",
     "output_type": "stream",
     "text": [
      "Cat Eating Bread\n",
      "Animal Eating Meat\n"
     ]
    }
   ],
   "source": [
    "class Animal:\n",
    "\n",
    "    def eat(self , food: str):\n",
    "        print(f\"Animal Eating {food}\")\n",
    "\n",
    "class Cat(Animal):\n",
    "    def eat(self , food: str):\n",
    "        print(f\"Cat Eating {food}\")\n",
    "\n",
    "\n",
    "\n",
    "\n",
    "\n",
    "\n",
    "cat : Cat = Cat()\n",
    "cat.eat(\"Bread\")\n",
    "\n",
    "animal : Animal = Animal()\n",
    "animal.eat(\"Meat\")\n"
   ]
  },
  {
   "cell_type": "markdown",
   "metadata": {},
   "source": [
    "## ploymorphism"
   ]
  },
  {
   "cell_type": "code",
   "execution_count": 46,
   "metadata": {},
   "outputs": [
    {
     "name": "stdout",
     "output_type": "stream",
     "text": [
      "Cat Eating Meat\n"
     ]
    }
   ],
   "source": [
    "animal : Animal = Cat() # It will decide on run time which class to call\n",
    "animal.eat(\"Meat\")"
   ]
  },
  {
   "cell_type": "code",
   "execution_count": 47,
   "metadata": {},
   "outputs": [
    {
     "name": "stdout",
     "output_type": "stream",
     "text": [
      "<class '__main__.Cat'>\n"
     ]
    }
   ],
   "source": [
    "print(type(animal))"
   ]
  },
  {
   "cell_type": "code",
   "execution_count": 48,
   "metadata": {},
   "outputs": [
    {
     "name": "stdout",
     "output_type": "stream",
     "text": [
      "Cat is eating Fish\n",
      "Dog is eating Bone\n"
     ]
    }
   ],
   "source": [
    "class Animal:\n",
    "    def eat(self, food: str) -> None:\n",
    "        print(f\"Animal is eating {food}\")\n",
    "\n",
    "class Cat(Animal):\n",
    "    def eat(self, food: str) -> None:\n",
    "        print(f\"Cat is eating {food}\")\n",
    "\n",
    "class Dog(Animal):\n",
    "    def eat(self, food: str) -> None:\n",
    "        print(f\"Dog is eating {food}\")\n",
    "\n",
    "# Polymorphism in action\n",
    "animal: Animal = Cat()  # Cat object\n",
    "animal.eat(\"Fish\")      # Output: Cat is eating Fish\n",
    "\n",
    "animal = Dog()          # Dog object\n",
    "animal.eat(\"Bone\")      # Output: Dog is eating Bone\n"
   ]
  },
  {
   "cell_type": "code",
   "execution_count": 49,
   "metadata": {},
   "outputs": [
    {
     "name": "stdout",
     "output_type": "stream",
     "text": [
      "<class '__main__.Dog'>\n",
      "<class 'type'>\n",
      "<class 'type'>\n"
     ]
    }
   ],
   "source": [
    "print(type(animal))\n",
    "\n",
    "print(type(Cat))\n",
    "print(type(Dog))"
   ]
  },
  {
   "cell_type": "markdown",
   "metadata": {},
   "source": [
    "## Overloading\n",
    "* \"Ek hi naam ka function, magar uska behaviour (kaam) alag-alag ho, aur yeh difference function ke arguments ki type ya number par depend kare.\""
   ]
  },
  {
   "cell_type": "code",
   "execution_count": 55,
   "metadata": {},
   "outputs": [
    {
     "name": "stdout",
     "output_type": "stream",
     "text": [
      "3\n",
      "3.0\n",
      "Hello, World!\n"
     ]
    }
   ],
   "source": [
    "from typing import overload\n",
    "class adder:\n",
    "\n",
    "    @overload\n",
    "    def add(x: int, y: int)->int:\n",
    "        return x+y\n",
    "    \n",
    "    @overload\n",
    "    def add(x: float, y: float)->float:\n",
    "        return x+y\n",
    "    \n",
    "    @overload\n",
    "    def add(x: str, y: str)->str:\n",
    "        return x+y\n",
    "    \n",
    "    def add(x : int | float | str , y : int | float | str)->int | float | str:\n",
    "        if isinstance (x, int) and isinstance(y, int):\n",
    "            return x+y\n",
    "        elif isinstance(x, float) and isinstance(y, float):\n",
    "            return x+y\n",
    "        elif isinstance(x, str) and isinstance(y, str):\n",
    "            return x+y\n",
    "        else:\n",
    "            raise TypeError(\"Invalid input type\")\n",
    "        \n",
    "\n",
    "print(adder.add(1,2))\n",
    "print(adder.add(1.0,2.0))\n",
    "print(adder.add(\"Hello,\",\" World!\"))"
   ]
  },
  {
   "cell_type": "code",
   "execution_count": 56,
   "metadata": {},
   "outputs": [
    {
     "name": "stdout",
     "output_type": "stream",
     "text": [
      "Final add method is executing.\n",
      "3\n",
      "Final add method is executing.\n",
      "3.0\n",
      "Final add method is executing.\n",
      "Hello, World!\n"
     ]
    }
   ],
   "source": [
    "from typing import overload\n",
    "\n",
    "class Adder:\n",
    "    @overload\n",
    "    def add(self, x: int, y: int) -> int:\n",
    "        ...\n",
    "\n",
    "    @overload\n",
    "    def add(self, x: float, y: float) -> float:\n",
    "        ...\n",
    "\n",
    "    @overload\n",
    "    def add(self, x: str, y: str) -> str:\n",
    "        ...\n",
    "\n",
    "    def add(self, x: int | float | str, y: int | float | str) -> int | float | str:\n",
    "        print(\"Final add method is executing.\")\n",
    "        if isinstance(x, int) and isinstance(y, int):\n",
    "            return x + y\n",
    "        elif isinstance(x, float) and isinstance(y, float):\n",
    "            return x + y\n",
    "        elif isinstance(x, str) and isinstance(y, str):\n",
    "            return x + y\n",
    "        else:\n",
    "            raise TypeError(\"Invalid input types.\")\n",
    "\n",
    "adder = Adder()\n",
    "print(adder.add(1, 2))\n",
    "print(adder.add(1.0, 2.0))\n",
    "print(adder.add(\"Hello, \", \"World!\"))\n"
   ]
  },
  {
   "cell_type": "markdown",
   "metadata": {},
   "source": [
    "## Function Overloading"
   ]
  },
  {
   "cell_type": "code",
   "execution_count": null,
   "metadata": {},
   "outputs": [
    {
     "name": "stdout",
     "output_type": "stream",
     "text": [
      "Final add method is executing.\n",
      "3\n",
      "Final add method is executing.\n",
      "3.0\n",
      "Final add method is executing.\n",
      "Hello, World!\n"
     ]
    }
   ],
   "source": [
    "from typing import overload\n",
    "\n",
    "@overload\n",
    "def add(x: int, y: int) -> int:\n",
    "    ...\n",
    "\n",
    "@overload\n",
    "def add(x: float, y: float) -> float:\n",
    "    ... \n",
    "\n",
    "@overload\n",
    "def add(x: str, y: str) -> str:\n",
    "    ...\n",
    "\n",
    "def add(x: int | float | str, y: int | float | str) -> int | float | str:\n",
    "    print(\"Final add method is executing.\")\n",
    "    if isinstance(x, int) and isinstance(y, int):\n",
    "        return x + y\n",
    "    elif isinstance(x, float) and isinstance(y, float):\n",
    "        return x + y\n",
    "    elif isinstance(x, str) and isinstance(y, str):\n",
    "        return x + y\n",
    "    else:\n",
    "        raise TypeError(\"Invalid input types.\")\n",
    "\n",
    "print(add(1, 2))\n",
    "print(add(1.0, 2.0))\n",
    "print(add(\"Hello, \", \"World!\"))"
   ]
  },
  {
   "cell_type": "markdown",
   "metadata": {},
   "source": [
    "##  __call__ Method"
   ]
  },
  {
   "cell_type": "code",
   "execution_count": 58,
   "metadata": {},
   "outputs": [
    {
     "name": "stdout",
     "output_type": "stream",
     "text": [
      "Teacher Name: Abdullah\n"
     ]
    }
   ],
   "source": [
    "# __call__\n",
    "\n",
    "class Teacher:\n",
    "    def __init__(self):\n",
    "        self.name = \"Abdullah\"\n",
    "    \n",
    "    def __call__(self):\n",
    "        print(f\"Teacher Name: {self.name}\")\n",
    "\n",
    "teacher : Teacher = Teacher()\n",
    "teacher()"
   ]
  },
  {
   "cell_type": "code",
   "execution_count": 59,
   "metadata": {},
   "outputs": [
    {
     "name": "stdout",
     "output_type": "stream",
     "text": [
      "Campany Name: xyz\n",
      "Campany Location: Bangladesh\n",
      "2222-2222222\n"
     ]
    }
   ],
   "source": [
    "class  Campany:\n",
    "    def __init__(self):\n",
    "        self.campany_name : str =  \"xyz\"\n",
    "        self.location: str = \"Bangladesh\"\n",
    "\n",
    "    def Help_line(self):\n",
    "        print(\"2222-2222222\")\n",
    "\n",
    "    def __call__(self):\n",
    "        print(f\"Campany Name: {self.campany_name}\")\n",
    "        print(f\"Campany Location: {self.location}\")\n",
    "\n",
    "campany : Campany = Campany()\n",
    "campany()\n",
    "campany.Help_line()"
   ]
  },
  {
   "cell_type": "code",
   "execution_count": 65,
   "metadata": {},
   "outputs": [
    {
     "name": "stdout",
     "output_type": "stream",
     "text": [
      "15\n",
      "10\n"
     ]
    }
   ],
   "source": [
    "class Adder:\n",
    "    def __init__(self, value):\n",
    "        self.value = value\n",
    "\n",
    "    def __call__(self, x):\n",
    "        return self.value + x\n",
    "\n",
    "\n",
    "add_five = Adder(5)\n",
    "print(add_five(10)) # Output will be 15\n",
    "print(add_five(5))  # Output will be 10\n"
   ]
  },
  {
   "cell_type": "markdown",
   "metadata": {},
   "source": [
    "## __str__ Method"
   ]
  },
  {
   "cell_type": "code",
   "execution_count": 61,
   "metadata": {},
   "outputs": [
    {
     "name": "stdout",
     "output_type": "stream",
     "text": [
      "Teacher Name: Abdullah and Teacher Subject: Math\n",
      "Teacher Name: Abdullah and Teacher Subject: Math\n"
     ]
    }
   ],
   "source": [
    "# __str__\n",
    "\n",
    "class Teacher:\n",
    "    def __init__(self):\n",
    "        self.name = \"Abdullah\"\n",
    "        self.subject = \"Math\"\n",
    "    \n",
    "    def __str__(self):\n",
    "        return f\"Teacher Name: {self.name} and Teacher Subject: {self.subject}\"\n",
    "\n",
    "teacher : Teacher = Teacher()\n",
    "print(teacher)\n",
    "print(str(teacher))"
   ]
  },
  {
   "cell_type": "code",
   "execution_count": 62,
   "metadata": {},
   "outputs": [
    {
     "name": "stdout",
     "output_type": "stream",
     "text": [
      "Campany Name: xyz and Campany Location: Bangladesh\n"
     ]
    }
   ],
   "source": [
    "class Campany:\n",
    "    def __init__(self):\n",
    "        self.campany_name : str =  \"xyz\"\n",
    "        self.location: str = \"Bangladesh\"\n",
    "\n",
    "    def __str__(self):\n",
    "        return f\"Campany Name: {self.campany_name} and Campany Location: {self.location}\"\n",
    "\n",
    "campany : Campany = Campany()   \n",
    "print(campany)"
   ]
  },
  {
   "cell_type": "markdown",
   "metadata": {},
   "source": [
    "### **Key Differences**:\n",
    "\n",
    "| **Feature**              | **`__str__`**                                            | **`__call__`**                                               |\n",
    "|--------------------------|----------------------------------------------------------|-------------------------------------------------------------|\n",
    "| **Purpose**              | Provides a human-readable string representation of the object. | Allows the object to be called like a function.              |\n",
    "| **Usage**                | Used for printing or converting the object to a string.  | Used when you want an object to behave like a callable function. |\n",
    "| **When is it invoked?**  | Automatically called when `print()` or `str()` is used on an object. | Automatically invoked when an object is called like a function (e.g., `obj()`.) |\n",
    "| **Example**              | `print(object)` or `str(object)`                         | `object()` (where `object` is an instance of a class with `__call__` method) |\n",
    "\n",
    "---\n"
   ]
  },
  {
   "cell_type": "markdown",
   "metadata": {},
   "source": [
    "## EnCapsulation + Getter"
   ]
  },
  {
   "cell_type": "code",
   "execution_count": 74,
   "metadata": {},
   "outputs": [
    {
     "name": "stdout",
     "output_type": "stream",
     "text": [
      "Abdullah\n",
      "1234\n"
     ]
    }
   ],
   "source": [
    "class Login:\n",
    "    def __init__(self , username: str , password: str):\n",
    "        self.username = username\n",
    "        self.__password = password # private Attribute\n",
    "    \n",
    "    def login(self):\n",
    "        if self.username == \"Abdullah\" and self.__password == \"1234\":\n",
    "            return True\n",
    "        else:\n",
    "            return False\n",
    "\n",
    "    def __str__(self):\n",
    "        return f\"Username: {self.username}\"\n",
    "    \n",
    "    def get_password(self):\n",
    "        return self.__password\n",
    "    \n",
    "user : Login = Login(\"Abdullah\" , \"1234\")\n",
    "user.login()\n",
    "print(user.username)\n",
    "print(user.get_password()) # user.__password\n",
    "    \n"
   ]
  },
  {
   "cell_type": "code",
   "execution_count": 75,
   "metadata": {},
   "outputs": [
    {
     "ename": "AttributeError",
     "evalue": "'Login' object has no attribute '__password'",
     "output_type": "error",
     "traceback": [
      "\u001b[1;31m---------------------------------------------------------------------------\u001b[0m",
      "\u001b[1;31mAttributeError\u001b[0m                            Traceback (most recent call last)",
      "Cell \u001b[1;32mIn[75], line 1\u001b[0m\n\u001b[1;32m----> 1\u001b[0m \u001b[43muser\u001b[49m\u001b[38;5;241;43m.\u001b[39;49m\u001b[43m__password\u001b[49m\n",
      "\u001b[1;31mAttributeError\u001b[0m: 'Login' object has no attribute '__password'"
     ]
    }
   ],
   "source": [
    "user.__password"
   ]
  },
  {
   "cell_type": "markdown",
   "metadata": {},
   "source": [
    "## Encapsulation + setter + getter"
   ]
  },
  {
   "cell_type": "code",
   "execution_count": 76,
   "metadata": {},
   "outputs": [
    {
     "name": "stdout",
     "output_type": "stream",
     "text": [
      "Current Password: 1234\n",
      "Updated Password: abcd\n",
      "Password must be at least 4 characters long!\n"
     ]
    }
   ],
   "source": [
    "class Login:\n",
    "    def __init__(self, username: str, password: str):\n",
    "        self.username = username\n",
    "        self.__password = password  # Private attribute\n",
    "\n",
    "    def login(self):\n",
    "        if self.username == \"Abdullah\" and self.__password == \"1234\":\n",
    "            return True\n",
    "        else:\n",
    "            return False\n",
    "\n",
    "    # Getter for password\n",
    "    def get_password(self):\n",
    "        return self.__password\n",
    "\n",
    "    # Setter for password\n",
    "    def set_password(self, new_password: str):\n",
    "        # Validation: Ensure password is at least 4 characters\n",
    "        if len(new_password) < 4:\n",
    "            raise ValueError(\"Password must be at least 4 characters long!\")\n",
    "        self.__password = new_password\n",
    "\n",
    "    def __str__(self):\n",
    "        return f\"Username: {self.username}\"\n",
    "        \n",
    "\n",
    "# Create a Login object\n",
    "user = Login(\"Abdullah\", \"1234\")\n",
    "\n",
    "# Getter: Access the current password\n",
    "print(\"Current Password:\", user.get_password())\n",
    "\n",
    "# Setter: Update the password\n",
    "user.set_password(\"abcd\")\n",
    "print(\"Updated Password:\", user.get_password())\n",
    "\n",
    "# Try to set an invalid password\n",
    "try:\n",
    "    user.set_password(\"abc\")  # This will raise an error\n",
    "except ValueError as e:\n",
    "    print(e)\n"
   ]
  },
  {
   "cell_type": "code",
   "execution_count": 77,
   "metadata": {},
   "outputs": [
    {
     "name": "stdout",
     "output_type": "stream",
     "text": [
      "Employee Name: Abdullah and Employee Department: IT\n",
      "Old Salary: 10000\n",
      "Updated salary: 20000\n"
     ]
    }
   ],
   "source": [
    "class Employee:\n",
    "    def __init__(self , name:str , Department : str , salary: int):\n",
    "        self.name = name\n",
    "        self.Department = Department\n",
    "        self.__salary = salary\n",
    "    \n",
    "    def __str__(self):\n",
    "        return f\"Employee Name: {self.name} and Employee Department: {self.Department}\"\n",
    "\n",
    "    def get_salary(self):\n",
    "        return self.__salary\n",
    "    \n",
    "    def set_salary(self , new_salary: int):\n",
    "        if new_salary < 0:\n",
    "            raise ValueError(\"Salary cannot be negative!\")\n",
    "        self.__salary = new_salary\n",
    "\n",
    "employee : Employee = Employee(\"Abdullah\", \"IT\", 10000)\n",
    "print(employee)\n",
    "print(\"Old Salary:\", employee.get_salary())\n",
    "employee.set_salary(20000)\n",
    "print(\"Updated salary:\", employee.get_salary())"
   ]
  },
  {
   "cell_type": "markdown",
   "metadata": {},
   "source": [
    "## Abstraction"
   ]
  },
  {
   "cell_type": "code",
   "execution_count": 79,
   "metadata": {},
   "outputs": [
    {
     "name": "stdout",
     "output_type": "stream",
     "text": [
      "Bark\n",
      "Meow\n"
     ]
    }
   ],
   "source": [
    "\n",
    "from abc import ABC, abstractmethod\n",
    "\n",
    "# Abstract Class (Yeh class sirf structure define karegi)\n",
    "class Animal(ABC):\n",
    "    \n",
    "    @abstractmethod\n",
    "    def make_sound(self):\n",
    "        pass\n",
    "\n",
    "# Concrete Class (Actual class jo abstraction ko implement karegi)\n",
    "class Dog(Animal):\n",
    "    \n",
    "    def make_sound(self):\n",
    "        print(\"Bark\")\n",
    "\n",
    "# Concrete Class\n",
    "class Cat(Animal):\n",
    "    \n",
    "    def make_sound(self):\n",
    "        print(\"Meow\")\n",
    "\n",
    "# Objects banate hain\n",
    "dog = Dog()\n",
    "dog.make_sound()  # Output: Bark\n",
    "\n",
    "cat = Cat()\n",
    "cat.make_sound()  # Output: Meow\n",
    "    \n",
    "    "
   ]
  },
  {
   "cell_type": "code",
   "execution_count": 80,
   "metadata": {},
   "outputs": [
    {
     "name": "stdout",
     "output_type": "stream",
     "text": [
      "Teaching Maths\n",
      "Teaching Physics\n"
     ]
    }
   ],
   "source": [
    "from abc import ABC, abstractmethod\n",
    "class Teacher(ABC):\n",
    "\n",
    "    @abstractmethod\n",
    "    def teaching(self):\n",
    "        ...\n",
    "\n",
    "class MathTeacher(Teacher):\n",
    "    def teaching(self):\n",
    "        print(\"Teaching Maths\")\n",
    "\n",
    "class PhysicsTeacher(Teacher):\n",
    "    def teaching(self):\n",
    "        print(\"Teaching Physics\")\n",
    "\n",
    "teacher : Teacher = MathTeacher()\n",
    "teacher.teaching()\n",
    "\n",
    "teacher1 : Teacher = PhysicsTeacher()\n",
    "teacher1.teaching()\n",
    "\n"
   ]
  }
 ],
 "metadata": {
  "kernelspec": {
   "display_name": "python12",
   "language": "python",
   "name": "python3"
  },
  "language_info": {
   "codemirror_mode": {
    "name": "ipython",
    "version": 3
   },
   "file_extension": ".py",
   "mimetype": "text/x-python",
   "name": "python",
   "nbconvert_exporter": "python",
   "pygments_lexer": "ipython3",
   "version": "3.12.7"
  }
 },
 "nbformat": 4,
 "nbformat_minor": 2
}
