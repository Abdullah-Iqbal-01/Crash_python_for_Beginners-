{
 "cells": [
  {
   "cell_type": "markdown",
   "metadata": {},
   "source": [
    "## classes\n",
    "    * Methods\n",
    "        * attributes\n",
    "    * class-variables\n",
    "    * constructors ` def __init__(self)`\n",
    "\n",
    "## Syntex of class\n",
    "```\n",
    "class ClassName():\n",
    "    pass\n",
    "```"
   ]
  },
  {
   "cell_type": "code",
   "execution_count": null,
   "metadata": {},
   "outputs": [
    {
     "name": "stdout",
     "output_type": "stream",
     "text": [
      "street 1\n",
      "white\n",
      "Home has 3 rooms with white color\n",
      "None\n",
      "Home has a white kitchen\n",
      "None\n"
     ]
    }
   ],
   "source": [
    "class Home():\n",
    "    def __init__(self, Adress: str , color:str): # constructor\n",
    "        self.Adress = Adress # attributes\n",
    "        self.color = color\n",
    "    \n",
    "    def rooms(self , rooms: int):\n",
    "        print(f\"Home has {rooms} rooms with {self.color} color\")\n",
    "        return rooms\n",
    "\n",
    "    def kitchen(self):\n",
    "        print(f\"Home has a {self.color} kitchen\")\n",
    "        return self.color\n",
    "\n",
    "home1 : Home = Home(\"street 1\", \"white\")\n",
    "\n",
    "print(home1.Adress)\n",
    "print(home1.color)\n",
    "print(home1.rooms(3))\n",
    "print(home1.kitchen())"
   ]
  },
  {
   "cell_type": "code",
   "execution_count": 3,
   "metadata": {},
   "outputs": [
    {
     "name": "stdout",
     "output_type": "stream",
     "text": [
      "street 2\n",
      "black\n",
      "Home has 4 rooms with black color\n",
      "None\n",
      "Home has a black kitchen\n",
      "None\n"
     ]
    }
   ],
   "source": [
    "home2 : Home = Home(\"street 2\", \"black\")\n",
    "\n",
    "print(home2.Adress)\n",
    "print(home2.color)\n",
    "print(home2.rooms(4))\n",
    "print(home2.kitchen())"
   ]
  },
  {
   "cell_type": "code",
   "execution_count": 7,
   "metadata": {},
   "outputs": [
    {
     "name": "stdout",
     "output_type": "stream",
     "text": [
      "Brand: Dell and color: black and body: metal\n",
      "Price: 1000 $\n",
      "Brand: Lenovo and color: white and body: Gold\n",
      "Price: 1500 $\n"
     ]
    }
   ],
   "source": [
    "class Laptop():\n",
    "    def __init__(self, brand: str , color: str , body : str):\n",
    "        self.brand = brand\n",
    "        self.color = color\n",
    "        self.body = body\n",
    "\n",
    "    def info(self):\n",
    "        print(f\"Brand: {self.brand} and color: {self.color} and body: {self.body}\")\n",
    "    \n",
    "    def price(self, price: int):\n",
    "        print(f\"Price: {price} $\")\n",
    "\n",
    "laptop1 : Laptop = Laptop(\"Dell\",\"black\" , \"metal\")\n",
    "\n",
    "laptop1.info()\n",
    "laptop1.price(1000)\n",
    "\n",
    "laptop2 : Laptop = Laptop(\"Lenovo\",\"white\" , \"Gold\")\n",
    "\n",
    "laptop2.info()\n",
    "laptop2.price(1500)"
   ]
  },
  {
   "cell_type": "code",
   "execution_count": 13,
   "metadata": {},
   "outputs": [
    {
     "name": "stdout",
     "output_type": "stream",
     "text": [
      "street 1\n",
      "white\n",
      "Home has 3 rooms with white color\n",
      "Home has a white kitchen\n",
      "this is help line\n",
      "this is help line\n"
     ]
    }
   ],
   "source": [
    "class Home():\n",
    "\n",
    "    help_line = \"this is help line\"\n",
    "\n",
    "    def __init__(self, Adress: str , color:str)->None: # constructor\n",
    "        self.Adress = Adress # attributes\n",
    "        self.color = color\n",
    "    \n",
    "    def rooms(self , rooms: int)->None:\n",
    "        print(f\"Home has {rooms} rooms with {self.color} color\")\n",
    "\n",
    "    def kitchen(self)->None:\n",
    "        print(f\"Home has a {self.color} kitchen\")\n",
    "\n",
    "home1 : Home = Home(\"street 1\", \"white\")\n",
    "\n",
    "print(home1.Adress)\n",
    "print(home1.color)\n",
    "home1.rooms(3)\n",
    "home1.kitchen()\n",
    "\n",
    "print(Home.help_line)\n",
    "print(home1.help_line)"
   ]
  },
  {
   "cell_type": "markdown",
   "metadata": {},
   "source": [
    "## Inheritance"
   ]
  },
  {
   "cell_type": "code",
   "execution_count": 16,
   "metadata": {},
   "outputs": [
    {
     "name": "stdout",
     "output_type": "stream",
     "text": [
      "black\n",
      "black\n",
      "He is saying: hello\n",
      "he is eating apple\n",
      "=====Child class=====\n",
      "black\n",
      "black\n",
      "He is saying: hello world\n",
      "he is eating banana\n"
     ]
    }
   ],
   "source": [
    "class Abo():\n",
    "    def __init__(self):\n",
    "        self.hair_color : str= \"black\"\n",
    "        self.eye_color : str = \"black\"\n",
    "\n",
    "    def speak(self , words: str)->None:\n",
    "        print(f\"He is saying: {words}\")\n",
    "\n",
    "    def eat(self , food: str)->None:\n",
    "        print(f\"he is eating {food}\")\n",
    "\n",
    "class Beta(Abo):\n",
    "    pass\n",
    "\n",
    "child1 : Abo = Abo()\n",
    "print(child1.eye_color)\n",
    "print(child1.hair_color)\n",
    "child1.speak(\"hello\")\n",
    "child1.eat(\"apple\")\n",
    "\n",
    "### inheritance to Child class\n",
    "print(\"=====Child class=====\")\n",
    "child2 : Beta = Beta()\n",
    "print(child2.eye_color)\n",
    "print(child2.hair_color)\n",
    "child2.speak(\"hello world\")\n",
    "child2.eat(\"banana\")"
   ]
  },
  {
   "cell_type": "code",
   "execution_count": 18,
   "metadata": {},
   "outputs": [
    {
     "name": "stdout",
     "output_type": "stream",
     "text": [
      "black\n",
      "black\n",
      "He is saying: hello\n",
      "he is eating apple\n",
      "=====Child class=====\n",
      "black\n",
      "black\n",
      "He is saying: hello world\n",
      "he is eating banana\n",
      "python\n"
     ]
    }
   ],
   "source": [
    "class Abo():\n",
    "    def __init__(self):\n",
    "        self.hair_color : str= \"black\"\n",
    "        self.eye_color : str = \"black\"\n",
    "\n",
    "    def speak(self , words: str)->None:\n",
    "        print(f\"He is saying: {words}\")\n",
    "\n",
    "    def eat(self , food: str)->None:\n",
    "        print(f\"he is eating {food}\")\n",
    "\n",
    "class Beta(Abo):\n",
    "    def __init__(self):\n",
    "        super().__init__()\n",
    "        self.learning : str = \"python\"\n",
    "\n",
    "child1 : Abo = Abo()\n",
    "print(child1.eye_color)\n",
    "print(child1.hair_color)\n",
    "child1.speak(\"hello\")\n",
    "child1.eat(\"apple\")\n",
    "### inheritance to Child class\n",
    "print(\"=====Child class=====\")\n",
    "child2 : Beta = Beta()\n",
    "print(child2.eye_color)\n",
    "print(child2.hair_color)\n",
    "child2.speak(\"hello world\")\n",
    "child2.eat(\"banana\")\n",
    "print(child2.learning)"
   ]
  },
  {
   "cell_type": "code",
   "execution_count": 4,
   "metadata": {},
   "outputs": [
    {
     "name": "stdout",
     "output_type": "stream",
     "text": [
      "id no: 1 name: Abdullah salary: 1000\n",
      "Python\n",
      "id no: 2 name: Sara salary: 2000\n",
      "Photoshop\n"
     ]
    }
   ],
   "source": [
    "class Employee():\n",
    "    def __init__(self, id_no : int , name : str , salary : int):\n",
    "        self.id_no = id_no\n",
    "        self.name = name\n",
    "        self.salary = salary\n",
    "\n",
    "    def info(self):\n",
    "        print(f\"id no: {self.id_no} name: {self.name} salary: {self.salary}\")\n",
    "\n",
    "class Developer(Employee):\n",
    "    def __init__(self, id_no : int , name : str , salary : int):\n",
    "        super().__init__(id_no, name, salary)\n",
    "        self.skills = \"Python\"\n",
    "\n",
    "class Designer(Employee):\n",
    "    def __init__(self, id_no : int , name : str , salary : int):\n",
    "        super().__init__(id_no, name, salary)\n",
    "        self.skills : str = \"Photoshop\"\n",
    "\n",
    "dev1 : Developer = Developer(1 , \"Abdullah\", 1000)\n",
    "dev1.info()\n",
    "print(dev1.skills)\n",
    "des1 : Designer = Designer(2 , \"Sara\", 2000)\n",
    "des1.info()\n",
    "print(des1.skills)"
   ]
  },
  {
   "cell_type": "markdown",
   "metadata": {},
   "source": [
    "## Multiple Inheritance"
   ]
  },
  {
   "cell_type": "code",
   "execution_count": null,
   "metadata": {},
   "outputs": [
    {
     "name": "stdout",
     "output_type": "stream",
     "text": [
      "Child's Name: Abdullah\n",
      "Brown\n",
      "black\n",
      "He is saying: hello\n",
      "he is eating apple\n",
      "=====Child class=====\n"
     ]
    }
   ],
   "source": [
    "from re import M\n",
    "\n",
    "\n",
    "class Mother():\n",
    "    def __init__(self, name : str):\n",
    "        self.hair_color : str= \"black\"\n",
    "        self.name : str = name\n",
    "\n",
    "    def speak(self , words: str)->None:\n",
    "        print(f\"He is saying: {words}\")\n",
    "\n",
    "class Father():\n",
    "    def __init__(self , name : str):\n",
    "        self.eye_color : str = \"Brown\"\n",
    "        self.name : str = name\n",
    "\n",
    "    def eat(self , food: str)->None:\n",
    "        print(f\"he is eating {food}\")\n",
    "\n",
    "class Child(Mother , Father):\n",
    "    def __init__(self , mother_name : str , father_name : str , name : str)-> None:\n",
    "        Mother.__init__(self , mother_name)\n",
    "        Father.__init__(self , father_name)\n",
    "        self.name : str = name\n",
    "\n",
    "\n",
    "print(f\"Child's Name: {child1.name}\")\n",
    "child1 : Child = Child(\"Yasmeen\",\"Muhammad Iqbal\" , \"Abdullah\")\n",
    "print(child1.eye_color)\n",
    "print(child1.hair_color)\n",
    "child1.speak(\"hello\")\n",
    "child1.eat(\"apple\")\n",
    "### inheritance to Child class"
   ]
  },
  {
   "cell_type": "markdown",
   "metadata": {},
   "source": [
    "# Function Overloading"
   ]
  },
  {
   "cell_type": "code",
   "execution_count": 20,
   "metadata": {},
   "outputs": [
    {
     "name": "stdout",
     "output_type": "stream",
     "text": [
      "3\n",
      "3.0\n",
      "12\n"
     ]
    }
   ],
   "source": [
    "from typing import Union , overload\n",
    "\n",
    "from traitlets import Instance\n",
    "\n",
    "@overload\n",
    "def add(x: int , y: int) -> int:\n",
    "    ...\n",
    "\n",
    "@overload\n",
    "def add(x: float , y: float) -> float:\n",
    "    ...\n",
    "\n",
    "@overload\n",
    "def add(x:str , y : str) -> str:\n",
    "    ...\n",
    "\n",
    "def add(x: int | float | str , y: int | float | str) -> Union[int , float , str]:\n",
    "    if isinstance(x, int) and isinstance(y, int):\n",
    "        return x + y\n",
    "    elif isinstance(x, float) and isinstance(y, float):\n",
    "        return x + y\n",
    "    elif isinstance(x, str) and isinstance(y, str):\n",
    "        return x + y\n",
    "    else:\n",
    "        raise TypeError(\"Invalid Type Arguments\") \n",
    "\n",
    "\n",
    "print(add(1 , 2))\n",
    "print(add(1.0 , 2.0))\n",
    "print(add(\"1\" , \"2\"))\n",
    "\n"
   ]
  },
  {
   "cell_type": "markdown",
   "metadata": {},
   "source": [
    "## class Overloading"
   ]
  },
  {
   "cell_type": "code",
   "execution_count": 21,
   "metadata": {},
   "outputs": [
    {
     "name": "stdout",
     "output_type": "stream",
     "text": [
      "3\n",
      "3.0\n",
      "12\n"
     ]
    }
   ],
   "source": [
    "from typing import overload\n",
    "class Adder():\n",
    "\n",
    "    @overload\n",
    "    def add(self , x: int , y: int) -> int:\n",
    "        ...\n",
    "\n",
    "\n",
    "    @overload\n",
    "    def add(self , x: float , y: float) -> float:\n",
    "        ...\n",
    "\n",
    "\n",
    "    @overload\n",
    "    def add(self , x: str , y: str) -> str:\n",
    "        ...\n",
    "\n",
    "\n",
    "    def add(self , x: int | float | str , y: int | float | str) -> Union[int , float , str]:\n",
    "        if isinstance(x, int) and isinstance(y, int):\n",
    "            return x + y\n",
    "        elif isinstance(x, float) and isinstance(y, float):\n",
    "            return x + y\n",
    "        elif isinstance(x, str) and isinstance(y, str):\n",
    "            return x + y\n",
    "        else:\n",
    "            raise TypeError(\"Invalid Type Arguments\")\n",
    "\n",
    "Addition1 : Adder = Adder()\n",
    "print(Addition1.add(1 , 2))\n",
    "print(Addition1.add(1.0 , 2.0))\n",
    "print(Addition1.add(\"1\" , \"2\"))\n",
    "\n"
   ]
  },
  {
   "cell_type": "markdown",
   "metadata": {},
   "source": [
    "## Overriding"
   ]
  },
  {
   "cell_type": "code",
   "execution_count": 25,
   "metadata": {},
   "outputs": [
    {
     "name": "stdout",
     "output_type": "stream",
     "text": [
      "Animal is eating grass\n",
      "Dog is eating meat\n"
     ]
    }
   ],
   "source": [
    "class Animal():\n",
    "    def eating(self , food : str)->None:\n",
    "        print(f\"Animal is eating {food}\")\n",
    "\n",
    "class Dog(Animal):\n",
    "    def eating(self , food : str)->None:\n",
    "        print(f\"Dog is eating {food}\")\n",
    "\n",
    "\n",
    "animal1 : Animal = Animal()\n",
    "animal1.eating(\"grass\")\n",
    "\n",
    "dog1 : Dog = Dog()\n",
    "dog1.eating(\"meat\")"
   ]
  },
  {
   "cell_type": "markdown",
   "metadata": {},
   "source": [
    "## Polymorphism"
   ]
  },
  {
   "cell_type": "code",
   "execution_count": null,
   "metadata": {},
   "outputs": [
    {
     "name": "stdout",
     "output_type": "stream",
     "text": [
      "Dog is eating meat\n"
     ]
    }
   ],
   "source": [
    "animal2 : Animal = Dog() # run time it will decide which object method it will be run\n",
    "animal2.eating(\"meat\")"
   ]
  },
  {
   "cell_type": "code",
   "execution_count": 27,
   "metadata": {},
   "outputs": [
    {
     "name": "stdout",
     "output_type": "stream",
     "text": [
      "<class '__main__.Dog'>\n"
     ]
    }
   ],
   "source": [
    "print(type(animal2))"
   ]
  },
  {
   "cell_type": "markdown",
   "metadata": {},
   "source": [
    "## Every Thing is an object in python\n"
   ]
  },
  {
   "cell_type": "code",
   "execution_count": 28,
   "metadata": {},
   "outputs": [
    {
     "name": "stdout",
     "output_type": "stream",
     "text": [
      "<class 'int'>\n"
     ]
    }
   ],
   "source": [
    "num = 10\n",
    "print(type(num))"
   ]
  },
  {
   "cell_type": "code",
   "execution_count": 29,
   "metadata": {},
   "outputs": [
    {
     "name": "stdout",
     "output_type": "stream",
     "text": [
      "4\n"
     ]
    }
   ],
   "source": [
    "print(num.bit_length())  "
   ]
  },
  {
   "cell_type": "markdown",
   "metadata": {},
   "source": [
    "### **Static Method aur Static Variable (Class Variable) ka Concept**\n",
    "\n",
    "\n",
    "### **1. Static Variables (Class Variables)**\n",
    "\n",
    "**Definition:**  \n",
    "Static Variables (ya Class Variables) woh variables hain jo **class level** par define hote hain, aur **saray objects ke liye shared** hote hain. Ye variables class ke andar bane hote hain, lekin kisi specific object ka hissa nahi hote.\n",
    "\n",
    "#### **Key Points:**\n",
    "- Static Variables ek **hi memory location** share karte hain.\n",
    "- Class ka har instance (object) un static variables ko access kar sakta hai.\n",
    "- Agar ek object static variable ko change kare, toh woh dusre objects ke liye bhi update ho jata hai.\n",
    "\n",
    "#### **Example:**\n",
    "```python\n",
    "class School:\n",
    "    # Static Variable (Class Variable)\n",
    "    school_name = \"ABC High School\"\n",
    "\n",
    "    def __init__(self, student_name):\n",
    "        self.student_name = student_name\n",
    "\n",
    "# Objects banate hain\n",
    "student1 = School(\"Ali\")\n",
    "student2 = School(\"Ayesha\")\n",
    "\n",
    "# Static variable ko access karte hain\n",
    "print(student1.school_name)  # Output: ABC High School\n",
    "print(student2.school_name)  # Output: ABC High School\n",
    "\n",
    "# Static variable ko update karte hain\n",
    "School.school_name = \"XYZ High School\"\n",
    "\n",
    "print(student1.school_name)  # Output: XYZ High School\n",
    "print(student2.school_name)  # Output: XYZ High School\n",
    "```\n",
    "\n",
    "---\n",
    "\n",
    "### **2. Static Methods**\n",
    "\n",
    "**Definition:**  \n",
    "Static Methods woh methods hain jo **class ya object dono ke bina call kiye ja sakte hain**. In methods ke liye koi **instance (self)** ya **class (cls)** parameter ki zarurat nahi hoti. Ye methods mostly class-related logic ya utility functions ke liye use hote hain.\n",
    "\n",
    "#### **Key Points:**\n",
    "- Static Methods ko **@staticmethod decorator** ke zariye define kiya jata hai.\n",
    "- Static Methods ko directly class ke naam ke saath call kiya jata hai.\n",
    "- Ye kisi specific object par depend nahi karte.\n",
    "\n",
    "#### **Example:**\n",
    "```python\n",
    "class MathOperations:\n",
    "    @staticmethod\n",
    "    def add_numbers(a, b):\n",
    "        return a + b\n",
    "\n",
    "    @staticmethod\n",
    "    def multiply_numbers(a, b):\n",
    "        return a * b\n",
    "\n",
    "# Static methods ko call karte hain\n",
    "print(MathOperations.add_numbers(5, 10))  # Output: 15\n",
    "print(MathOperations.multiply_numbers(4, 3))  # Output: 12\n",
    "```\n",
    "\n",
    "---\n",
    "\n",
    "### **Static Variable aur Static Method ko Saath Use Karna**\n",
    "\n",
    "Aap static methods aur static variables ko saath mein use kar sakte hain jab aapko class level ki logic implement karni ho.\n",
    "\n",
    "#### **Example:**\n",
    "```python\n",
    "class Employee:\n",
    "    # Static Variable\n",
    "    company_name = \"Tech Corp\"\n",
    "\n",
    "    # Static Method\n",
    "    @staticmethod\n",
    "    def get_company_name():\n",
    "        return Employee.company_name\n",
    "\n",
    "# Static method se static variable access karte hain\n",
    "print(Employee.get_company_name())  # Output: Tech Corp\n",
    "```\n",
    "\n",
    "---\n",
    "\n",
    "### **Difference Between Instance and Static:**\n",
    "\n",
    "| **Feature**          | **Instance Variable/Method**                 | **Static Variable/Method**                     |\n",
    "|-----------------------|----------------------------------------------|-----------------------------------------------|\n",
    "| **Defined at**        | Object level                                | Class level                                   |\n",
    "| **Accessed by**       | `self` (instance)                          | Class name or object                          |\n",
    "| **Shared Across**     | Unique to each object                      | Shared among all objects                      |\n",
    "| **When to Use**       | Specific to an instance’s data/behavior     | General data/behavior for the entire class    |\n",
    "\n",
    "---\n",
    "\n",
    "### **Summary:**\n",
    "- **Static Variable:** Class-level variable shared by all objects of the class.  \n",
    "- **Static Method:** Utility method that doesn’t depend on instance or class data.  \n",
    "\n"
   ]
  },
  {
   "cell_type": "markdown",
   "metadata": {},
   "source": [
    "## Static Variable (Class Variable)"
   ]
  },
  {
   "cell_type": "code",
   "execution_count": 12,
   "metadata": {},
   "outputs": [
    {
     "name": "stdout",
     "output_type": "stream",
     "text": [
      "street 1\n",
      "white\n",
      "Home has 3 rooms with white color\n",
      "3\n"
     ]
    },
    {
     "data": {
      "text/plain": [
       "'Baldia Town Karachi'"
      ]
     },
     "execution_count": 12,
     "metadata": {},
     "output_type": "execute_result"
    }
   ],
   "source": [
    "class Home:\n",
    "    home_adrees = \"Baldia Town Karachi\"\n",
    "\n",
    "    def __init__(self) -> None:\n",
    "        self.Adress = \"street 1\"\n",
    "        self.color = \"white\"\n",
    "    \n",
    "    def rooms(self , rooms: int):\n",
    "        print(f\"Home has {rooms} rooms with {self.color} color\")\n",
    "        return rooms\n",
    "\n",
    "    def location(self):\n",
    "        print(self.home_adrees)\n",
    "    \n",
    "\n",
    "home1 : Home = Home()\n",
    "\n",
    "print(home1.Adress)\n",
    "print(home1.color)\n",
    "print(home1.rooms(3))\n",
    "\n",
    "home1.home_adrees\n"
   ]
  },
  {
   "cell_type": "code",
   "execution_count": 13,
   "metadata": {},
   "outputs": [
    {
     "name": "stdout",
     "output_type": "stream",
     "text": [
      "Baldia Town Karachi\n"
     ]
    }
   ],
   "source": [
    "home1.location()"
   ]
  },
  {
   "cell_type": "code",
   "execution_count": 10,
   "metadata": {},
   "outputs": [
    {
     "name": "stdout",
     "output_type": "stream",
     "text": [
      "street 1\n",
      "white\n",
      "Home has 3 rooms with white color\n",
      "3\n",
      "Lahore\n"
     ]
    }
   ],
   "source": [
    "class Home:\n",
    "    home_adrees = \"Baldia Town Karachi\"\n",
    "\n",
    "    def __init__(self) -> None:\n",
    "        self.Adress = \"street 1\"\n",
    "        self.color = \"white\"\n",
    "    \n",
    "    def rooms(self , rooms: int):\n",
    "        print(f\"Home has {rooms} rooms with {self.color} color\")\n",
    "        return rooms\n",
    "\n",
    "    def location(self):\n",
    "        print(self.home_adrees)\n",
    "    \n",
    "    \n",
    "home1 : Home = Home()\n",
    "\n",
    "print(home1.Adress)\n",
    "print(home1.color)\n",
    "print(home1.rooms(3))\n",
    "\n",
    "home1.home_adrees = \"Lahore\"\n",
    "print(home1.home_adrees)"
   ]
  },
  {
   "cell_type": "code",
   "execution_count": 8,
   "metadata": {},
   "outputs": [
    {
     "name": "stdout",
     "output_type": "stream",
     "text": [
      "Lahore\n"
     ]
    }
   ],
   "source": [
    "home1.location()"
   ]
  },
  {
   "cell_type": "markdown",
   "metadata": {},
   "source": [
    "## Static Method"
   ]
  },
  {
   "cell_type": "code",
   "execution_count": 3,
   "metadata": {},
   "outputs": [
    {
     "name": "stdout",
     "output_type": "stream",
     "text": [
      "4\n",
      "0\n",
      "4\n",
      "10.0\n",
      "0\n",
      "400\n",
      "10\n",
      "4.47213595499958\n",
      "2.7144176165949063\n",
      "400\n",
      "400\n"
     ]
    }
   ],
   "source": [
    "class MathCalculation():\n",
    "\n",
    "    @staticmethod\n",
    "    def addition(a : int , b : int)->int:\n",
    "        return a + b\n",
    "    \n",
    "    @staticmethod\n",
    "    def subtraction(a : int , b : int)->int:\n",
    "        return a - b\n",
    "    \n",
    "    @staticmethod\n",
    "    def multiplication(a : int , b : int)->int:\n",
    "        return a * b\n",
    "    \n",
    "    @staticmethod\n",
    "    def division(a : int , b : int)->int:\n",
    "        return a / b\n",
    "    \n",
    "    @staticmethod\n",
    "    def modulus(a : int , b : int)->int:\n",
    "        return a % b\n",
    "    \n",
    "    @staticmethod\n",
    "    def power(a : int , b : int)->int:\n",
    "        return a ** b\n",
    "    \n",
    "    @staticmethod\n",
    "    def floor_division(a : int , b : int)->int:\n",
    "        return a // b\n",
    "    \n",
    "    @staticmethod\n",
    "    def square_root(a : int)->int:\n",
    "        return a ** 0.5\n",
    "    \n",
    "    @staticmethod\n",
    "    def cube_root(a : int)->int:\n",
    "        return a ** (1/3)\n",
    "    \n",
    "    @staticmethod\n",
    "    def exponential(a : int , b : int)->int:\n",
    "        return a ** b\n",
    "    \n",
    "    @staticmethod\n",
    "    def log(a : int , b : int)->int:\n",
    "        return a ** b\n",
    "    \n",
    "\n",
    "print(MathCalculation.addition(2 , 2))\n",
    "print(MathCalculation.subtraction(2 , 2))\n",
    "print(MathCalculation.multiplication(2 , 2))\n",
    "print(MathCalculation.division(20 , 2))\n",
    "print(MathCalculation.modulus(20 , 2))\n",
    "print(MathCalculation.power(20 , 2))\n",
    "print(MathCalculation.floor_division(20 , 2))\n",
    "print(MathCalculation.square_root(20))\n",
    "print(MathCalculation.cube_root(20))\n",
    "print(MathCalculation.exponential(20 , 2))\n",
    "print(MathCalculation.log(20 , 2))"
   ]
  },
  {
   "cell_type": "code",
   "execution_count": null,
   "metadata": {},
   "outputs": [
    {
     "name": "stdout",
     "output_type": "stream",
     "text": [
      "AiXperts\n",
      "1\n",
      "Pakistan\n",
      "051-1234567\n",
      "www.aixperts.com\n"
     ]
    }
   ],
   "source": [
    "class Campany:\n",
    "\n",
    "    Campany_name : str = \"AiXperts\"\n",
    "\n",
    "    @staticmethod\n",
    "    def company_name() -> str:\n",
    "        return Campany.Campany_name\n",
    "    \n",
    "    @staticmethod\n",
    "    def campany_rank()-> str:\n",
    "        return \"1\"\n",
    "    \n",
    "    @staticmethod\n",
    "    def company_address()-> str:\n",
    "        return \"Pakistan\"\n",
    "    \n",
    "    @staticmethod\n",
    "    def company_contact()-> str:\n",
    "        return \"051-1234567\"\n",
    "    \n",
    "    @staticmethod\n",
    "    def company_website()-> str:\n",
    "        return \"www.aixperts.com\"\n",
    "    \n",
    "    @staticmethod\n",
    "    def company_email() -> str:\n",
    "        return \"vSx3g@example.com\"\n",
    "\n",
    "\n",
    "print(Campany.company_name())\n",
    "print(Campany.campany_rank())\n",
    "print(Campany.company_address())\n",
    "print(Campany.company_contact())\n",
    "print(Campany.company_website())"
   ]
  },
  {
   "cell_type": "code",
   "execution_count": 6,
   "metadata": {},
   "outputs": [
    {
     "name": "stdout",
     "output_type": "stream",
     "text": [
      "4\n",
      "0\n",
      "4\n",
      "10.0\n",
      "0\n",
      "400\n",
      "10\n",
      "4.47213595499958\n",
      "2.7144176165949063\n"
     ]
    }
   ],
   "source": [
    "from package.Calculations.MathOperations import MathCalculation\n",
    "\n",
    "print(MathCalculation.addition(2 , 2))\n",
    "print(MathCalculation.subtraction(2 , 2))\n",
    "print(MathCalculation.multiplication(2 , 2))\n",
    "print(MathCalculation.division(20 , 2))\n",
    "print(MathCalculation.modulus(20 , 2))\n",
    "print(MathCalculation.power(20 , 2))\n",
    "print(MathCalculation.floor_division(20 , 2))\n",
    "print(MathCalculation.square_root(20))\n",
    "print(MathCalculation.cube_root(20))\n",
    "\n"
   ]
  },
  {
   "cell_type": "code",
   "execution_count": 8,
   "metadata": {},
   "outputs": [
    {
     "name": "stdout",
     "output_type": "stream",
     "text": [
      "Student Name: Abdullah\n",
      "Age: 22\n",
      "Course: (Python)\n"
     ]
    }
   ],
   "source": [
    "class Student:\n",
    "    def __init__(self , name : str , age : int , course : str):\n",
    "        self.name = name\n",
    "        self.age = age\n",
    "        self.course = course\n",
    "\n",
    "    def __str__(self) -> str:\n",
    "        return f\"Student Name: {self.name}\\nAge: {self.age}\\nCourse: ({self.course})\"\n",
    "    \n",
    "sudent1 = Student(\"Abdullah\" , 22 , \"Python\")\n",
    "print(sudent1)\n"
   ]
  },
  {
   "cell_type": "code",
   "execution_count": 9,
   "metadata": {},
   "outputs": [
    {
     "name": "stdout",
     "output_type": "stream",
     "text": [
      "id no: 1 name: Abdullah salary: 10000\n",
      "id no: 2 name: Muhammad Iqbal salary: 20000\n",
      "30000\n",
      "-10000\n"
     ]
    }
   ],
   "source": [
    "class Employee:\n",
    "    def __init__(self, id_no : int , name : str , salary : int):\n",
    "        self.id_no = id_no\n",
    "        self.name = name\n",
    "        self.salary = salary\n",
    "\n",
    "    def __str__(self) -> str:\n",
    "        return f\"id no: {self.id_no} name: {self.name} salary: {self.salary}\"\n",
    "    \n",
    "    def __repr__(self) -> str:\n",
    "        return f\"id no: {self.id_no} name: {self.name} salary: {self.salary}\"\n",
    "    \n",
    "    def __add__(self , other):\n",
    "        return self.salary + other.salary\n",
    "    \n",
    "    def __sub__(self , other):\n",
    "        return self.salary - other.salary\n",
    "\n",
    "Employee1 : Employee = Employee(1 , \"Abdullah\" , 10000)\n",
    "Employee2 : Employee = Employee(2 , \"Muhammad Iqbal\" , 20000)\n",
    "print(Employee1)\n",
    "print(Employee2)\n",
    "print(Employee1 + Employee2)\n",
    "print(Employee1 - Employee2)"
   ]
  },
  {
   "cell_type": "markdown",
   "metadata": {},
   "source": [
    "### **Abstract Classes in Python**\n",
    "\n",
    "Abstract classes Python ki **object-oriented programming (OOP)** ka ek important concept hain. Ye aisi classes hoti hain jo **fully implemented** nahi hoti, aur sirf **blueprint** provide karti hain. Abstract classes ka kaam hai **guidelines aur structure** define karna jo derived classes ko follow karna hota hai.\n",
    "\n",
    "Python me abstract classes banane ke liye `abc` (Abstract Base Class) module ka use kiya jata hai.\n",
    "\n",
    "---\n",
    "\n",
    "### **Purpose of Abstract Classes**\n",
    "\n",
    "1. **Code Reusability**: Common methods aur properties ko abstract class me define karke unhe derived classes me reuse kiya ja sakta hai.\n",
    "2. **Guidelines**: Ye ensure karta hai ki sab derived classes ek specific interface ko implement karen.\n",
    "3. **Blueprint Creation**: Developer ko ek roadmap milta hai ki subclass me kya cheez implement karni hai.\n",
    "\n",
    "---\n",
    "\n",
    "### **Key Features**\n",
    "- Abstract class ka direct instance **create nahi kar sakte**.\n",
    "- Ek abstract class me ek ya zyada **abstract methods** hote hain.\n",
    "- Abstract method woh method hota hai jisme implementation nahi hoti, sirf declaration hota hai.\n",
    "\n",
    "---\n",
    "\n",
    "### **Syntax for Abstract Classes**\n",
    "\n",
    "```python\n",
    "from abc import ABC, abstractmethod\n",
    "\n",
    "class AbstractClassName(ABC):\n",
    "    @abstractmethod\n",
    "    def abstract_method_name(self):\n",
    "        pass\n",
    "```\n",
    "\n",
    "---\n",
    "\n",
    "### **Example 1: Abstract Class with One Abstract Method**\n",
    "\n",
    "```python\n",
    "from abc import ABC, abstractmethod\n",
    "\n",
    "# Abstract class\n",
    "class Animal(ABC):\n",
    "    @abstractmethod\n",
    "    def sound(self):\n",
    "        pass\n",
    "\n",
    "# Derived class\n",
    "class Dog(Animal):\n",
    "    def sound(self):\n",
    "        return \"Bark\"\n",
    "\n",
    "class Cat(Animal):\n",
    "    def sound(self):\n",
    "        return \"Meow\"\n",
    "\n",
    "# Usage\n",
    "dog = Dog()\n",
    "cat = Cat()\n",
    "\n",
    "print(dog.sound())  # Output: Bark\n",
    "print(cat.sound())  # Output: Meow\n",
    "```\n",
    "\n",
    "Yahan `Animal` ek abstract class hai, aur `sound()` ek abstract method hai. Har derived class ko `sound()` method implement karna zaruri hai.\n",
    "\n",
    "---\n",
    "\n",
    "### **Example 2: Abstract Class with Both Abstract and Concrete Methods**\n",
    "\n",
    "```python\n",
    "from abc import ABC, abstractmethod\n",
    "\n",
    "class Shape(ABC):\n",
    "    @abstractmethod\n",
    "    def area(self):\n",
    "        pass\n",
    "\n",
    "    @abstractmethod\n",
    "    def perimeter(self):\n",
    "        pass\n",
    "\n",
    "    def description(self):\n",
    "        return \"This is a shape\"\n",
    "\n",
    "class Rectangle(Shape):\n",
    "    def __init__(self, length, width):\n",
    "        self.length = length\n",
    "        self.width = width\n",
    "\n",
    "    def area(self):\n",
    "        return self.length * self.width\n",
    "\n",
    "    def perimeter(self):\n",
    "        return 2 * (self.length + self.width)\n",
    "\n",
    "# Usage\n",
    "rectangle = Rectangle(10, 5)\n",
    "print(rectangle.description())  # Output: This is a shape\n",
    "print(f\"Area: {rectangle.area()}\")       # Output: Area: 50\n",
    "print(f\"Perimeter: {rectangle.perimeter()}\")  # Output: Perimeter: 30\n",
    "```\n",
    "\n",
    "Yahan `Shape` abstract class me ek `description()` method concrete (implemented) hai, lekin `area()` aur `perimeter()` abstract hain, jo subclasses me implement karna zaroori hai.\n",
    "\n",
    "---\n",
    "\n",
    "### **Example 3: Abstract Class Direct Instantiation Error**\n",
    "\n",
    "```python\n",
    "shape = Shape()  # Raises TypeError: Can't instantiate abstract class Shape with abstract methods area, perimeter\n",
    "```\n",
    "\n",
    "Abstract class ka direct instance banane ki koshish karne par Python error deta hai.\n",
    "\n",
    "---\n",
    "\n",
    "### **Benefits of Abstract Classes**\n",
    "\n",
    "1. **Force Implementation**:\n",
    "   - Abstract methods ensure karte hain ki derived classes unhe implement karein, structure maintain rahe.\n",
    "   \n",
    "2. **Polymorphism**:\n",
    "   - Ek hi interface use karke multiple derived classes ka behavior customize kiya ja sakta hai.\n",
    "\n",
    "   ```python\n",
    "   def print_area(shape):\n",
    "       print(shape.area())\n",
    "\n",
    "   print_area(Rectangle(10, 5))  # Output: 50\n",
    "   ```\n",
    "\n",
    "3. **Clear Structure**:\n",
    "   - Developer ko samajhne me asani hoti hai ki kis class ka kya purpose hai aur usme kya cheez implement honi chahiye.\n",
    "\n",
    "---\n",
    "\n",
    "### **When to Use Abstract Classes**\n",
    "\n",
    "1. Jab aapko ek **blueprint** ya **guideline** provide karni ho jo subclasses ko follow karni pade.\n",
    "2. Jab aapko **common behavior** implement karna ho lekin specific details subclasses par chhodni ho.\n",
    "3. Jab aapko **polymorphism** implement karna ho.\n",
    "\n",
    "---\n",
    "\n",
    "### **Comparison: Abstract Class vs Interface**\n",
    "\n",
    "| **Feature**                | **Abstract Class**                 | **Interface (Python's Protocol)**      |\n",
    "|-----------------------------|-------------------------------------|-----------------------------------------|\n",
    "| **Purpose**                | Partial implementation allowed      | Only method signatures, no implementation |\n",
    "| **Concrete Methods**       | Allowed                             | Not allowed (unless using mix-ins)      |\n",
    "| **Inheritance**            | Single or Multiple inheritance      | Multiple inheritance                    |\n",
    "| **Usage**                  | Structure + Common Code             | Purely structural blueprint             |\n",
    "\n",
    "---\n",
    "\n",
    "### **Final Thoughts**\n",
    "Abstract classes Python me ek **guiding tool** hain, jo developers ko structure follow karne me madad dete hain. Ye **inheritance** aur **polymorphism** ke concept ko effectively implement karte hain aur code ko zyada reusable aur maintainable banate hain.\n",
    "\n",
    "Agar aap ek **50 saal ke expert** ki nazar se dekhein, toh abstract classes ek **framework** ki tarah kaam karti hain, jisme derived classes implement hoti hain, aur ye **modularity aur scalability** ensure karti hain."
   ]
  },
  {
   "cell_type": "code",
   "execution_count": null,
   "metadata": {},
   "outputs": [
    {
     "name": "stdout",
     "output_type": "stream",
     "text": [
      "50000\n"
     ]
    },
    {
     "data": {
      "text/plain": [
       "<bound method Manager.tax of <__main__.Manager object at 0x000001C32A262B70>>"
      ]
     },
     "execution_count": 23,
     "metadata": {},
     "output_type": "execute_result"
    }
   ],
   "source": [
    "from abc import ABC , abstractmethod\n",
    "class Employee(ABC):\n",
    "\n",
    "    @abstractmethod\n",
    "    def salary(self):\n",
    "        pass\n",
    "\n",
    "    @abstractmethod\n",
    "    def bonus(self):\n",
    "        pass\n",
    "\n",
    "    @abstractmethod\n",
    "    def tax(self):\n",
    "        pass\n",
    "\n",
    "class Manager(Employee):\n",
    "    def __init__(self, id_no: int , name: str , salary: int)->None:\n",
    "        self.id_no = id_no\n",
    "        self.name = name\n",
    "        self.salary = salary\n",
    "\n",
    "    def salary(self)->int:\n",
    "        return self.salary\n",
    "\n",
    "    def bonus(self)->int:\n",
    "        return self.salary * 0.1\n",
    "\n",
    "    def tax(self)->int:\n",
    "        return self.salary * 0.1\n",
    "    \n",
    "\n",
    "# class Developer(Employee):\n",
    "#     def __init__(self, id_no : int , name : str , salary : int)->None:\n",
    "#         self.id_no = id_no\n",
    "#         self.name = name\n",
    "#         self.salary = salary\n",
    "#         self.Department : str = \"IT Depart\"\n",
    "    \n",
    "#     def salary(self)->int:\n",
    "#         return self.salary\n",
    "\n",
    "#     def bonus(self)->int:\n",
    "#         return self.salary * 0.1\n",
    "\n",
    "#     def tax(self):\n",
    "#         return self.salary * 0.1\n",
    "    \n",
    "\n",
    "manager1 : Manager = Manager(1, \"Abdullah\" , 50000)\n",
    "print(manager1.salary)\n",
    "manager1.bonus\n",
    "manager1.tax"
   ]
  },
  {
   "cell_type": "code",
   "execution_count": 27,
   "metadata": {},
   "outputs": [
    {
     "name": "stdout",
     "output_type": "stream",
     "text": [
      "Salary: 50000\n",
      "Bonus: 5000.0\n",
      "Tax: 5000.0\n"
     ]
    }
   ],
   "source": [
    "from abc import ABC, abstractmethod\n",
    "\n",
    "class Employee(ABC):\n",
    "\n",
    "    @abstractmethod\n",
    "    def salary(self):\n",
    "        pass\n",
    "\n",
    "    @abstractmethod\n",
    "    def bonus(self):\n",
    "        pass\n",
    "\n",
    "    @abstractmethod\n",
    "    def tax(self):\n",
    "        pass\n",
    "\n",
    "class Manager(Employee):\n",
    "    def __init__(self, id_no: int, name: str, salary: int) -> None:\n",
    "        self.id_no = id_no\n",
    "        self.name = name\n",
    "        self._salary = salary\n",
    "\n",
    "    def salary(self):\n",
    "        return self._salary\n",
    "\n",
    "    def bonus(self):\n",
    "        return self._salary * 0.1\n",
    "\n",
    "    def tax(self):\n",
    "        return self._salary * 0.1\n",
    "        \n",
    "\n",
    "manager1: Manager = Manager(1, \"Abdullah\", 50000)\n",
    "\n",
    "# Print salary, bonus, and tax by calling methods\n",
    "print(\"Salary:\", manager1.salary())  # Output: Salary: 50000\n",
    "print(\"Bonus:\", manager1.bonus())    # Output: Bonus: 5000.0\n",
    "print(\"Tax:\", manager1.tax())        # Output: Tax: 5000.0\n"
   ]
  },
  {
   "cell_type": "markdown",
   "metadata": {},
   "source": [
    "\n",
    "---\n",
    "\n",
    "### **Encapsulation in Python**\n",
    "\n",
    "**Encapsulation** ka matlab hai data (attributes) aur methods ko ek single unit (class) mein wrap karna. Iska basic purpose hai object ki **internal state** ko **protect** karna aur usko **restrict** karna, taki wo directly access na ho.\n",
    "\n",
    "Isme hum do cheezein karte hain:\n",
    "\n",
    "1. **Private/Protected Attributes**: \n",
    "   - Attributes ko **private** ya **protected** banaya jata hai, taake direct access ko block kiya ja sake.\n",
    "   \n",
    "2. **Getter and Setter Methods**: \n",
    "   - Private attributes ko access karne ke liye **getter** aur **setter** methods provide kiye jate hain. Yeh methods values ko access karne aur modify karne ka controlled way provide karte hain.\n",
    "\n",
    "---\n",
    "\n",
    "### **Why Encapsulation?**\n",
    "- **Security**: Apne class ke internal data ko **protect** karte hain.\n",
    "- **Control**: Apne methods aur attributes ko **control** karte hain, jisse data corruption kam hoti hai.\n",
    "- **Ease of maintenance**: Agar aap class ka design change karte hain, toh sirf getter/setter methods ko update karna hota hai, directly data ko modify nahi karna padta.\n",
    "\n",
    "---\n",
    "\n",
    "### **Encapsulation Example**\n",
    "\n",
    "```python\n",
    "class Employee:\n",
    "    def __init__(self, name: str, salary: int) -> None:\n",
    "        self.__name = name       # Private attribute\n",
    "        self.__salary = salary   # Private attribute\n",
    "\n",
    "    # Getter method for name\n",
    "    def get_name(self) -> str:\n",
    "        return self.__name\n",
    "\n",
    "    # Setter method for name\n",
    "    def set_name(self, name: str) -> None:\n",
    "        self.__name = name\n",
    "\n",
    "    # Getter method for salary\n",
    "    def get_salary(self) -> int:\n",
    "        return self.__salary\n",
    "\n",
    "    # Setter method for salary\n",
    "    def set_salary(self, salary: int) -> None:\n",
    "        if salary > 0:  # Control: Ensure salary is positive\n",
    "            self.__salary = salary\n",
    "        else:\n",
    "            print(\"Salary must be positive!\")\n",
    "\n",
    "# Create an Employee object\n",
    "employee1 = Employee(\"Abdullah\", 50000)\n",
    "\n",
    "# Accessing private attributes through getter methods\n",
    "print(\"Employee Name:\", employee1.get_name())     # Output: Employee Name: Abdullah\n",
    "print(\"Employee Salary:\", employee1.get_salary()) # Output: Employee Salary: 50000\n",
    "\n",
    "# Modifying private attributes through setter methods\n",
    "employee1.set_name(\"Ali\")\n",
    "employee1.set_salary(60000)\n",
    "\n",
    "print(\"Updated Name:\", employee1.get_name())      # Output: Updated Name: Ali\n",
    "print(\"Updated Salary:\", employee1.get_salary())  # Output: Updated Salary: 60000\n",
    "\n",
    "# Trying to set an invalid salary\n",
    "employee1.set_salary(-100)  # Output: Salary must be positive!\n",
    "```\n",
    "\n",
    "---\n",
    "\n",
    "### **Explanation of the Code:**\n",
    "\n",
    "1. **Private Attributes** (`__name`, `__salary`):\n",
    "   - `__name` aur `__salary` private attributes hain, jo class ke bahar se directly access nahi kiye ja sakte.\n",
    "   - Python mein `__` (double underscore) lagane se attribute ko **private** banaya jata hai. Yeh Python ka convention hai, jo attribute ko class ke bahar access hone se rokta hai.\n",
    "\n",
    "2. **Getter Methods** (`get_name()`, `get_salary()`):\n",
    "   - Ye methods private attributes ko **read** karne ka ek safe way provide karte hain.\n",
    "   \n",
    "3. **Setter Methods** (`set_name()`, `set_salary()`):\n",
    "   - Ye methods private attributes ko **modify** karne ka controlled way provide karte hain.\n",
    "   - Humne `set_salary()` method mein ek **validation check** bhi lagaya hai, taki salary ko negative value na diya jaye.\n",
    "\n",
    "---\n",
    "\n",
    "### **Why Not Directly Access Attributes?**\n",
    "\n",
    "1. **Data Integrity**:\n",
    "   - Directly access karne se aap data ko directly modify kar sakte hain, jo errors ya unexpected behavior ka reason ban sakta hai. Getter and Setter methods ke through, aap data ko validate aur control kar sakte hain.\n",
    "\n",
    "2. **Flexibility**:\n",
    "   - Agar future mein aapko class ka internal implementation change karna ho (for example, salary ko calculate karne ka formula change karna), toh aapko sirf getter/setter methods ko update karna hoga. Aapke class ka external code jo methods use kar raha hai, wo unaffected rahega.\n",
    "\n",
    "---\n",
    "\n",
    "### **Real-World Analogy for Encapsulation**:\n",
    "\n",
    "Sochiye, ek bank account hai. Aap direct apne account balance ko change nahi kar sakte. Aapko **deposit** aur **withdraw** ke liye bank ke system ko use karna padta hai. Agar koi bhi user chahe, wo apne balance ko **manually change** nahi kar sakta. Yeh **encapsulation** hai, jo system ke andar internal data ko protect karta hai aur controlled access provide karta hai.\n",
    "\n",
    "---\n",
    "\n",
    "### **Public vs Private Attributes:**\n",
    "1. **Public Attributes**:\n",
    "   - Aap directly access kar sakte hain, jaise `obj.attribute`.\n",
    "   \n",
    "2. **Private Attributes**:\n",
    "   - Yeh attributes **directly** access nahi kiye ja sakte, lekin getter/setter methods ke through kiye ja sakte hain.\n",
    "\n",
    "---\n",
    "\n",
    "### **Conclusion**:\n",
    "**Encapsulation** se hum apne class ka internal data hide kar sakte hain aur **controlled access** provide karte hain, jo data integrity aur security ko ensure karta hai. Aapne jo **getter** aur **setter** methods dekhe, unhi se aap apne data ko manipulate kar sakte hain, bina directly attributes ko access kiye.\n",
    "\n",
    "Agar aapko kisi part mein confusion ho, toh zaroor batayein! 😊"
   ]
  }
 ],
 "metadata": {
  "kernelspec": {
   "display_name": "python12",
   "language": "python",
   "name": "python3"
  },
  "language_info": {
   "codemirror_mode": {
    "name": "ipython",
    "version": 3
   },
   "file_extension": ".py",
   "mimetype": "text/x-python",
   "name": "python",
   "nbconvert_exporter": "python",
   "pygments_lexer": "ipython3",
   "version": "3.12.7"
  }
 },
 "nbformat": 4,
 "nbformat_minor": 2
}
